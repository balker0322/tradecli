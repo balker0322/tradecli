{
 "cells": [
  {
   "cell_type": "code",
   "execution_count": null,
   "metadata": {},
   "outputs": [],
   "source": [
    "import src.strategy as strategy"
   ]
  },
  {
   "cell_type": "code",
   "execution_count": null,
   "metadata": {},
   "outputs": [],
   "source": [
    "cls = getattr(strategy, 'test_bot')\n",
    "bot = cls()\n",
    "bot.test_net  = False\n",
    "bot.back_test = False\n",
    "bot.stub_test = False\n",
    "bot.hyperopt  = False\n",
    "bot.account = 'binanceaccount1'\n",
    "bot.exchange_arg = 'binance'\n",
    "bot.pair = 'BTCUSDT'"
   ]
  },
  {
   "cell_type": "code",
   "execution_count": null,
   "metadata": {},
   "outputs": [],
   "source": [
    "bot.run()"
   ]
  },
  {
   "cell_type": "code",
   "execution_count": null,
   "metadata": {},
   "outputs": [],
   "source": [
    "from src.binance_futures import BinanceFutures"
   ]
  },
  {
   "cell_type": "code",
   "execution_count": null,
   "metadata": {},
   "outputs": [],
   "source": [
    "exchange = BinanceFutures(account='binanceaccount1', pair='BTCUSDT', demo=False)"
   ]
  },
  {
   "cell_type": "code",
   "execution_count": null,
   "metadata": {},
   "outputs": [],
   "source": [
    "x = exchange.get_futures_exchange_info()"
   ]
  },
  {
   "cell_type": "code",
   "execution_count": null,
   "metadata": {},
   "outputs": [],
   "source": [
    "import pandas as pd"
   ]
  },
  {
   "cell_type": "code",
   "execution_count": null,
   "metadata": {},
   "outputs": [],
   "source": [
    "col = ['a','b']"
   ]
  },
  {
   "cell_type": "code",
   "execution_count": null,
   "metadata": {},
   "outputs": [],
   "source": [
    "pd.DataFrame(columns=col)"
   ]
  },
  {
   "cell_type": "code",
   "execution_count": 11,
   "metadata": {},
   "outputs": [],
   "source": [
    "from screener.func import *"
   ]
  },
  {
   "cell_type": "code",
   "execution_count": 23,
   "metadata": {},
   "outputs": [
    {
     "name": "stderr",
     "output_type": "stream",
     "text": [
      "100%|██████████| 116/116 [00:20<00:00,  5.71it/s]\n"
     ]
    },
    {
     "data": {
      "text/html": [
       "<div>\n",
       "<style scoped>\n",
       "    .dataframe tbody tr th:only-of-type {\n",
       "        vertical-align: middle;\n",
       "    }\n",
       "\n",
       "    .dataframe tbody tr th {\n",
       "        vertical-align: top;\n",
       "    }\n",
       "\n",
       "    .dataframe thead th {\n",
       "        text-align: right;\n",
       "    }\n",
       "</style>\n",
       "<table border=\"1\" class=\"dataframe\">\n",
       "  <thead>\n",
       "    <tr style=\"text-align: right;\">\n",
       "      <th></th>\n",
       "      <th>pair</th>\n",
       "      <th>rsi_5m</th>\n",
       "    </tr>\n",
       "  </thead>\n",
       "  <tbody>\n",
       "    <tr>\n",
       "      <th>49</th>\n",
       "      <td>EGLDUSDT</td>\n",
       "      <td>21.447404</td>\n",
       "    </tr>\n",
       "    <tr>\n",
       "      <th>22</th>\n",
       "      <td>QTUMUSDT</td>\n",
       "      <td>25.222449</td>\n",
       "    </tr>\n",
       "    <tr>\n",
       "      <th>39</th>\n",
       "      <td>DOTUSDT</td>\n",
       "      <td>25.852838</td>\n",
       "    </tr>\n",
       "    <tr>\n",
       "      <th>3</th>\n",
       "      <td>XRPUSDT</td>\n",
       "      <td>27.298973</td>\n",
       "    </tr>\n",
       "    <tr>\n",
       "      <th>82</th>\n",
       "      <td>ANKRUSDT</td>\n",
       "      <td>27.620908</td>\n",
       "    </tr>\n",
       "    <tr>\n",
       "      <th>...</th>\n",
       "      <td>...</td>\n",
       "      <td>...</td>\n",
       "    </tr>\n",
       "    <tr>\n",
       "      <th>21</th>\n",
       "      <td>NEOUSDT</td>\n",
       "      <td>55.782351</td>\n",
       "    </tr>\n",
       "    <tr>\n",
       "      <th>83</th>\n",
       "      <td>LUNAUSDT</td>\n",
       "      <td>57.564680</td>\n",
       "    </tr>\n",
       "    <tr>\n",
       "      <th>16</th>\n",
       "      <td>ATOMUSDT</td>\n",
       "      <td>58.413688</td>\n",
       "    </tr>\n",
       "    <tr>\n",
       "      <th>71</th>\n",
       "      <td>BELUSDT</td>\n",
       "      <td>62.970824</td>\n",
       "    </tr>\n",
       "    <tr>\n",
       "      <th>73</th>\n",
       "      <td>AXSUSDT</td>\n",
       "      <td>67.451202</td>\n",
       "    </tr>\n",
       "  </tbody>\n",
       "</table>\n",
       "<p>113 rows × 2 columns</p>\n",
       "</div>"
      ],
      "text/plain": [
       "        pair     rsi_5m\n",
       "49  EGLDUSDT  21.447404\n",
       "22  QTUMUSDT  25.222449\n",
       "39   DOTUSDT  25.852838\n",
       "3    XRPUSDT  27.298973\n",
       "82  ANKRUSDT  27.620908\n",
       "..       ...        ...\n",
       "21   NEOUSDT  55.782351\n",
       "83  LUNAUSDT  57.564680\n",
       "16  ATOMUSDT  58.413688\n",
       "71   BELUSDT  62.970824\n",
       "73   AXSUSDT  67.451202\n",
       "\n",
       "[113 rows x 2 columns]"
      ]
     },
     "execution_count": 23,
     "metadata": {},
     "output_type": "execute_result"
    }
   ],
   "source": [
    "get_crypto_df(indicator=['rsi_5m']).sort_values(by='rsi_5m', ascending=True)"
   ]
  },
  {
   "cell_type": "code",
   "execution_count": 15,
   "metadata": {},
   "outputs": [
    {
     "output_type": "stream",
     "name": "stderr",
     "text": [
      "100%|██████████| 116/116 [00:29<00:00,  3.88it/s]\n"
     ]
    },
    {
     "output_type": "execute_result",
     "data": {
      "text/plain": [
       "          pair     rsi_1h\n",
       "95    HBARUSDT  16.373831\n",
       "23   THETAUSDT  22.690178\n",
       "41     CRVUSDT  22.776765\n",
       "54    AVAXUSDT  24.414735\n",
       "56     HNTUSDT  25.114309\n",
       "..         ...        ...\n",
       "71     CTKUSDT  54.412236\n",
       "35   WAVESUSDT  57.167180\n",
       "72     AXSUSDT  58.679627\n",
       "51   STORJUSDT  60.429509\n",
       "102    MTLUSDT  69.382872\n",
       "\n",
       "[112 rows x 2 columns]"
      ],
      "text/html": "<div>\n<style scoped>\n    .dataframe tbody tr th:only-of-type {\n        vertical-align: middle;\n    }\n\n    .dataframe tbody tr th {\n        vertical-align: top;\n    }\n\n    .dataframe thead th {\n        text-align: right;\n    }\n</style>\n<table border=\"1\" class=\"dataframe\">\n  <thead>\n    <tr style=\"text-align: right;\">\n      <th></th>\n      <th>pair</th>\n      <th>rsi_1h</th>\n    </tr>\n  </thead>\n  <tbody>\n    <tr>\n      <th>95</th>\n      <td>HBARUSDT</td>\n      <td>16.373831</td>\n    </tr>\n    <tr>\n      <th>23</th>\n      <td>THETAUSDT</td>\n      <td>22.690178</td>\n    </tr>\n    <tr>\n      <th>41</th>\n      <td>CRVUSDT</td>\n      <td>22.776765</td>\n    </tr>\n    <tr>\n      <th>54</th>\n      <td>AVAXUSDT</td>\n      <td>24.414735</td>\n    </tr>\n    <tr>\n      <th>56</th>\n      <td>HNTUSDT</td>\n      <td>25.114309</td>\n    </tr>\n    <tr>\n      <th>...</th>\n      <td>...</td>\n      <td>...</td>\n    </tr>\n    <tr>\n      <th>71</th>\n      <td>CTKUSDT</td>\n      <td>54.412236</td>\n    </tr>\n    <tr>\n      <th>35</th>\n      <td>WAVESUSDT</td>\n      <td>57.167180</td>\n    </tr>\n    <tr>\n      <th>72</th>\n      <td>AXSUSDT</td>\n      <td>58.679627</td>\n    </tr>\n    <tr>\n      <th>51</th>\n      <td>STORJUSDT</td>\n      <td>60.429509</td>\n    </tr>\n    <tr>\n      <th>102</th>\n      <td>MTLUSDT</td>\n      <td>69.382872</td>\n    </tr>\n  </tbody>\n</table>\n<p>112 rows × 2 columns</p>\n</div>"
     },
     "metadata": {},
     "execution_count": 15
    }
   ],
   "source": [
    "# pairs = get_all_pairs()\n",
    "# x = get_crypto_df(pairs=pairs)\n",
    "x = get_crypto_df(indicator=['rsi_1h'])\n",
    "x.sort_values(by='rsi_1h', ascending=True)"
   ]
  },
  {
   "cell_type": "code",
   "execution_count": 14,
   "metadata": {},
   "outputs": [
    {
     "output_type": "execute_result",
     "data": {
      "text/plain": [
       "          pair     rsi_1m     rsi_5m    rsi_15m    rsi_30m     rsi_1h  \\\n",
       "95    HBARUSDT  42.202569  43.013560  49.485135  28.985004  27.482481   \n",
       "56     HNTUSDT  45.032263  35.287275  35.563920  29.224525  32.433039   \n",
       "23   THETAUSDT  62.039313  43.089307  47.652661  29.328854  33.673209   \n",
       "12     ZECUSDT  74.102335  51.437697  59.294906  44.265240  34.528344   \n",
       "41     CRVUSDT  56.184670  58.674705  62.450808  40.932346  35.161578   \n",
       "..         ...        ...        ...        ...        ...        ...   \n",
       "58     FLMUSDT  36.165441  53.774100  74.939370  71.464783  63.212117   \n",
       "35   WAVESUSDT  88.641784  75.986398  89.066030  70.277998  65.598758   \n",
       "72     AXSUSDT  26.924987  46.306079  61.800189  59.308307  66.416889   \n",
       "51   STORJUSDT  51.779180  33.971759  53.520617  57.431026  68.310650   \n",
       "102    MTLUSDT  53.604678  43.646460  66.879198  57.176699  70.941259   \n",
       "\n",
       "        rsi_1d  \n",
       "95   50.944155  \n",
       "56   49.517897  \n",
       "23   24.858644  \n",
       "12   45.894179  \n",
       "41   45.128652  \n",
       "..         ...  \n",
       "58   35.322766  \n",
       "35   56.628156  \n",
       "72   79.504138  \n",
       "51   58.130819  \n",
       "102  57.564802  \n",
       "\n",
       "[112 rows x 7 columns]"
      ],
      "text/html": "<div>\n<style scoped>\n    .dataframe tbody tr th:only-of-type {\n        vertical-align: middle;\n    }\n\n    .dataframe tbody tr th {\n        vertical-align: top;\n    }\n\n    .dataframe thead th {\n        text-align: right;\n    }\n</style>\n<table border=\"1\" class=\"dataframe\">\n  <thead>\n    <tr style=\"text-align: right;\">\n      <th></th>\n      <th>pair</th>\n      <th>rsi_1m</th>\n      <th>rsi_5m</th>\n      <th>rsi_15m</th>\n      <th>rsi_30m</th>\n      <th>rsi_1h</th>\n      <th>rsi_1d</th>\n    </tr>\n  </thead>\n  <tbody>\n    <tr>\n      <th>95</th>\n      <td>HBARUSDT</td>\n      <td>42.202569</td>\n      <td>43.013560</td>\n      <td>49.485135</td>\n      <td>28.985004</td>\n      <td>27.482481</td>\n      <td>50.944155</td>\n    </tr>\n    <tr>\n      <th>56</th>\n      <td>HNTUSDT</td>\n      <td>45.032263</td>\n      <td>35.287275</td>\n      <td>35.563920</td>\n      <td>29.224525</td>\n      <td>32.433039</td>\n      <td>49.517897</td>\n    </tr>\n    <tr>\n      <th>23</th>\n      <td>THETAUSDT</td>\n      <td>62.039313</td>\n      <td>43.089307</td>\n      <td>47.652661</td>\n      <td>29.328854</td>\n      <td>33.673209</td>\n      <td>24.858644</td>\n    </tr>\n    <tr>\n      <th>12</th>\n      <td>ZECUSDT</td>\n      <td>74.102335</td>\n      <td>51.437697</td>\n      <td>59.294906</td>\n      <td>44.265240</td>\n      <td>34.528344</td>\n      <td>45.894179</td>\n    </tr>\n    <tr>\n      <th>41</th>\n      <td>CRVUSDT</td>\n      <td>56.184670</td>\n      <td>58.674705</td>\n      <td>62.450808</td>\n      <td>40.932346</td>\n      <td>35.161578</td>\n      <td>45.128652</td>\n    </tr>\n    <tr>\n      <th>...</th>\n      <td>...</td>\n      <td>...</td>\n      <td>...</td>\n      <td>...</td>\n      <td>...</td>\n      <td>...</td>\n      <td>...</td>\n    </tr>\n    <tr>\n      <th>58</th>\n      <td>FLMUSDT</td>\n      <td>36.165441</td>\n      <td>53.774100</td>\n      <td>74.939370</td>\n      <td>71.464783</td>\n      <td>63.212117</td>\n      <td>35.322766</td>\n    </tr>\n    <tr>\n      <th>35</th>\n      <td>WAVESUSDT</td>\n      <td>88.641784</td>\n      <td>75.986398</td>\n      <td>89.066030</td>\n      <td>70.277998</td>\n      <td>65.598758</td>\n      <td>56.628156</td>\n    </tr>\n    <tr>\n      <th>72</th>\n      <td>AXSUSDT</td>\n      <td>26.924987</td>\n      <td>46.306079</td>\n      <td>61.800189</td>\n      <td>59.308307</td>\n      <td>66.416889</td>\n      <td>79.504138</td>\n    </tr>\n    <tr>\n      <th>51</th>\n      <td>STORJUSDT</td>\n      <td>51.779180</td>\n      <td>33.971759</td>\n      <td>53.520617</td>\n      <td>57.431026</td>\n      <td>68.310650</td>\n      <td>58.130819</td>\n    </tr>\n    <tr>\n      <th>102</th>\n      <td>MTLUSDT</td>\n      <td>53.604678</td>\n      <td>43.646460</td>\n      <td>66.879198</td>\n      <td>57.176699</td>\n      <td>70.941259</td>\n      <td>57.564802</td>\n    </tr>\n  </tbody>\n</table>\n<p>112 rows × 7 columns</p>\n</div>"
     },
     "metadata": {},
     "execution_count": 14
    }
   ],
   "source": [
    "x.sort_values(by='rsi_1h', ascending=True)"
   ]
  },
  {
   "cell_type": "code",
   "execution_count": null,
   "metadata": {},
   "outputs": [],
   "source": [
    "x[4].iloc[-1]"
   ]
  },
  {
   "cell_type": "code",
   "execution_count": null,
   "metadata": {},
   "outputs": [],
   "source": [
    "[q for q in x]"
   ]
  },
  {
   "cell_type": "code",
   "execution_count": null,
   "metadata": {},
   "outputs": [],
   "source": [
    "exchange_info = x"
   ]
  },
  {
   "cell_type": "code",
   "execution_count": null,
   "metadata": {},
   "outputs": [],
   "source": [
    "pairs = [symbol_info['symbol'] for symbol_info in exchange_info['symbols'] if symbol_info['symbol'][-4:]=='USDT']"
   ]
  },
  {
   "cell_type": "code",
   "execution_count": null,
   "metadata": {},
   "outputs": [],
   "source": [
    "pairs"
   ]
  },
  {
   "cell_type": "code",
   "execution_count": null,
   "metadata": {},
   "outputs": [],
   "source": [
    "x = client.get_exchange_info()"
   ]
  },
  {
   "cell_type": "code",
   "execution_count": null,
   "metadata": {},
   "outputs": [],
   "source": [
    "[q['symbol'] for q in x['symbols'] if q['isMarginTradingAllowed']==True and q['symbol'][-4:]=='USDT']"
   ]
  },
  {
   "cell_type": "code",
   "execution_count": null,
   "metadata": {},
   "outputs": [],
   "source": [
    "x['symbols'][0]"
   ]
  },
  {
   "cell_type": "code",
   "execution_count": null,
   "metadata": {},
   "outputs": [],
   "source": [
    "[q['symbol'] for q in x['symbols'] if q['contractType']=='PERPETUAL' and q['symbol'][-4:]=='USDT']"
   ]
  }
 ],
 "metadata": {
  "interpreter": {
   "hash": "7177d64566fc45fea1f90137e880bab6d2acea3a018929f123d8937510dd0912"
  },
  "kernelspec": {
   "name": "python3",
   "display_name": "Python 3.9.2 64-bit ('venv': venv)"
  },
  "language_info": {
   "codemirror_mode": {
    "name": "ipython",
    "version": 3
   },
   "file_extension": ".py",
   "mimetype": "text/x-python",
   "name": "python",
   "nbconvert_exporter": "python",
   "pygments_lexer": "ipython3",
   "version": "3.9.2"
  },
  "metadata": {
   "interpreter": {
    "hash": "7177d64566fc45fea1f90137e880bab6d2acea3a018929f123d8937510dd0912"
   }
  },
  "orig_nbformat": 2
 },
 "nbformat": 4,
 "nbformat_minor": 2
}