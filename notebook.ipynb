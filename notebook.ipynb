{
 "cells": [
  {
   "cell_type": "code",
   "execution_count": null,
   "metadata": {},
   "outputs": [],
   "source": [
    "import src.strategy as strategy"
   ]
  },
  {
   "cell_type": "code",
   "execution_count": null,
   "metadata": {},
   "outputs": [],
   "source": [
    "cls = getattr(strategy, 'test_bot')\n",
    "bot = cls()\n",
    "bot.test_net  = False\n",
    "bot.back_test = False\n",
    "bot.stub_test = False\n",
    "bot.hyperopt  = False\n",
    "bot.account = 'binanceaccount1'\n",
    "bot.exchange_arg = 'binance'\n",
    "bot.pair = 'BTCUSDT'"
   ]
  },
  {
   "cell_type": "code",
   "execution_count": null,
   "metadata": {},
   "outputs": [],
   "source": [
    "bot.run()"
   ]
  },
  {
   "cell_type": "code",
   "execution_count": null,
   "metadata": {},
   "outputs": [],
   "source": [
    "from src.binance_futures import BinanceFutures"
   ]
  },
  {
   "cell_type": "code",
   "execution_count": null,
   "metadata": {},
   "outputs": [],
   "source": [
    "exchange = BinanceFutures(account='binanceaccount1', pair='BTCUSDT', demo=False)"
   ]
  },
  {
   "cell_type": "code",
   "execution_count": null,
   "metadata": {},
   "outputs": [],
   "source": [
    "x = exchange.get_futures_exchange_info()"
   ]
  },
  {
   "cell_type": "code",
   "execution_count": null,
   "metadata": {},
   "outputs": [],
   "source": [
    "import pandas as pd"
   ]
  },
  {
   "cell_type": "code",
   "execution_count": null,
   "metadata": {},
   "outputs": [],
   "source": [
    "col = ['a','b']"
   ]
  },
  {
   "cell_type": "code",
   "execution_count": null,
   "metadata": {},
   "outputs": [],
   "source": [
    "pd.DataFrame(columns=col)"
   ]
  },
  {
   "cell_type": "code",
   "execution_count": 1,
   "metadata": {},
   "outputs": [],
   "source": [
    "from screener.func import *"
   ]
  },
  {
   "cell_type": "code",
   "execution_count": 2,
   "metadata": {},
   "outputs": [
    {
     "name": "stderr",
     "output_type": "stream",
     "text": [
      "100%|██████████| 116/116 [02:02<00:00,  1.05s/it]\n"
     ]
    }
   ],
   "source": [
    "# pairs = get_all_pairs()\n",
    "# x = get_crypto_df(pairs=pairs)\n",
    "x = get_crypto_df()"
   ]
  },
  {
   "cell_type": "code",
   "execution_count": 3,
   "metadata": {},
   "outputs": [
    {
     "data": {
      "text/html": [
       "<div>\n",
       "<style scoped>\n",
       "    .dataframe tbody tr th:only-of-type {\n",
       "        vertical-align: middle;\n",
       "    }\n",
       "\n",
       "    .dataframe tbody tr th {\n",
       "        vertical-align: top;\n",
       "    }\n",
       "\n",
       "    .dataframe thead th {\n",
       "        text-align: right;\n",
       "    }\n",
       "</style>\n",
       "<table border=\"1\" class=\"dataframe\">\n",
       "  <thead>\n",
       "    <tr style=\"text-align: right;\">\n",
       "      <th></th>\n",
       "      <th>pair</th>\n",
       "      <th>rsi_1m</th>\n",
       "      <th>rsi_5m</th>\n",
       "      <th>rsi_15m</th>\n",
       "      <th>rsi_30m</th>\n",
       "      <th>rsi_1h</th>\n",
       "      <th>rsi_1d</th>\n",
       "    </tr>\n",
       "  </thead>\n",
       "  <tbody>\n",
       "    <tr>\n",
       "      <th>0</th>\n",
       "      <td>BTCUSDT</td>\n",
       "      <td>74.598358</td>\n",
       "      <td>64.732140</td>\n",
       "      <td>39.522026</td>\n",
       "      <td>33.732867</td>\n",
       "      <td>24.244790</td>\n",
       "      <td>47.393150</td>\n",
       "    </tr>\n",
       "    <tr>\n",
       "      <th>112</th>\n",
       "      <td>KEEPUSDT</td>\n",
       "      <td>60.564526</td>\n",
       "      <td>72.970161</td>\n",
       "      <td>49.324574</td>\n",
       "      <td>31.787933</td>\n",
       "      <td>28.586283</td>\n",
       "      <td>20.181625</td>\n",
       "    </tr>\n",
       "    <tr>\n",
       "      <th>24</th>\n",
       "      <td>THETAUSDT</td>\n",
       "      <td>71.721441</td>\n",
       "      <td>63.095857</td>\n",
       "      <td>39.683698</td>\n",
       "      <td>34.485095</td>\n",
       "      <td>29.369708</td>\n",
       "      <td>29.227601</td>\n",
       "    </tr>\n",
       "    <tr>\n",
       "      <th>31</th>\n",
       "      <td>DOGEUSDT</td>\n",
       "      <td>76.892165</td>\n",
       "      <td>72.092528</td>\n",
       "      <td>46.172186</td>\n",
       "      <td>34.853743</td>\n",
       "      <td>30.107302</td>\n",
       "      <td>44.481911</td>\n",
       "    </tr>\n",
       "    <tr>\n",
       "      <th>106</th>\n",
       "      <td>NKNUSDT</td>\n",
       "      <td>59.231559</td>\n",
       "      <td>66.310053</td>\n",
       "      <td>48.602763</td>\n",
       "      <td>32.506682</td>\n",
       "      <td>30.588011</td>\n",
       "      <td>35.210405</td>\n",
       "    </tr>\n",
       "    <tr>\n",
       "      <th>...</th>\n",
       "      <td>...</td>\n",
       "      <td>...</td>\n",
       "      <td>...</td>\n",
       "      <td>...</td>\n",
       "      <td>...</td>\n",
       "      <td>...</td>\n",
       "      <td>...</td>\n",
       "    </tr>\n",
       "    <tr>\n",
       "      <th>60</th>\n",
       "      <td>TOMOUSDT</td>\n",
       "      <td>68.728906</td>\n",
       "      <td>64.472235</td>\n",
       "      <td>59.665942</td>\n",
       "      <td>51.297206</td>\n",
       "      <td>57.671221</td>\n",
       "      <td>52.293358</td>\n",
       "    </tr>\n",
       "    <tr>\n",
       "      <th>69</th>\n",
       "      <td>OCEANUSDT</td>\n",
       "      <td>87.612331</td>\n",
       "      <td>86.757588</td>\n",
       "      <td>69.951089</td>\n",
       "      <td>59.635865</td>\n",
       "      <td>58.183876</td>\n",
       "      <td>47.261928</td>\n",
       "    </tr>\n",
       "    <tr>\n",
       "      <th>70</th>\n",
       "      <td>CVCUSDT</td>\n",
       "      <td>34.768679</td>\n",
       "      <td>59.911892</td>\n",
       "      <td>58.254121</td>\n",
       "      <td>60.504398</td>\n",
       "      <td>62.108441</td>\n",
       "      <td>56.674010</td>\n",
       "    </tr>\n",
       "    <tr>\n",
       "      <th>103</th>\n",
       "      <td>MTLUSDT</td>\n",
       "      <td>71.488908</td>\n",
       "      <td>79.099742</td>\n",
       "      <td>52.892320</td>\n",
       "      <td>61.594578</td>\n",
       "      <td>63.565740</td>\n",
       "      <td>51.182539</td>\n",
       "    </tr>\n",
       "    <tr>\n",
       "      <th>73</th>\n",
       "      <td>AXSUSDT</td>\n",
       "      <td>65.075000</td>\n",
       "      <td>66.553288</td>\n",
       "      <td>73.978368</td>\n",
       "      <td>65.309921</td>\n",
       "      <td>76.469267</td>\n",
       "      <td>65.507753</td>\n",
       "    </tr>\n",
       "  </tbody>\n",
       "</table>\n",
       "<p>113 rows × 7 columns</p>\n",
       "</div>"
      ],
      "text/plain": [
       "          pair     rsi_1m     rsi_5m    rsi_15m    rsi_30m     rsi_1h  \\\n",
       "0      BTCUSDT  74.598358  64.732140  39.522026  33.732867  24.244790   \n",
       "112   KEEPUSDT  60.564526  72.970161  49.324574  31.787933  28.586283   \n",
       "24   THETAUSDT  71.721441  63.095857  39.683698  34.485095  29.369708   \n",
       "31    DOGEUSDT  76.892165  72.092528  46.172186  34.853743  30.107302   \n",
       "106    NKNUSDT  59.231559  66.310053  48.602763  32.506682  30.588011   \n",
       "..         ...        ...        ...        ...        ...        ...   \n",
       "60    TOMOUSDT  68.728906  64.472235  59.665942  51.297206  57.671221   \n",
       "69   OCEANUSDT  87.612331  86.757588  69.951089  59.635865  58.183876   \n",
       "70     CVCUSDT  34.768679  59.911892  58.254121  60.504398  62.108441   \n",
       "103    MTLUSDT  71.488908  79.099742  52.892320  61.594578  63.565740   \n",
       "73     AXSUSDT  65.075000  66.553288  73.978368  65.309921  76.469267   \n",
       "\n",
       "        rsi_1d  \n",
       "0    47.393150  \n",
       "112  20.181625  \n",
       "24   29.227601  \n",
       "31   44.481911  \n",
       "106  35.210405  \n",
       "..         ...  \n",
       "60   52.293358  \n",
       "69   47.261928  \n",
       "70   56.674010  \n",
       "103  51.182539  \n",
       "73   65.507753  \n",
       "\n",
       "[113 rows x 7 columns]"
      ]
     },
     "execution_count": 3,
     "metadata": {},
     "output_type": "execute_result"
    }
   ],
   "source": [
    "x.sort_values(by='rsi_1h', ascending=True)"
   ]
  },
  {
   "cell_type": "code",
   "execution_count": null,
   "metadata": {},
   "outputs": [],
   "source": [
    "x[4].iloc[-1]"
   ]
  },
  {
   "cell_type": "code",
   "execution_count": null,
   "metadata": {},
   "outputs": [],
   "source": [
    "[q for q in x]"
   ]
  },
  {
   "cell_type": "code",
   "execution_count": null,
   "metadata": {},
   "outputs": [],
   "source": [
    "exchange_info = x"
   ]
  },
  {
   "cell_type": "code",
   "execution_count": null,
   "metadata": {},
   "outputs": [],
   "source": [
    "pairs = [symbol_info['symbol'] for symbol_info in exchange_info['symbols'] if symbol_info['symbol'][-4:]=='USDT']"
   ]
  },
  {
   "cell_type": "code",
   "execution_count": null,
   "metadata": {},
   "outputs": [],
   "source": [
    "pairs"
   ]
  },
  {
   "cell_type": "code",
   "execution_count": null,
   "metadata": {},
   "outputs": [],
   "source": [
    "x = client.get_exchange_info()"
   ]
  },
  {
   "cell_type": "code",
   "execution_count": null,
   "metadata": {},
   "outputs": [],
   "source": [
    "[q['symbol'] for q in x['symbols'] if q['isMarginTradingAllowed']==True and q['symbol'][-4:]=='USDT']"
   ]
  },
  {
   "cell_type": "code",
   "execution_count": null,
   "metadata": {},
   "outputs": [],
   "source": [
    "x['symbols'][0]"
   ]
  },
  {
   "cell_type": "code",
   "execution_count": null,
   "metadata": {},
   "outputs": [],
   "source": [
    "[q['symbol'] for q in x['symbols'] if q['contractType']=='PERPETUAL' and q['symbol'][-4:]=='USDT']"
   ]
  }
 ],
 "metadata": {
  "interpreter": {
   "hash": "2554e3954a55011ec49b9ed6ab087f3d10e15c744110fb59f3cc88c1f24fb9b6"
  },
  "kernelspec": {
   "display_name": "Python 3.6.5 64-bit",
   "name": "python3"
  },
  "language_info": {
   "codemirror_mode": {
    "name": "ipython",
    "version": 3
   },
   "file_extension": ".py",
   "mimetype": "text/x-python",
   "name": "python",
   "nbconvert_exporter": "python",
   "pygments_lexer": "ipython3",
   "version": "3.6.5"
  },
  "metadata": {
   "interpreter": {
    "hash": "7177d64566fc45fea1f90137e880bab6d2acea3a018929f123d8937510dd0912"
   }
  },
  "orig_nbformat": 2
 },
 "nbformat": 4,
 "nbformat_minor": 2
}