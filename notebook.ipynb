{
 "metadata": {
  "language_info": {
   "codemirror_mode": {
    "name": "ipython",
    "version": 3
   },
   "file_extension": ".py",
   "mimetype": "text/x-python",
   "name": "python",
   "nbconvert_exporter": "python",
   "pygments_lexer": "ipython3",
   "version": "3.9.2"
  },
  "orig_nbformat": 2,
  "kernelspec": {
   "name": "python3",
   "display_name": "Python 3.9.2 64-bit ('venv': venv)"
  },
  "metadata": {
   "interpreter": {
    "hash": "7177d64566fc45fea1f90137e880bab6d2acea3a018929f123d8937510dd0912"
   }
  },
  "interpreter": {
   "hash": "7177d64566fc45fea1f90137e880bab6d2acea3a018929f123d8937510dd0912"
  }
 },
 "nbformat": 4,
 "nbformat_minor": 2,
 "cells": [
  {
   "cell_type": "code",
   "execution_count": null,
   "metadata": {},
   "outputs": [],
   "source": [
    "import src.strategy as strategy"
   ]
  },
  {
   "cell_type": "code",
   "execution_count": null,
   "metadata": {},
   "outputs": [],
   "source": [
    "cls = getattr(strategy, 'test_bot')\n",
    "bot = cls()\n",
    "bot.test_net  = False\n",
    "bot.back_test = False\n",
    "bot.stub_test = False\n",
    "bot.hyperopt  = False\n",
    "bot.account = 'binanceaccount1'\n",
    "bot.exchange_arg = 'binance'\n",
    "bot.pair = 'BTCUSDT'"
   ]
  },
  {
   "cell_type": "code",
   "execution_count": null,
   "metadata": {},
   "outputs": [],
   "source": [
    "bot.run()"
   ]
  },
  {
   "cell_type": "code",
   "execution_count": null,
   "metadata": {},
   "outputs": [],
   "source": [
    "from src.binance_futures import BinanceFutures"
   ]
  },
  {
   "cell_type": "code",
   "execution_count": null,
   "metadata": {},
   "outputs": [],
   "source": [
    "exchange = BinanceFutures(account='binanceaccount1', pair='BTCUSDT', demo=False)"
   ]
  },
  {
   "source": [
    "x = exchange.get_futures_exchange_info()"
   ],
   "cell_type": "code",
   "metadata": {},
   "execution_count": null,
   "outputs": []
  },
  {
   "cell_type": "code",
   "execution_count": null,
   "metadata": {},
   "outputs": [],
   "source": []
  }
 ]
}