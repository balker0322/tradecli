{
 "metadata": {
  "language_info": {
   "codemirror_mode": {
    "name": "ipython",
    "version": 3
   },
   "file_extension": ".py",
   "mimetype": "text/x-python",
   "name": "python",
   "nbconvert_exporter": "python",
   "pygments_lexer": "ipython3",
   "version": "3.9.2"
  },
  "orig_nbformat": 2,
  "kernelspec": {
   "name": "python3",
   "display_name": "Python 3.9.2 64-bit ('venv': venv)"
  },
  "metadata": {
   "interpreter": {
    "hash": "7177d64566fc45fea1f90137e880bab6d2acea3a018929f123d8937510dd0912"
   }
  },
  "interpreter": {
   "hash": "7177d64566fc45fea1f90137e880bab6d2acea3a018929f123d8937510dd0912"
  }
 },
 "nbformat": 4,
 "nbformat_minor": 2,
 "cells": [
  {
   "cell_type": "code",
   "execution_count": null,
   "metadata": {},
   "outputs": [],
   "source": [
    "import src.strategy as strategy"
   ]
  },
  {
   "cell_type": "code",
   "execution_count": null,
   "metadata": {},
   "outputs": [],
   "source": [
    "cls = getattr(strategy, 'test_bot')\n",
    "bot = cls()\n",
    "bot.test_net  = False\n",
    "bot.back_test = False\n",
    "bot.stub_test = False\n",
    "bot.hyperopt  = False\n",
    "bot.account = 'binanceaccount1'\n",
    "bot.exchange_arg = 'binance'\n",
    "bot.pair = 'BTCUSDT'"
   ]
  },
  {
   "cell_type": "code",
   "execution_count": null,
   "metadata": {},
   "outputs": [],
   "source": [
    "bot.run()"
   ]
  },
  {
   "cell_type": "code",
   "execution_count": null,
   "metadata": {},
   "outputs": [],
   "source": [
    "from src.binance_futures import BinanceFutures"
   ]
  },
  {
   "cell_type": "code",
   "execution_count": null,
   "metadata": {},
   "outputs": [],
   "source": [
    "exchange = BinanceFutures(account='binanceaccount1', pair='BTCUSDT', demo=False)"
   ]
  },
  {
   "source": [
    "x = exchange.get_futures_exchange_info()"
   ],
   "cell_type": "code",
   "metadata": {},
   "execution_count": null,
   "outputs": []
  },
  {
   "cell_type": "code",
   "execution_count": null,
   "metadata": {},
   "outputs": [],
   "source": [
    "import pandas as pd"
   ]
  },
  {
   "cell_type": "code",
   "execution_count": null,
   "metadata": {},
   "outputs": [],
   "source": [
    "col = ['a','b']"
   ]
  },
  {
   "cell_type": "code",
   "execution_count": null,
   "metadata": {},
   "outputs": [],
   "source": [
    "pd.DataFrame(columns=col)"
   ]
  },
  {
   "cell_type": "code",
   "execution_count": 1,
   "metadata": {},
   "outputs": [],
   "source": [
    "from screener.func import *"
   ]
  },
  {
   "cell_type": "code",
   "execution_count": 2,
   "metadata": {},
   "outputs": [
    {
     "output_type": "stream",
     "name": "stderr",
     "text": [
      "100%|██████████| 41/41 [01:06<00:00,  1.61s/it]\n"
     ]
    }
   ],
   "source": [
    "pairs = get_all_pairs()\n",
    "x = get_crypto_df()"
   ]
  },
  {
   "cell_type": "code",
   "execution_count": 10,
   "metadata": {},
   "outputs": [
    {
     "output_type": "execute_result",
     "data": {
      "text/plain": [
       "         pair     rsi_1m     rsi_5m    rsi_15m    rsi_30m     rsi_1h  \\\n",
       "24   ATOMUSDT  71.721191  67.765564  75.387128  80.767671  86.736193   \n",
       "20    OMGUSDT  76.305704  68.252113  72.613333  71.720135  85.858075   \n",
       "23  MATICUSDT  50.492802  60.991138  76.152691  90.080270  85.602920   \n",
       "7     XRPUSDT  50.458777  51.790324  75.304132  77.957937  83.602017   \n",
       "12    VETUSDT  56.093281  64.452929  78.617639  83.520769  83.425637   \n",
       "26   DOGEUSDT  50.276705  60.753014  78.846426  91.788482  82.926585   \n",
       "10    XLMUSDT  72.364873  72.768658  80.683418  81.643147  82.647635   \n",
       "18   DASHUSDT  79.761714  64.207371  74.173694  74.831873  82.325055   \n",
       "2     BNBUSDT  76.323333  74.736697  75.571689  79.913627  81.144503   \n",
       "16    HOTUSDT  70.659866  77.040140  81.090512  82.414157  81.054130   \n",
       "33    FILUSDT  87.188766  81.751145  80.617282  83.461121  80.946132   \n",
       "29    RVNUSDT  53.407312  79.500678  86.415575  84.014178  80.800290   \n",
       "21  THETAUSDT  40.440486  59.842388  58.976242  76.107305  79.733575   \n",
       "25   ALGOUSDT  66.463690  47.939489  55.987473  64.433932  79.517524   \n",
       "9    IOTAUSDT  51.810262  63.227581  63.660943  78.563824  78.740076   \n",
       "6     ADAUSDT  51.285388  63.342638  66.080389  76.961241  77.894390   \n",
       "13   LINKUSDT  89.250702  75.961537  73.899472  76.057743  77.829589   \n",
       "28    XTZUSDT  81.715428  68.327314  61.760237  74.512291  77.559866   \n",
       "27    CHZUSDT  52.344705  65.772186  74.187758  78.922341  76.837530   \n",
       "22    ENJUSDT  59.328820  78.770389  76.789517  77.343235  76.474136   \n",
       "36   CAKEUSDT  82.498591  74.488015  76.697673  77.755149  76.000378   \n",
       "3     NEOUSDT  51.442421  52.426384  67.188289  67.830603  75.837817   \n",
       "8     EOSUSDT  53.957311  67.613190  67.768184  70.847414  75.452094   \n",
       "30    BCHUSDT  72.838289  64.040461  56.936862  72.013613  75.195764   \n",
       "5    QTUMUSDT  51.921371  57.230351  60.212616  68.409034  75.130949   \n",
       "19   NANOUSDT  66.804269  65.894806  62.113435  67.787442  74.908625   \n",
       "40   POLSUSDT  74.951828  65.487638  67.255822  66.387797  74.541200   \n",
       "11    TRXUSDT  51.671211  60.063199  69.917054  71.263067  73.470684   \n",
       "38   LINAUSDT  54.066592  41.473657  54.441894  65.630557  72.692044   \n",
       "0     BTCUSDT  68.051318  84.915151  83.576570  80.083524  72.493477   \n",
       "4     LTCUSDT  82.774529  75.112755  72.215567  77.738487  72.292417   \n",
       "34   HARDUSDT  57.628370  60.514649  58.711618  63.867557  70.566727   \n",
       "35  1INCHUSDT  61.147333  54.194890  68.680553  68.919107  70.512594   \n",
       "32   AAVEUSDT  64.538833  66.460189  56.154977  59.608265  70.218549   \n",
       "31    UNIUSDT  70.585149  74.841529  68.965444  73.485473  70.149530   \n",
       "1     ETHUSDT  66.378527  81.025382  74.192539  73.424855  69.162912   \n",
       "37  ALICEUSDT  65.964021  67.409521  60.706987  63.072381  68.921252   \n",
       "39   BAKEUSDT  53.195581  60.458463  57.016200  70.796615  68.162258   \n",
       "14  WAVESUSDT  58.314598  55.096114  55.997797  64.563658  67.341789   \n",
       "17    XMRUSDT  69.018671  66.281584  70.218441  71.485797  67.011045   \n",
       "15    ONGUSDT  60.396495  63.174023  73.169550  59.386839  62.211343   \n",
       "\n",
       "       rsi_1d  \n",
       "24  52.679082  \n",
       "20  47.505536  \n",
       "23  44.245077  \n",
       "7   48.178959  \n",
       "12  48.050483  \n",
       "26  49.758041  \n",
       "10  51.770802  \n",
       "18  49.461935  \n",
       "2   47.820234  \n",
       "16  44.400607  \n",
       "33  48.201440  \n",
       "29  43.211649  \n",
       "21  41.251446  \n",
       "25  48.952880  \n",
       "9   44.160667  \n",
       "6   51.630965  \n",
       "13  48.889728  \n",
       "28  51.165099  \n",
       "27  40.630349  \n",
       "22  42.033171  \n",
       "36  48.680227  \n",
       "3   38.298210  \n",
       "8   47.514621  \n",
       "30  51.533444  \n",
       "5   48.428021  \n",
       "19  44.477008  \n",
       "40  45.468008  \n",
       "11  55.020058  \n",
       "38  44.412323  \n",
       "0   51.712090  \n",
       "4   49.040861  \n",
       "34  42.623118  \n",
       "35  39.851542  \n",
       "32  49.427474  \n",
       "31  48.152325  \n",
       "1   52.313196  \n",
       "37  42.090295  \n",
       "39  36.761428  \n",
       "14  47.664864  \n",
       "17  42.619103  \n",
       "15  44.195196  "
      ],
      "text/html": "<div>\n<style scoped>\n    .dataframe tbody tr th:only-of-type {\n        vertical-align: middle;\n    }\n\n    .dataframe tbody tr th {\n        vertical-align: top;\n    }\n\n    .dataframe thead th {\n        text-align: right;\n    }\n</style>\n<table border=\"1\" class=\"dataframe\">\n  <thead>\n    <tr style=\"text-align: right;\">\n      <th></th>\n      <th>pair</th>\n      <th>rsi_1m</th>\n      <th>rsi_5m</th>\n      <th>rsi_15m</th>\n      <th>rsi_30m</th>\n      <th>rsi_1h</th>\n      <th>rsi_1d</th>\n    </tr>\n  </thead>\n  <tbody>\n    <tr>\n      <th>24</th>\n      <td>ATOMUSDT</td>\n      <td>71.721191</td>\n      <td>67.765564</td>\n      <td>75.387128</td>\n      <td>80.767671</td>\n      <td>86.736193</td>\n      <td>52.679082</td>\n    </tr>\n    <tr>\n      <th>20</th>\n      <td>OMGUSDT</td>\n      <td>76.305704</td>\n      <td>68.252113</td>\n      <td>72.613333</td>\n      <td>71.720135</td>\n      <td>85.858075</td>\n      <td>47.505536</td>\n    </tr>\n    <tr>\n      <th>23</th>\n      <td>MATICUSDT</td>\n      <td>50.492802</td>\n      <td>60.991138</td>\n      <td>76.152691</td>\n      <td>90.080270</td>\n      <td>85.602920</td>\n      <td>44.245077</td>\n    </tr>\n    <tr>\n      <th>7</th>\n      <td>XRPUSDT</td>\n      <td>50.458777</td>\n      <td>51.790324</td>\n      <td>75.304132</td>\n      <td>77.957937</td>\n      <td>83.602017</td>\n      <td>48.178959</td>\n    </tr>\n    <tr>\n      <th>12</th>\n      <td>VETUSDT</td>\n      <td>56.093281</td>\n      <td>64.452929</td>\n      <td>78.617639</td>\n      <td>83.520769</td>\n      <td>83.425637</td>\n      <td>48.050483</td>\n    </tr>\n    <tr>\n      <th>26</th>\n      <td>DOGEUSDT</td>\n      <td>50.276705</td>\n      <td>60.753014</td>\n      <td>78.846426</td>\n      <td>91.788482</td>\n      <td>82.926585</td>\n      <td>49.758041</td>\n    </tr>\n    <tr>\n      <th>10</th>\n      <td>XLMUSDT</td>\n      <td>72.364873</td>\n      <td>72.768658</td>\n      <td>80.683418</td>\n      <td>81.643147</td>\n      <td>82.647635</td>\n      <td>51.770802</td>\n    </tr>\n    <tr>\n      <th>18</th>\n      <td>DASHUSDT</td>\n      <td>79.761714</td>\n      <td>64.207371</td>\n      <td>74.173694</td>\n      <td>74.831873</td>\n      <td>82.325055</td>\n      <td>49.461935</td>\n    </tr>\n    <tr>\n      <th>2</th>\n      <td>BNBUSDT</td>\n      <td>76.323333</td>\n      <td>74.736697</td>\n      <td>75.571689</td>\n      <td>79.913627</td>\n      <td>81.144503</td>\n      <td>47.820234</td>\n    </tr>\n    <tr>\n      <th>16</th>\n      <td>HOTUSDT</td>\n      <td>70.659866</td>\n      <td>77.040140</td>\n      <td>81.090512</td>\n      <td>82.414157</td>\n      <td>81.054130</td>\n      <td>44.400607</td>\n    </tr>\n    <tr>\n      <th>33</th>\n      <td>FILUSDT</td>\n      <td>87.188766</td>\n      <td>81.751145</td>\n      <td>80.617282</td>\n      <td>83.461121</td>\n      <td>80.946132</td>\n      <td>48.201440</td>\n    </tr>\n    <tr>\n      <th>29</th>\n      <td>RVNUSDT</td>\n      <td>53.407312</td>\n      <td>79.500678</td>\n      <td>86.415575</td>\n      <td>84.014178</td>\n      <td>80.800290</td>\n      <td>43.211649</td>\n    </tr>\n    <tr>\n      <th>21</th>\n      <td>THETAUSDT</td>\n      <td>40.440486</td>\n      <td>59.842388</td>\n      <td>58.976242</td>\n      <td>76.107305</td>\n      <td>79.733575</td>\n      <td>41.251446</td>\n    </tr>\n    <tr>\n      <th>25</th>\n      <td>ALGOUSDT</td>\n      <td>66.463690</td>\n      <td>47.939489</td>\n      <td>55.987473</td>\n      <td>64.433932</td>\n      <td>79.517524</td>\n      <td>48.952880</td>\n    </tr>\n    <tr>\n      <th>9</th>\n      <td>IOTAUSDT</td>\n      <td>51.810262</td>\n      <td>63.227581</td>\n      <td>63.660943</td>\n      <td>78.563824</td>\n      <td>78.740076</td>\n      <td>44.160667</td>\n    </tr>\n    <tr>\n      <th>6</th>\n      <td>ADAUSDT</td>\n      <td>51.285388</td>\n      <td>63.342638</td>\n      <td>66.080389</td>\n      <td>76.961241</td>\n      <td>77.894390</td>\n      <td>51.630965</td>\n    </tr>\n    <tr>\n      <th>13</th>\n      <td>LINKUSDT</td>\n      <td>89.250702</td>\n      <td>75.961537</td>\n      <td>73.899472</td>\n      <td>76.057743</td>\n      <td>77.829589</td>\n      <td>48.889728</td>\n    </tr>\n    <tr>\n      <th>28</th>\n      <td>XTZUSDT</td>\n      <td>81.715428</td>\n      <td>68.327314</td>\n      <td>61.760237</td>\n      <td>74.512291</td>\n      <td>77.559866</td>\n      <td>51.165099</td>\n    </tr>\n    <tr>\n      <th>27</th>\n      <td>CHZUSDT</td>\n      <td>52.344705</td>\n      <td>65.772186</td>\n      <td>74.187758</td>\n      <td>78.922341</td>\n      <td>76.837530</td>\n      <td>40.630349</td>\n    </tr>\n    <tr>\n      <th>22</th>\n      <td>ENJUSDT</td>\n      <td>59.328820</td>\n      <td>78.770389</td>\n      <td>76.789517</td>\n      <td>77.343235</td>\n      <td>76.474136</td>\n      <td>42.033171</td>\n    </tr>\n    <tr>\n      <th>36</th>\n      <td>CAKEUSDT</td>\n      <td>82.498591</td>\n      <td>74.488015</td>\n      <td>76.697673</td>\n      <td>77.755149</td>\n      <td>76.000378</td>\n      <td>48.680227</td>\n    </tr>\n    <tr>\n      <th>3</th>\n      <td>NEOUSDT</td>\n      <td>51.442421</td>\n      <td>52.426384</td>\n      <td>67.188289</td>\n      <td>67.830603</td>\n      <td>75.837817</td>\n      <td>38.298210</td>\n    </tr>\n    <tr>\n      <th>8</th>\n      <td>EOSUSDT</td>\n      <td>53.957311</td>\n      <td>67.613190</td>\n      <td>67.768184</td>\n      <td>70.847414</td>\n      <td>75.452094</td>\n      <td>47.514621</td>\n    </tr>\n    <tr>\n      <th>30</th>\n      <td>BCHUSDT</td>\n      <td>72.838289</td>\n      <td>64.040461</td>\n      <td>56.936862</td>\n      <td>72.013613</td>\n      <td>75.195764</td>\n      <td>51.533444</td>\n    </tr>\n    <tr>\n      <th>5</th>\n      <td>QTUMUSDT</td>\n      <td>51.921371</td>\n      <td>57.230351</td>\n      <td>60.212616</td>\n      <td>68.409034</td>\n      <td>75.130949</td>\n      <td>48.428021</td>\n    </tr>\n    <tr>\n      <th>19</th>\n      <td>NANOUSDT</td>\n      <td>66.804269</td>\n      <td>65.894806</td>\n      <td>62.113435</td>\n      <td>67.787442</td>\n      <td>74.908625</td>\n      <td>44.477008</td>\n    </tr>\n    <tr>\n      <th>40</th>\n      <td>POLSUSDT</td>\n      <td>74.951828</td>\n      <td>65.487638</td>\n      <td>67.255822</td>\n      <td>66.387797</td>\n      <td>74.541200</td>\n      <td>45.468008</td>\n    </tr>\n    <tr>\n      <th>11</th>\n      <td>TRXUSDT</td>\n      <td>51.671211</td>\n      <td>60.063199</td>\n      <td>69.917054</td>\n      <td>71.263067</td>\n      <td>73.470684</td>\n      <td>55.020058</td>\n    </tr>\n    <tr>\n      <th>38</th>\n      <td>LINAUSDT</td>\n      <td>54.066592</td>\n      <td>41.473657</td>\n      <td>54.441894</td>\n      <td>65.630557</td>\n      <td>72.692044</td>\n      <td>44.412323</td>\n    </tr>\n    <tr>\n      <th>0</th>\n      <td>BTCUSDT</td>\n      <td>68.051318</td>\n      <td>84.915151</td>\n      <td>83.576570</td>\n      <td>80.083524</td>\n      <td>72.493477</td>\n      <td>51.712090</td>\n    </tr>\n    <tr>\n      <th>4</th>\n      <td>LTCUSDT</td>\n      <td>82.774529</td>\n      <td>75.112755</td>\n      <td>72.215567</td>\n      <td>77.738487</td>\n      <td>72.292417</td>\n      <td>49.040861</td>\n    </tr>\n    <tr>\n      <th>34</th>\n      <td>HARDUSDT</td>\n      <td>57.628370</td>\n      <td>60.514649</td>\n      <td>58.711618</td>\n      <td>63.867557</td>\n      <td>70.566727</td>\n      <td>42.623118</td>\n    </tr>\n    <tr>\n      <th>35</th>\n      <td>1INCHUSDT</td>\n      <td>61.147333</td>\n      <td>54.194890</td>\n      <td>68.680553</td>\n      <td>68.919107</td>\n      <td>70.512594</td>\n      <td>39.851542</td>\n    </tr>\n    <tr>\n      <th>32</th>\n      <td>AAVEUSDT</td>\n      <td>64.538833</td>\n      <td>66.460189</td>\n      <td>56.154977</td>\n      <td>59.608265</td>\n      <td>70.218549</td>\n      <td>49.427474</td>\n    </tr>\n    <tr>\n      <th>31</th>\n      <td>UNIUSDT</td>\n      <td>70.585149</td>\n      <td>74.841529</td>\n      <td>68.965444</td>\n      <td>73.485473</td>\n      <td>70.149530</td>\n      <td>48.152325</td>\n    </tr>\n    <tr>\n      <th>1</th>\n      <td>ETHUSDT</td>\n      <td>66.378527</td>\n      <td>81.025382</td>\n      <td>74.192539</td>\n      <td>73.424855</td>\n      <td>69.162912</td>\n      <td>52.313196</td>\n    </tr>\n    <tr>\n      <th>37</th>\n      <td>ALICEUSDT</td>\n      <td>65.964021</td>\n      <td>67.409521</td>\n      <td>60.706987</td>\n      <td>63.072381</td>\n      <td>68.921252</td>\n      <td>42.090295</td>\n    </tr>\n    <tr>\n      <th>39</th>\n      <td>BAKEUSDT</td>\n      <td>53.195581</td>\n      <td>60.458463</td>\n      <td>57.016200</td>\n      <td>70.796615</td>\n      <td>68.162258</td>\n      <td>36.761428</td>\n    </tr>\n    <tr>\n      <th>14</th>\n      <td>WAVESUSDT</td>\n      <td>58.314598</td>\n      <td>55.096114</td>\n      <td>55.997797</td>\n      <td>64.563658</td>\n      <td>67.341789</td>\n      <td>47.664864</td>\n    </tr>\n    <tr>\n      <th>17</th>\n      <td>XMRUSDT</td>\n      <td>69.018671</td>\n      <td>66.281584</td>\n      <td>70.218441</td>\n      <td>71.485797</td>\n      <td>67.011045</td>\n      <td>42.619103</td>\n    </tr>\n    <tr>\n      <th>15</th>\n      <td>ONGUSDT</td>\n      <td>60.396495</td>\n      <td>63.174023</td>\n      <td>73.169550</td>\n      <td>59.386839</td>\n      <td>62.211343</td>\n      <td>44.195196</td>\n    </tr>\n  </tbody>\n</table>\n</div>"
     },
     "metadata": {},
     "execution_count": 10
    }
   ],
   "source": [
    "x.sort_values(by='rsi_1h', ascending=False)"
   ]
  },
  {
   "cell_type": "code",
   "execution_count": 21,
   "metadata": {},
   "outputs": [
    {
     "output_type": "execute_result",
     "data": {
      "text/plain": [
       "'35858.00000000'"
      ]
     },
     "metadata": {},
     "execution_count": 21
    }
   ],
   "source": [
    "x[4].iloc[-1]"
   ]
  },
  {
   "cell_type": "code",
   "execution_count": null,
   "metadata": {},
   "outputs": [],
   "source": []
  }
 ]
}