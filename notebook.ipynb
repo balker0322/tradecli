{
 "metadata": {
  "language_info": {
   "codemirror_mode": {
    "name": "ipython",
    "version": 3
   },
   "file_extension": ".py",
   "mimetype": "text/x-python",
   "name": "python",
   "nbconvert_exporter": "python",
   "pygments_lexer": "ipython3",
   "version": "3.9.1"
  },
  "orig_nbformat": 2,
  "kernelspec": {
   "name": "pythonjvsc74a57bd07177d64566fc45fea1f90137e880bab6d2acea3a018929f123d8937510dd0912",
   "display_name": "Python 3.9.1  ('venv': venv)"
  },
  "metadata": {
   "interpreter": {
    "hash": "7177d64566fc45fea1f90137e880bab6d2acea3a018929f123d8937510dd0912"
   }
  }
 },
 "nbformat": 4,
 "nbformat_minor": 2,
 "cells": [
  {
   "cell_type": "code",
   "execution_count": null,
   "metadata": {},
   "outputs": [],
   "source": [
    "import src.strategy as strategy"
   ]
  },
  {
   "cell_type": "code",
   "execution_count": null,
   "metadata": {},
   "outputs": [],
   "source": [
    "cls = getattr(strategy, 'test_bot')\n",
    "bot = cls()\n",
    "bot.test_net  = False\n",
    "bot.back_test = False\n",
    "bot.stub_test = False\n",
    "bot.hyperopt  = False\n",
    "bot.account = 'binanceaccount1'\n",
    "bot.exchange_arg = 'binance'\n",
    "bot.pair = 'BTCUSDT'"
   ]
  },
  {
   "cell_type": "code",
   "execution_count": null,
   "metadata": {},
   "outputs": [],
   "source": [
    "bot.run()"
   ]
  },
  {
   "cell_type": "code",
   "execution_count": 1,
   "metadata": {},
   "outputs": [],
   "source": [
    "from src.binance_futures import BinanceFutures"
   ]
  },
  {
   "cell_type": "code",
   "execution_count": 2,
   "metadata": {},
   "outputs": [],
   "source": [
    "exchange = BinanceFutures(account='binanceaccount1', pair='BTCUSDT', demo=False)"
   ]
  },
  {
   "source": [
    "x = exchange.get_futures_exchange_info()"
   ],
   "cell_type": "code",
   "metadata": {},
   "execution_count": 3,
   "outputs": []
  },
  {
   "cell_type": "code",
   "execution_count": null,
   "metadata": {},
   "outputs": [],
   "source": [
    "x['symbols']"
   ]
  },
  {
   "cell_type": "code",
   "execution_count": 23,
   "metadata": {},
   "outputs": [],
   "source": [
    "y = dict()\n",
    "for q in x['symbols']:\n",
    "    if q['symbol'][-len('USDT'):] == 'USDT':\n",
    "        y[q['symbol']] = {\n",
    "            'min_lot_size':q['filters'][1]['minQty'],\n",
    "            'min_price_step':q['filters'][0]['tickSize']\n",
    "        }\n"
   ]
  },
  {
   "cell_type": "code",
   "execution_count": 4,
   "metadata": {},
   "outputs": [],
   "source": [
    "q = x['symbols'][2]"
   ]
  },
  {
   "cell_type": "code",
   "execution_count": null,
   "metadata": {},
   "outputs": [],
   "source": []
  },
  {
   "cell_type": "code",
   "execution_count": 21,
   "metadata": {},
   "outputs": [
    {
     "output_type": "execute_result",
     "data": {
      "text/plain": [
       "{'minPrice': '13.93',\n",
       " 'maxPrice': '100000',\n",
       " 'filterType': 'PRICE_FILTER',\n",
       " 'tickSize': '0.01'}"
      ]
     },
     "metadata": {},
     "execution_count": 21
    }
   ],
   "source": [
    "q['filters'][0]['tickSize']"
   ]
  },
  {
   "cell_type": "code",
   "execution_count": 22,
   "metadata": {},
   "outputs": [
    {
     "output_type": "execute_result",
     "data": {
      "text/plain": [
       "{'stepSize': '0.001',\n",
       " 'filterType': 'LOT_SIZE',\n",
       " 'maxQty': '10000',\n",
       " 'minQty': '0.001'}"
      ]
     },
     "metadata": {},
     "execution_count": 22
    }
   ],
   "source": [
    "q['filters'][1]['minQty']"
   ]
  },
  {
   "cell_type": "code",
   "execution_count": 5,
   "metadata": {},
   "outputs": [
    {
     "output_type": "execute_result",
     "data": {
      "text/plain": [
       "{'symbol': 'BCHUSDT',\n",
       " 'pair': 'BCHUSDT',\n",
       " 'contractType': 'PERPETUAL',\n",
       " 'deliveryDate': 4133404800000,\n",
       " 'onboardDate': 1569398400000,\n",
       " 'status': 'TRADING',\n",
       " 'maintMarginPercent': '2.5000',\n",
       " 'requiredMarginPercent': '5.0000',\n",
       " 'baseAsset': 'BCH',\n",
       " 'quoteAsset': 'USDT',\n",
       " 'marginAsset': 'USDT',\n",
       " 'pricePrecision': 2,\n",
       " 'quantityPrecision': 3,\n",
       " 'baseAssetPrecision': 8,\n",
       " 'quotePrecision': 8,\n",
       " 'underlyingType': 'COIN',\n",
       " 'underlyingSubType': [],\n",
       " 'settlePlan': 0,\n",
       " 'triggerProtect': '0.0500',\n",
       " 'filters': [{'minPrice': '13.93',\n",
       "   'maxPrice': '100000',\n",
       "   'filterType': 'PRICE_FILTER',\n",
       "   'tickSize': '0.01'},\n",
       "  {'stepSize': '0.001',\n",
       "   'filterType': 'LOT_SIZE',\n",
       "   'maxQty': '10000',\n",
       "   'minQty': '0.001'},\n",
       "  {'stepSize': '0.001',\n",
       "   'filterType': 'MARKET_LOT_SIZE',\n",
       "   'maxQty': '1000',\n",
       "   'minQty': '0.001'},\n",
       "  {'limit': 200, 'filterType': 'MAX_NUM_ORDERS'},\n",
       "  {'limit': 10, 'filterType': 'MAX_NUM_ALGO_ORDERS'},\n",
       "  {'notional': '5', 'filterType': 'MIN_NOTIONAL'},\n",
       "  {'multiplierDown': '0.8500',\n",
       "   'multiplierUp': '1.1500',\n",
       "   'multiplierDecimal': '4',\n",
       "   'filterType': 'PERCENT_PRICE'}],\n",
       " 'orderTypes': ['LIMIT',\n",
       "  'MARKET',\n",
       "  'STOP',\n",
       "  'STOP_MARKET',\n",
       "  'TAKE_PROFIT',\n",
       "  'TAKE_PROFIT_MARKET',\n",
       "  'TRAILING_STOP_MARKET'],\n",
       " 'timeInForce': ['GTC', 'IOC', 'FOK', 'GTX']}"
      ]
     },
     "metadata": {},
     "execution_count": 5
    }
   ],
   "source": [
    "q"
   ]
  },
  {
   "cell_type": "code",
   "execution_count": 7,
   "metadata": {},
   "outputs": [],
   "source": [
    "w = exchange.get_account_information()"
   ]
  },
  {
   "cell_type": "code",
   "execution_count": 8,
   "metadata": {},
   "outputs": [
    {
     "output_type": "execute_result",
     "data": {
      "text/plain": [
       "['feeTier',\n",
       " 'canTrade',\n",
       " 'canDeposit',\n",
       " 'canWithdraw',\n",
       " 'updateTime',\n",
       " 'totalInitialMargin',\n",
       " 'totalMaintMargin',\n",
       " 'totalWalletBalance',\n",
       " 'totalUnrealizedProfit',\n",
       " 'totalMarginBalance',\n",
       " 'totalPositionInitialMargin',\n",
       " 'totalOpenOrderInitialMargin',\n",
       " 'totalCrossWalletBalance',\n",
       " 'totalCrossUnPnl',\n",
       " 'availableBalance',\n",
       " 'maxWithdrawAmount',\n",
       " 'assets',\n",
       " 'positions']"
      ]
     },
     "metadata": {},
     "execution_count": 8
    }
   ],
   "source": [
    "[e for e in w]"
   ]
  },
  {
   "cell_type": "code",
   "execution_count": 10,
   "metadata": {},
   "outputs": [
    {
     "output_type": "execute_result",
     "data": {
      "text/plain": [
       "[{'asset': 'BNB',\n",
       "  'walletBalance': '0.00000046',\n",
       "  'unrealizedProfit': '0.00000000',\n",
       "  'marginBalance': '0.00000046',\n",
       "  'maintMargin': '0.00000000',\n",
       "  'initialMargin': '0.00000000',\n",
       "  'positionInitialMargin': '0.00000000',\n",
       "  'openOrderInitialMargin': '0.00000000',\n",
       "  'maxWithdrawAmount': '0.00000046',\n",
       "  'crossWalletBalance': '0.00000000',\n",
       "  'crossUnPnl': '0.00000000',\n",
       "  'availableBalance': '0.00000000',\n",
       "  'marginAvailable': False,\n",
       "  'updateTime': 1615356245206},\n",
       " {'asset': 'USDT',\n",
       "  'walletBalance': '0.00000000',\n",
       "  'unrealizedProfit': '0.00000000',\n",
       "  'marginBalance': '0.00000000',\n",
       "  'maintMargin': '0.00000000',\n",
       "  'initialMargin': '0.00000000',\n",
       "  'positionInitialMargin': '0.00000000',\n",
       "  'openOrderInitialMargin': '0.00000000',\n",
       "  'maxWithdrawAmount': '0.00000000',\n",
       "  'crossWalletBalance': '0.00000000',\n",
       "  'crossUnPnl': '0.00000000',\n",
       "  'availableBalance': '0.00000000',\n",
       "  'marginAvailable': True,\n",
       "  'updateTime': 1623059211964},\n",
       " {'asset': 'BUSD',\n",
       "  'walletBalance': '0.00000000',\n",
       "  'unrealizedProfit': '0.00000000',\n",
       "  'marginBalance': '0.00000000',\n",
       "  'maintMargin': '0.00000000',\n",
       "  'initialMargin': '0.00000000',\n",
       "  'positionInitialMargin': '0.00000000',\n",
       "  'openOrderInitialMargin': '0.00000000',\n",
       "  'maxWithdrawAmount': '0.00000000',\n",
       "  'crossWalletBalance': '0.00000000',\n",
       "  'crossUnPnl': '0.00000000',\n",
       "  'availableBalance': '0.00000000',\n",
       "  'marginAvailable': True,\n",
       "  'updateTime': 0}]"
      ]
     },
     "metadata": {},
     "execution_count": 10
    }
   ],
   "source": [
    "w['assets']"
   ]
  },
  {
   "cell_type": "code",
   "execution_count": 25,
   "metadata": {},
   "outputs": [
    {
     "output_type": "execute_result",
     "data": {
      "text/plain": [
       "{'symbol': 'BTCUSDT', 'price': '35803.34', 'time': 1623589442194}"
      ]
     },
     "metadata": {},
     "execution_count": 25
    }
   ],
   "source": [
    "exchange.get_market_price()"
   ]
  },
  {
   "cell_type": "code",
   "execution_count": 17,
   "metadata": {},
   "outputs": [
    {
     "output_type": "execute_result",
     "data": {
      "text/plain": [
       "{'symbol': 'BTCUSDT', 'price': '35882.43', 'time': 1623589819764}"
      ]
     },
     "metadata": {},
     "execution_count": 17
    }
   ],
   "source": [
    "exchange.get_futures_symbol_ticker('BTCUSDT')"
   ]
  },
  {
   "cell_type": "code",
   "execution_count": null,
   "metadata": {},
   "outputs": [],
   "source": []
  },
  {
   "cell_type": "code",
   "execution_count": null,
   "metadata": {},
   "outputs": [],
   "source": []
  }
 ]
}