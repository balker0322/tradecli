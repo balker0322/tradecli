{
 "metadata": {
  "language_info": {
   "codemirror_mode": {
    "name": "ipython",
    "version": 3
   },
   "file_extension": ".py",
   "mimetype": "text/x-python",
   "name": "python",
   "nbconvert_exporter": "python",
   "pygments_lexer": "ipython3",
   "version": "3.9.1"
  },
  "orig_nbformat": 2,
  "kernelspec": {
   "name": "python3",
   "display_name": "Python 3.9.1  ('venv': venv)"
  },
  "metadata": {
   "interpreter": {
    "hash": "7177d64566fc45fea1f90137e880bab6d2acea3a018929f123d8937510dd0912"
   }
  },
  "interpreter": {
   "hash": "7177d64566fc45fea1f90137e880bab6d2acea3a018929f123d8937510dd0912"
  }
 },
 "nbformat": 4,
 "nbformat_minor": 2,
 "cells": [
  {
   "cell_type": "code",
   "execution_count": null,
   "metadata": {},
   "outputs": [],
   "source": [
    "import src.strategy as strategy"
   ]
  },
  {
   "cell_type": "code",
   "execution_count": null,
   "metadata": {},
   "outputs": [],
   "source": [
    "cls = getattr(strategy, 'test_bot')\n",
    "bot = cls()\n",
    "bot.test_net  = False\n",
    "bot.back_test = False\n",
    "bot.stub_test = False\n",
    "bot.hyperopt  = False\n",
    "bot.account = 'binanceaccount1'\n",
    "bot.exchange_arg = 'binance'\n",
    "bot.pair = 'BTCUSDT'"
   ]
  },
  {
   "cell_type": "code",
   "execution_count": null,
   "metadata": {},
   "outputs": [],
   "source": [
    "bot.run()"
   ]
  },
  {
   "cell_type": "code",
   "execution_count": null,
   "metadata": {},
   "outputs": [],
   "source": [
    "from src.binance_futures import BinanceFutures"
   ]
  },
  {
   "cell_type": "code",
   "execution_count": null,
   "metadata": {},
   "outputs": [],
   "source": [
    "exchange = BinanceFutures(account='binanceaccount1', pair='BTCUSDT', demo=False)"
   ]
  },
  {
   "source": [
    "x = exchange.get_futures_exchange_info()"
   ],
   "cell_type": "code",
   "metadata": {},
   "execution_count": null,
   "outputs": []
  },
  {
   "cell_type": "code",
   "execution_count": null,
   "metadata": {},
   "outputs": [],
   "source": [
    "x['symbols']"
   ]
  },
  {
   "cell_type": "code",
   "execution_count": null,
   "metadata": {},
   "outputs": [],
   "source": [
    "y = dict()\n",
    "for q in x['symbols']:\n",
    "    if q['symbol'][-len('USDT'):] == 'USDT':\n",
    "        y[q['symbol']] = {\n",
    "            'min_lot_size':q['filters'][1]['minQty'],\n",
    "            'min_price_step':q['filters'][0]['tickSize']\n",
    "        }\n"
   ]
  },
  {
   "cell_type": "code",
   "execution_count": null,
   "metadata": {},
   "outputs": [],
   "source": [
    "q = x['symbols'][2]"
   ]
  },
  {
   "cell_type": "code",
   "execution_count": null,
   "metadata": {},
   "outputs": [],
   "source": []
  },
  {
   "cell_type": "code",
   "execution_count": null,
   "metadata": {},
   "outputs": [],
   "source": [
    "q['filters'][0]['tickSize']"
   ]
  },
  {
   "cell_type": "code",
   "execution_count": null,
   "metadata": {},
   "outputs": [],
   "source": [
    "q['filters'][1]['minQty']"
   ]
  },
  {
   "cell_type": "code",
   "execution_count": null,
   "metadata": {},
   "outputs": [],
   "source": [
    "q"
   ]
  },
  {
   "cell_type": "code",
   "execution_count": null,
   "metadata": {},
   "outputs": [],
   "source": [
    "w = exchange.get_account_information()"
   ]
  },
  {
   "cell_type": "code",
   "execution_count": null,
   "metadata": {},
   "outputs": [],
   "source": [
    "[e for e in w]"
   ]
  },
  {
   "cell_type": "code",
   "execution_count": null,
   "metadata": {},
   "outputs": [],
   "source": [
    "w['assets']"
   ]
  },
  {
   "cell_type": "code",
   "execution_count": null,
   "metadata": {},
   "outputs": [],
   "source": [
    "exchange.get_market_price()"
   ]
  },
  {
   "cell_type": "code",
   "execution_count": null,
   "metadata": {},
   "outputs": [],
   "source": [
    "exchange.get_futures_symbol_ticker('BTCUSDT')"
   ]
  },
  {
   "cell_type": "code",
   "execution_count": null,
   "metadata": {},
   "outputs": [],
   "source": [
    "from src.binance_futures import BinanceFutures"
   ]
  },
  {
   "cell_type": "code",
   "execution_count": null,
   "metadata": {},
   "outputs": [],
   "source": [
    "exchange = BinanceFutures(account='binanceaccount1', pair='', demo=False)"
   ]
  },
  {
   "cell_type": "code",
   "execution_count": null,
   "metadata": {},
   "outputs": [],
   "source": [
    "raw_pair_info = exchange.get_futures_exchange_info()['symbols']"
   ]
  },
  {
   "cell_type": "code",
   "execution_count": null,
   "metadata": {},
   "outputs": [],
   "source": [
    "raw_pair_info"
   ]
  },
  {
   "cell_type": "code",
   "execution_count": null,
   "metadata": {},
   "outputs": [],
   "source": [
    "from decimal import Decimal as d"
   ]
  },
  {
   "cell_type": "code",
   "execution_count": null,
   "metadata": {},
   "outputs": [],
   "source": [
    "x = d(1.0)"
   ]
  },
  {
   "cell_type": "code",
   "execution_count": null,
   "metadata": {},
   "outputs": [],
   "source": [
    "d(x)"
   ]
  },
  {
   "cell_type": "code",
   "execution_count": 1,
   "metadata": {},
   "outputs": [],
   "source": [
    "from tradeinterface import *"
   ]
  },
  {
   "cell_type": "code",
   "execution_count": 3,
   "metadata": {},
   "outputs": [],
   "source": [
    "position_size = 50.0\n",
    "pair='XLMUSDT'\n",
    "entry_price = 0.35"
   ]
  },
  {
   "cell_type": "code",
   "execution_count": 6,
   "metadata": {},
   "outputs": [],
   "source": [
    "get_open_orders(pair)"
   ]
  },
  {
   "cell_type": "code",
   "execution_count": null,
   "metadata": {},
   "outputs": [],
   "source": [
    "stop_limit_long_entry(pair, position_size, entry_price)"
   ]
  },
  {
   "cell_type": "code",
   "execution_count": 8,
   "metadata": {},
   "outputs": [
    {
     "output_type": "stream",
     "name": "stderr",
     "text": [
      "2021-06-15 06:22:59,547 - INFO - Cancel all open orders: {'code': 200, 'msg': 'The operation of cancel all open order is done.'}\n"
     ]
    }
   ],
   "source": [
    "cancel_all_order(pair)"
   ]
  },
  {
   "cell_type": "code",
   "execution_count": 10,
   "metadata": {},
   "outputs": [
    {
     "output_type": "stream",
     "name": "stderr",
     "text": [
      "2021-06-15 06:26:27,715 - INFO - pos_size: 0.0\n",
      "2021-06-15 06:26:28,025 - INFO - ========= New Order ==============\n",
      "2021-06-15 06:26:28,026 - INFO - ID     : Long_H1kpR57bSIiP9JmMRawYmw\n",
      "2021-06-15 06:26:28,028 - INFO - Type   : MARKET\n",
      "2021-06-15 06:26:28,028 - INFO - Side   : BUY\n",
      "2021-06-15 06:26:28,029 - INFO - Qty    : 50.0\n",
      "2021-06-15 06:26:28,031 - INFO - Limit  : 0\n",
      "2021-06-15 06:26:28,031 - INFO - Stop   : 0\n",
      "2021-06-15 06:26:28,032 - INFO - ======================================\n"
     ]
    }
   ],
   "source": [
    "market_long_entry(pair, position_size)"
   ]
  },
  {
   "cell_type": "code",
   "execution_count": 6,
   "metadata": {},
   "outputs": [
    {
     "output_type": "execute_result",
     "data": {
      "text/plain": [
       "{'symbol': 'XLMUSDT',\n",
       " 'positionAmt': '50',\n",
       " 'entryPrice': '0.33906',\n",
       " 'markPrice': '0.33912462',\n",
       " 'unRealizedProfit': '0.00323100',\n",
       " 'liquidationPrice': '0.30770873',\n",
       " 'leverage': '75',\n",
       " 'maxNotionalValue': '10000',\n",
       " 'marginType': 'cross',\n",
       " 'isolatedMargin': '0.00000000',\n",
       " 'isAutoAddMargin': 'false',\n",
       " 'positionSide': 'BOTH',\n",
       " 'notional': '16.95623100',\n",
       " 'isolatedWallet': '0',\n",
       " 'updateTime': 1623709588094}"
      ]
     },
     "metadata": {},
     "execution_count": 6
    }
   ],
   "source": [
    "get_open_position(pair)"
   ]
  },
  {
   "cell_type": "code",
   "execution_count": 7,
   "metadata": {},
   "outputs": [
    {
     "output_type": "stream",
     "name": "stderr",
     "text": [
      "2021-06-15 06:28:02,347 - INFO - ========= New Order ==============\n",
      "2021-06-15 06:28:02,348 - INFO - ID     : Close_uzJNiX18SyOukvbB9tdpqg\n",
      "2021-06-15 06:28:02,349 - INFO - Type   : MARKET\n",
      "2021-06-15 06:28:02,350 - INFO - Side   : SELL\n",
      "2021-06-15 06:28:02,351 - INFO - Qty    : 50.0\n",
      "2021-06-15 06:28:02,352 - INFO - Limit  : 0\n",
      "2021-06-15 06:28:02,354 - INFO - Stop   : 0\n",
      "2021-06-15 06:28:02,356 - INFO - ======================================\n",
      "2021-06-15 06:28:02,456 - INFO - Closed XLMUSDT position\n"
     ]
    }
   ],
   "source": [
    "close_open_position(pair)"
   ]
  },
  {
   "cell_type": "code",
   "execution_count": null,
   "metadata": {},
   "outputs": [],
   "source": []
  }
 ]
}