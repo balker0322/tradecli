{
 "cells": [
  {
   "cell_type": "code",
   "execution_count": null,
   "metadata": {},
   "outputs": [],
   "source": [
    "import src.strategy as strategy"
   ]
  },
  {
   "cell_type": "code",
   "execution_count": null,
   "metadata": {},
   "outputs": [],
   "source": [
    "cls = getattr(strategy, 'test_bot')\n",
    "bot = cls()\n",
    "bot.test_net  = False\n",
    "bot.back_test = False\n",
    "bot.stub_test = False\n",
    "bot.hyperopt  = False\n",
    "bot.account = 'binanceaccount1'\n",
    "bot.exchange_arg = 'binance'\n",
    "bot.pair = 'BTCUSDT'"
   ]
  },
  {
   "cell_type": "code",
   "execution_count": null,
   "metadata": {},
   "outputs": [],
   "source": [
    "bot.run()"
   ]
  },
  {
   "cell_type": "code",
   "execution_count": null,
   "metadata": {},
   "outputs": [],
   "source": [
    "from src.binance_futures import BinanceFutures"
   ]
  },
  {
   "cell_type": "code",
   "execution_count": null,
   "metadata": {},
   "outputs": [],
   "source": [
    "exchange = BinanceFutures(account='binanceaccount1', pair='BTCUSDT', demo=False)"
   ]
  },
  {
   "cell_type": "code",
   "execution_count": null,
   "metadata": {},
   "outputs": [],
   "source": [
    "x = exchange.get_futures_exchange_info()"
   ]
  },
  {
   "cell_type": "code",
   "execution_count": null,
   "metadata": {},
   "outputs": [],
   "source": [
    "import pandas as pd"
   ]
  },
  {
   "cell_type": "code",
   "execution_count": null,
   "metadata": {},
   "outputs": [],
   "source": [
    "col = ['a','b']"
   ]
  },
  {
   "cell_type": "code",
   "execution_count": null,
   "metadata": {},
   "outputs": [],
   "source": [
    "pd.DataFrame(columns=col)"
   ]
  },
  {
   "cell_type": "code",
   "execution_count": 1,
   "metadata": {},
   "outputs": [],
   "source": [
    "from screener.func import *"
   ]
  },
  {
   "cell_type": "code",
   "execution_count": 23,
   "metadata": {},
   "outputs": [
    {
     "name": "stderr",
     "output_type": "stream",
     "text": [
      "100%|██████████| 116/116 [00:20<00:00,  5.71it/s]\n"
     ]
    },
    {
     "data": {
      "text/html": [
       "<div>\n",
       "<style scoped>\n",
       "    .dataframe tbody tr th:only-of-type {\n",
       "        vertical-align: middle;\n",
       "    }\n",
       "\n",
       "    .dataframe tbody tr th {\n",
       "        vertical-align: top;\n",
       "    }\n",
       "\n",
       "    .dataframe thead th {\n",
       "        text-align: right;\n",
       "    }\n",
       "</style>\n",
       "<table border=\"1\" class=\"dataframe\">\n",
       "  <thead>\n",
       "    <tr style=\"text-align: right;\">\n",
       "      <th></th>\n",
       "      <th>pair</th>\n",
       "      <th>rsi_5m</th>\n",
       "    </tr>\n",
       "  </thead>\n",
       "  <tbody>\n",
       "    <tr>\n",
       "      <th>49</th>\n",
       "      <td>EGLDUSDT</td>\n",
       "      <td>21.447404</td>\n",
       "    </tr>\n",
       "    <tr>\n",
       "      <th>22</th>\n",
       "      <td>QTUMUSDT</td>\n",
       "      <td>25.222449</td>\n",
       "    </tr>\n",
       "    <tr>\n",
       "      <th>39</th>\n",
       "      <td>DOTUSDT</td>\n",
       "      <td>25.852838</td>\n",
       "    </tr>\n",
       "    <tr>\n",
       "      <th>3</th>\n",
       "      <td>XRPUSDT</td>\n",
       "      <td>27.298973</td>\n",
       "    </tr>\n",
       "    <tr>\n",
       "      <th>82</th>\n",
       "      <td>ANKRUSDT</td>\n",
       "      <td>27.620908</td>\n",
       "    </tr>\n",
       "    <tr>\n",
       "      <th>...</th>\n",
       "      <td>...</td>\n",
       "      <td>...</td>\n",
       "    </tr>\n",
       "    <tr>\n",
       "      <th>21</th>\n",
       "      <td>NEOUSDT</td>\n",
       "      <td>55.782351</td>\n",
       "    </tr>\n",
       "    <tr>\n",
       "      <th>83</th>\n",
       "      <td>LUNAUSDT</td>\n",
       "      <td>57.564680</td>\n",
       "    </tr>\n",
       "    <tr>\n",
       "      <th>16</th>\n",
       "      <td>ATOMUSDT</td>\n",
       "      <td>58.413688</td>\n",
       "    </tr>\n",
       "    <tr>\n",
       "      <th>71</th>\n",
       "      <td>BELUSDT</td>\n",
       "      <td>62.970824</td>\n",
       "    </tr>\n",
       "    <tr>\n",
       "      <th>73</th>\n",
       "      <td>AXSUSDT</td>\n",
       "      <td>67.451202</td>\n",
       "    </tr>\n",
       "  </tbody>\n",
       "</table>\n",
       "<p>113 rows × 2 columns</p>\n",
       "</div>"
      ],
      "text/plain": [
       "        pair     rsi_5m\n",
       "49  EGLDUSDT  21.447404\n",
       "22  QTUMUSDT  25.222449\n",
       "39   DOTUSDT  25.852838\n",
       "3    XRPUSDT  27.298973\n",
       "82  ANKRUSDT  27.620908\n",
       "..       ...        ...\n",
       "21   NEOUSDT  55.782351\n",
       "83  LUNAUSDT  57.564680\n",
       "16  ATOMUSDT  58.413688\n",
       "71   BELUSDT  62.970824\n",
       "73   AXSUSDT  67.451202\n",
       "\n",
       "[113 rows x 2 columns]"
      ]
     },
     "execution_count": 23,
     "metadata": {},
     "output_type": "execute_result"
    }
   ],
   "source": [
    "get_crypto_df(indicator=['rsi_5m']).sort_values(by='rsi_5m', ascending=True)"
   ]
  },
  {
   "cell_type": "code",
   "execution_count": 5,
   "metadata": {},
   "outputs": [
    {
     "name": "stderr",
     "output_type": "stream",
     "text": [
      "100%|██████████| 116/116 [02:04<00:00,  1.07s/it]\n"
     ]
    }
   ],
   "source": [
    "# pairs = get_all_pairs()\n",
    "# x = get_crypto_df(pairs=pairs)\n",
    "x = get_crypto_df()"
   ]
  },
  {
   "cell_type": "code",
   "execution_count": 6,
   "metadata": {},
   "outputs": [
    {
     "data": {
      "text/html": [
       "<div>\n",
       "<style scoped>\n",
       "    .dataframe tbody tr th:only-of-type {\n",
       "        vertical-align: middle;\n",
       "    }\n",
       "\n",
       "    .dataframe tbody tr th {\n",
       "        vertical-align: top;\n",
       "    }\n",
       "\n",
       "    .dataframe thead th {\n",
       "        text-align: right;\n",
       "    }\n",
       "</style>\n",
       "<table border=\"1\" class=\"dataframe\">\n",
       "  <thead>\n",
       "    <tr style=\"text-align: right;\">\n",
       "      <th></th>\n",
       "      <th>pair</th>\n",
       "      <th>rsi_1m</th>\n",
       "      <th>rsi_5m</th>\n",
       "      <th>rsi_15m</th>\n",
       "      <th>rsi_30m</th>\n",
       "      <th>rsi_1h</th>\n",
       "      <th>rsi_1d</th>\n",
       "    </tr>\n",
       "  </thead>\n",
       "  <tbody>\n",
       "    <tr>\n",
       "      <th>67</th>\n",
       "      <td>LRCUSDT</td>\n",
       "      <td>24.397554</td>\n",
       "      <td>35.179748</td>\n",
       "      <td>14.886971</td>\n",
       "      <td>32.871023</td>\n",
       "      <td>41.919663</td>\n",
       "      <td>51.049748</td>\n",
       "    </tr>\n",
       "    <tr>\n",
       "      <th>79</th>\n",
       "      <td>AKROUSDT</td>\n",
       "      <td>35.876647</td>\n",
       "      <td>32.630622</td>\n",
       "      <td>17.712721</td>\n",
       "      <td>31.698213</td>\n",
       "      <td>52.945951</td>\n",
       "      <td>37.133600</td>\n",
       "    </tr>\n",
       "    <tr>\n",
       "      <th>106</th>\n",
       "      <td>NKNUSDT</td>\n",
       "      <td>40.713983</td>\n",
       "      <td>48.674797</td>\n",
       "      <td>18.878768</td>\n",
       "      <td>26.959648</td>\n",
       "      <td>50.830709</td>\n",
       "      <td>35.803642</td>\n",
       "    </tr>\n",
       "    <tr>\n",
       "      <th>93</th>\n",
       "      <td>CHRUSDT</td>\n",
       "      <td>48.024911</td>\n",
       "      <td>46.469154</td>\n",
       "      <td>19.709820</td>\n",
       "      <td>34.020299</td>\n",
       "      <td>47.601607</td>\n",
       "      <td>38.180765</td>\n",
       "    </tr>\n",
       "    <tr>\n",
       "      <th>59</th>\n",
       "      <td>FLMUSDT</td>\n",
       "      <td>27.045916</td>\n",
       "      <td>37.365366</td>\n",
       "      <td>19.808402</td>\n",
       "      <td>26.760198</td>\n",
       "      <td>46.197832</td>\n",
       "      <td>34.383096</td>\n",
       "    </tr>\n",
       "    <tr>\n",
       "      <th>...</th>\n",
       "      <td>...</td>\n",
       "      <td>...</td>\n",
       "      <td>...</td>\n",
       "      <td>...</td>\n",
       "      <td>...</td>\n",
       "      <td>...</td>\n",
       "      <td>...</td>\n",
       "    </tr>\n",
       "    <tr>\n",
       "      <th>81</th>\n",
       "      <td>SANDUSDT</td>\n",
       "      <td>40.325756</td>\n",
       "      <td>57.064683</td>\n",
       "      <td>61.009441</td>\n",
       "      <td>66.809251</td>\n",
       "      <td>72.621875</td>\n",
       "      <td>60.731895</td>\n",
       "    </tr>\n",
       "    <tr>\n",
       "      <th>58</th>\n",
       "      <td>ENJUSDT</td>\n",
       "      <td>56.472537</td>\n",
       "      <td>76.727311</td>\n",
       "      <td>61.447473</td>\n",
       "      <td>60.945696</td>\n",
       "      <td>70.957905</td>\n",
       "      <td>52.567629</td>\n",
       "    </tr>\n",
       "    <tr>\n",
       "      <th>60</th>\n",
       "      <td>TOMOUSDT</td>\n",
       "      <td>70.052848</td>\n",
       "      <td>62.222399</td>\n",
       "      <td>61.872614</td>\n",
       "      <td>43.291752</td>\n",
       "      <td>51.531321</td>\n",
       "      <td>48.682839</td>\n",
       "    </tr>\n",
       "    <tr>\n",
       "      <th>99</th>\n",
       "      <td>STMXUSDT</td>\n",
       "      <td>48.901081</td>\n",
       "      <td>51.716500</td>\n",
       "      <td>62.356012</td>\n",
       "      <td>74.465934</td>\n",
       "      <td>95.502861</td>\n",
       "      <td>67.914359</td>\n",
       "    </tr>\n",
       "    <tr>\n",
       "      <th>72</th>\n",
       "      <td>CTKUSDT</td>\n",
       "      <td>53.051129</td>\n",
       "      <td>49.841083</td>\n",
       "      <td>69.870180</td>\n",
       "      <td>85.500887</td>\n",
       "      <td>96.171670</td>\n",
       "      <td>57.054471</td>\n",
       "    </tr>\n",
       "  </tbody>\n",
       "</table>\n",
       "<p>113 rows × 7 columns</p>\n",
       "</div>"
      ],
      "text/plain": [
       "         pair     rsi_1m     rsi_5m    rsi_15m    rsi_30m     rsi_1h  \\\n",
       "67    LRCUSDT  24.397554  35.179748  14.886971  32.871023  41.919663   \n",
       "79   AKROUSDT  35.876647  32.630622  17.712721  31.698213  52.945951   \n",
       "106   NKNUSDT  40.713983  48.674797  18.878768  26.959648  50.830709   \n",
       "93    CHRUSDT  48.024911  46.469154  19.709820  34.020299  47.601607   \n",
       "59    FLMUSDT  27.045916  37.365366  19.808402  26.760198  46.197832   \n",
       "..        ...        ...        ...        ...        ...        ...   \n",
       "81   SANDUSDT  40.325756  57.064683  61.009441  66.809251  72.621875   \n",
       "58    ENJUSDT  56.472537  76.727311  61.447473  60.945696  70.957905   \n",
       "60   TOMOUSDT  70.052848  62.222399  61.872614  43.291752  51.531321   \n",
       "99   STMXUSDT  48.901081  51.716500  62.356012  74.465934  95.502861   \n",
       "72    CTKUSDT  53.051129  49.841083  69.870180  85.500887  96.171670   \n",
       "\n",
       "        rsi_1d  \n",
       "67   51.049748  \n",
       "79   37.133600  \n",
       "106  35.803642  \n",
       "93   38.180765  \n",
       "59   34.383096  \n",
       "..         ...  \n",
       "81   60.731895  \n",
       "58   52.567629  \n",
       "60   48.682839  \n",
       "99   67.914359  \n",
       "72   57.054471  \n",
       "\n",
       "[113 rows x 7 columns]"
      ]
     },
     "execution_count": 6,
     "metadata": {},
     "output_type": "execute_result"
    }
   ],
   "source": [
    "x.sort_values(by='rsi_15m', ascending=True)"
   ]
  },
  {
   "cell_type": "code",
   "execution_count": null,
   "metadata": {},
   "outputs": [],
   "source": [
    "x[4].iloc[-1]"
   ]
  },
  {
   "cell_type": "code",
   "execution_count": null,
   "metadata": {},
   "outputs": [],
   "source": [
    "[q for q in x]"
   ]
  },
  {
   "cell_type": "code",
   "execution_count": null,
   "metadata": {},
   "outputs": [],
   "source": [
    "exchange_info = x"
   ]
  },
  {
   "cell_type": "code",
   "execution_count": null,
   "metadata": {},
   "outputs": [],
   "source": [
    "pairs = [symbol_info['symbol'] for symbol_info in exchange_info['symbols'] if symbol_info['symbol'][-4:]=='USDT']"
   ]
  },
  {
   "cell_type": "code",
   "execution_count": null,
   "metadata": {},
   "outputs": [],
   "source": [
    "pairs"
   ]
  },
  {
   "cell_type": "code",
   "execution_count": null,
   "metadata": {},
   "outputs": [],
   "source": [
    "x = client.get_exchange_info()"
   ]
  },
  {
   "cell_type": "code",
   "execution_count": null,
   "metadata": {},
   "outputs": [],
   "source": [
    "[q['symbol'] for q in x['symbols'] if q['isMarginTradingAllowed']==True and q['symbol'][-4:]=='USDT']"
   ]
  },
  {
   "cell_type": "code",
   "execution_count": null,
   "metadata": {},
   "outputs": [],
   "source": [
    "x['symbols'][0]"
   ]
  },
  {
   "cell_type": "code",
   "execution_count": null,
   "metadata": {},
   "outputs": [],
   "source": [
    "[q['symbol'] for q in x['symbols'] if q['contractType']=='PERPETUAL' and q['symbol'][-4:]=='USDT']"
   ]
  }
 ],
 "metadata": {
  "interpreter": {
   "hash": "2554e3954a55011ec49b9ed6ab087f3d10e15c744110fb59f3cc88c1f24fb9b6"
  },
  "kernelspec": {
   "display_name": "Python 3.6.5 64-bit",
   "name": "python3"
  },
  "language_info": {
   "codemirror_mode": {
    "name": "ipython",
    "version": 3
   },
   "file_extension": ".py",
   "mimetype": "text/x-python",
   "name": "python",
   "nbconvert_exporter": "python",
   "pygments_lexer": "ipython3",
   "version": "3.6.5"
  },
  "metadata": {
   "interpreter": {
    "hash": "7177d64566fc45fea1f90137e880bab6d2acea3a018929f123d8937510dd0912"
   }
  },
  "orig_nbformat": 2
 },
 "nbformat": 4,
 "nbformat_minor": 2
}