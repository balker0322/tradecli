{
 "metadata": {
  "language_info": {
   "codemirror_mode": {
    "name": "ipython",
    "version": 3
   },
   "file_extension": ".py",
   "mimetype": "text/x-python",
   "name": "python",
   "nbconvert_exporter": "python",
   "pygments_lexer": "ipython3",
   "version": "3.9.1"
  },
  "orig_nbformat": 2,
  "kernelspec": {
   "name": "python3",
   "display_name": "Python 3.9.1  ('venv': venv)"
  },
  "metadata": {
   "interpreter": {
    "hash": "7177d64566fc45fea1f90137e880bab6d2acea3a018929f123d8937510dd0912"
   }
  },
  "interpreter": {
   "hash": "7177d64566fc45fea1f90137e880bab6d2acea3a018929f123d8937510dd0912"
  }
 },
 "nbformat": 4,
 "nbformat_minor": 2,
 "cells": [
  {
   "cell_type": "code",
   "execution_count": null,
   "metadata": {},
   "outputs": [],
   "source": [
    "import src.strategy as strategy"
   ]
  },
  {
   "cell_type": "code",
   "execution_count": null,
   "metadata": {},
   "outputs": [],
   "source": [
    "cls = getattr(strategy, 'test_bot')\n",
    "bot = cls()\n",
    "bot.test_net  = False\n",
    "bot.back_test = False\n",
    "bot.stub_test = False\n",
    "bot.hyperopt  = False\n",
    "bot.account = 'binanceaccount1'\n",
    "bot.exchange_arg = 'binance'\n",
    "bot.pair = 'BTCUSDT'"
   ]
  },
  {
   "cell_type": "code",
   "execution_count": null,
   "metadata": {},
   "outputs": [],
   "source": [
    "bot.run()"
   ]
  },
  {
   "cell_type": "code",
   "execution_count": null,
   "metadata": {},
   "outputs": [],
   "source": [
    "from src.binance_futures import BinanceFutures"
   ]
  },
  {
   "cell_type": "code",
   "execution_count": null,
   "metadata": {},
   "outputs": [],
   "source": [
    "exchange = BinanceFutures(account='binanceaccount1', pair='BTCUSDT', demo=False)"
   ]
  },
  {
   "source": [
    "x = exchange.get_futures_exchange_info()"
   ],
   "cell_type": "code",
   "metadata": {},
   "execution_count": null,
   "outputs": []
  },
  {
   "cell_type": "code",
   "execution_count": null,
   "metadata": {},
   "outputs": [],
   "source": [
    "x['symbols']"
   ]
  },
  {
   "cell_type": "code",
   "execution_count": null,
   "metadata": {},
   "outputs": [],
   "source": [
    "y = dict()\n",
    "for q in x['symbols']:\n",
    "    if q['symbol'][-len('USDT'):] == 'USDT':\n",
    "        y[q['symbol']] = {\n",
    "            'min_lot_size':q['filters'][1]['minQty'],\n",
    "            'min_price_step':q['filters'][0]['tickSize']\n",
    "        }\n"
   ]
  },
  {
   "cell_type": "code",
   "execution_count": null,
   "metadata": {},
   "outputs": [],
   "source": [
    "q = x['symbols'][2]"
   ]
  },
  {
   "cell_type": "code",
   "execution_count": null,
   "metadata": {},
   "outputs": [],
   "source": []
  },
  {
   "cell_type": "code",
   "execution_count": null,
   "metadata": {},
   "outputs": [],
   "source": [
    "q['filters'][0]['tickSize']"
   ]
  },
  {
   "cell_type": "code",
   "execution_count": null,
   "metadata": {},
   "outputs": [],
   "source": [
    "q['filters'][1]['minQty']"
   ]
  },
  {
   "cell_type": "code",
   "execution_count": null,
   "metadata": {},
   "outputs": [],
   "source": [
    "q"
   ]
  },
  {
   "cell_type": "code",
   "execution_count": null,
   "metadata": {},
   "outputs": [],
   "source": [
    "w = exchange.get_account_information()"
   ]
  },
  {
   "cell_type": "code",
   "execution_count": null,
   "metadata": {},
   "outputs": [],
   "source": [
    "[e for e in w]"
   ]
  },
  {
   "cell_type": "code",
   "execution_count": null,
   "metadata": {},
   "outputs": [],
   "source": [
    "w['assets']"
   ]
  },
  {
   "cell_type": "code",
   "execution_count": null,
   "metadata": {},
   "outputs": [],
   "source": [
    "exchange.get_market_price()"
   ]
  },
  {
   "cell_type": "code",
   "execution_count": null,
   "metadata": {},
   "outputs": [],
   "source": [
    "exchange.get_futures_symbol_ticker('BTCUSDT')"
   ]
  },
  {
   "cell_type": "code",
   "execution_count": null,
   "metadata": {},
   "outputs": [],
   "source": [
    "from src.binance_futures import BinanceFutures"
   ]
  },
  {
   "cell_type": "code",
   "execution_count": null,
   "metadata": {},
   "outputs": [],
   "source": [
    "exchange = BinanceFutures(account='binanceaccount1', pair='', demo=False)"
   ]
  },
  {
   "cell_type": "code",
   "execution_count": null,
   "metadata": {},
   "outputs": [],
   "source": [
    "raw_pair_info = exchange.get_futures_exchange_info()['symbols']"
   ]
  },
  {
   "cell_type": "code",
   "execution_count": null,
   "metadata": {},
   "outputs": [],
   "source": [
    "raw_pair_info"
   ]
  },
  {
   "cell_type": "code",
   "execution_count": null,
   "metadata": {},
   "outputs": [],
   "source": [
    "from decimal import Decimal as d"
   ]
  },
  {
   "cell_type": "code",
   "execution_count": null,
   "metadata": {},
   "outputs": [],
   "source": [
    "x = d(1.0)"
   ]
  },
  {
   "cell_type": "code",
   "execution_count": null,
   "metadata": {},
   "outputs": [],
   "source": [
    "d(x)"
   ]
  },
  {
   "cell_type": "code",
   "execution_count": 1,
   "metadata": {},
   "outputs": [],
   "source": [
    "from tradeinterface import *"
   ]
  },
  {
   "cell_type": "code",
   "execution_count": 2,
   "metadata": {},
   "outputs": [],
   "source": [
    "position_size = 50.0\n",
    "pair='XLMUSDT'\n",
    "entry_price = 0.35"
   ]
  },
  {
   "cell_type": "code",
   "execution_count": 3,
   "metadata": {},
   "outputs": [
    {
     "output_type": "execute_result",
     "data": {
      "text/plain": [
       "[{'orderId': 5010489495,\n",
       "  'symbol': 'XLMUSDT',\n",
       "  'status': 'NEW',\n",
       "  'clientOrderId': 'SL_zv6pcfPyTgyV1/0fMCeHKw',\n",
       "  'price': '0',\n",
       "  'avgPrice': '0',\n",
       "  'origQty': '50',\n",
       "  'executedQty': '0',\n",
       "  'cumQuote': '0',\n",
       "  'timeInForce': 'GTC',\n",
       "  'type': 'STOP_MARKET',\n",
       "  'reduceOnly': True,\n",
       "  'closePosition': False,\n",
       "  'side': 'SELL',\n",
       "  'positionSide': 'BOTH',\n",
       "  'stopPrice': '0.28000',\n",
       "  'workingType': 'CONTRACT_PRICE',\n",
       "  'priceProtect': False,\n",
       "  'origType': 'STOP_MARKET',\n",
       "  'time': 1623715129627,\n",
       "  'updateTime': 1623715129627},\n",
       " {'orderId': 5010490443,\n",
       "  'symbol': 'XLMUSDT',\n",
       "  'status': 'NEW',\n",
       "  'clientOrderId': 'TP_SZ9S7OA6RtejpO8VEy3CUQ',\n",
       "  'price': '0.50000',\n",
       "  'avgPrice': '0',\n",
       "  'origQty': '50',\n",
       "  'executedQty': '0',\n",
       "  'cumQuote': '0',\n",
       "  'timeInForce': 'GTC',\n",
       "  'type': 'LIMIT',\n",
       "  'reduceOnly': True,\n",
       "  'closePosition': False,\n",
       "  'side': 'SELL',\n",
       "  'positionSide': 'BOTH',\n",
       "  'stopPrice': '0',\n",
       "  'workingType': 'CONTRACT_PRICE',\n",
       "  'priceProtect': False,\n",
       "  'origType': 'LIMIT',\n",
       "  'time': 1623715142217,\n",
       "  'updateTime': 1623715142218}]"
      ]
     },
     "metadata": {},
     "execution_count": 3
    }
   ],
   "source": [
    "get_all_orders(pair)"
   ]
  },
  {
   "cell_type": "code",
   "execution_count": null,
   "metadata": {},
   "outputs": [],
   "source": [
    "stop_limit_long_entry(pair, position_size, entry_price)"
   ]
  },
  {
   "cell_type": "code",
   "execution_count": null,
   "metadata": {},
   "outputs": [],
   "source": [
    "cancel_all_order(pair)"
   ]
  },
  {
   "cell_type": "code",
   "execution_count": null,
   "metadata": {},
   "outputs": [],
   "source": [
    "market_long_entry(pair, position_size)"
   ]
  },
  {
   "cell_type": "code",
   "execution_count": null,
   "metadata": {},
   "outputs": [],
   "source": [
    "get_open_position(pair)"
   ]
  },
  {
   "cell_type": "code",
   "execution_count": null,
   "metadata": {},
   "outputs": [],
   "source": [
    "close_open_position(pair)"
   ]
  },
  {
   "cell_type": "code",
   "execution_count": 4,
   "metadata": {},
   "outputs": [],
   "source": [
    "BINANCE_ACCOUNT = 'binanceaccount2'\n",
    "exchange=BinanceFutures(account=BINANCE_ACCOUNT, pair=pair, demo=False)\n",
    "# x=exchange.get_open_order('TP')"
   ]
  },
  {
   "cell_type": "code",
   "execution_count": 9,
   "metadata": {},
   "outputs": [
    {
     "output_type": "stream",
     "name": "stderr",
     "text": [
      "2021-06-15 07:58:49,688 - INFO - ========= New Order ==============\n",
      "2021-06-15 07:58:49,688 - INFO - ID     : SL_zv6pcfPyTgyV1/0fMCeHKw\n",
      "2021-06-15 07:58:49,689 - INFO - Type   : STOP_MARKET\n",
      "2021-06-15 07:58:49,689 - INFO - Side   : SELL\n",
      "2021-06-15 07:58:49,690 - INFO - Qty    : 50.0\n",
      "2021-06-15 07:58:49,690 - INFO - Limit  : 0\n",
      "2021-06-15 07:58:49,690 - INFO - Stop   : 0.28\n",
      "2021-06-15 07:58:49,691 - INFO - ======================================\n"
     ]
    },
    {
     "output_type": "execute_result",
     "data": {
      "text/plain": [
       "[{'orderId': 5010489495,\n",
       "  'symbol': 'XLMUSDT',\n",
       "  'status': 'NEW',\n",
       "  'clientOrderId': 'SL_zv6pcfPyTgyV1/0fMCeHKw',\n",
       "  'price': '0',\n",
       "  'avgPrice': '0',\n",
       "  'origQty': '50',\n",
       "  'executedQty': '0',\n",
       "  'cumQuote': '0',\n",
       "  'timeInForce': 'GTC',\n",
       "  'type': 'STOP_MARKET',\n",
       "  'reduceOnly': True,\n",
       "  'closePosition': False,\n",
       "  'side': 'SELL',\n",
       "  'positionSide': 'BOTH',\n",
       "  'stopPrice': '0.28000',\n",
       "  'workingType': 'CONTRACT_PRICE',\n",
       "  'priceProtect': False,\n",
       "  'origType': 'STOP_MARKET',\n",
       "  'time': 1623715129627,\n",
       "  'updateTime': 1623715129627}]"
      ]
     },
     "metadata": {},
     "execution_count": 9
    }
   ],
   "source": [
    "exchange.set_sl(0.28)\n",
    "exchange.get_sl_order()"
   ]
  },
  {
   "cell_type": "code",
   "execution_count": 33,
   "metadata": {},
   "outputs": [
    {
     "output_type": "stream",
     "name": "stderr",
     "text": [
      "2021-06-15 08:06:22,034 - INFO - Cancel Order : (clientOrderId, type, side, quantity, price, stop) = (TP_dzOZF4QSQO6nA/qXiGZazA, LIMIT, SELL, 20, 0.52000, 0)\n",
      "2021-06-15 08:06:23,166 - INFO - Cancel Order : (clientOrderId, type, side, quantity, price, stop) = (TP_B/Y99X/9QXq/QhDd3/DxpA, LIMIT, SELL, 20, 0.54000, 0)\n",
      "2021-06-15 08:06:24,593 - INFO - Cancel Order : (clientOrderId, type, side, quantity, price, stop) = (TP_Qov2vVorQkqB9npEAoSKIA, LIMIT, SELL, 10, 0.55000, 0)\n"
     ]
    }
   ],
   "source": [
    "cancel_tp(pair)"
   ]
  },
  {
   "cell_type": "code",
   "execution_count": 38,
   "metadata": {},
   "outputs": [
    {
     "output_type": "stream",
     "name": "stderr",
     "text": [
      "2021-06-15 08:07:02,273 - INFO - ========= New Order ==============\n",
      "2021-06-15 08:07:02,274 - INFO - ID     : TP_c05zG/cnQVaMTeMQQ5q1xQ\n",
      "2021-06-15 08:07:02,275 - INFO - Type   : LIMIT\n",
      "2021-06-15 08:07:02,276 - INFO - Side   : SELL\n",
      "2021-06-15 08:07:02,276 - INFO - Qty    : 40.0\n",
      "2021-06-15 08:07:02,277 - INFO - Limit  : 0.55\n",
      "2021-06-15 08:07:02,278 - INFO - Stop   : 0\n",
      "2021-06-15 08:07:02,278 - INFO - ======================================\n"
     ]
    }
   ],
   "source": [
    "exchange.set_tp(0.55, 40.0)"
   ]
  },
  {
   "cell_type": "code",
   "execution_count": 50,
   "metadata": {},
   "outputs": [
    {
     "output_type": "stream",
     "name": "stdout",
     "text": [
      "TP_c05zG/cnQVaMTeMQQ5q1xQ\t40 XLM\t0.55000 USDT\nTP_PmNNdE5GQHqvURWJuK4ujg\t10 XLM\t0.53000 USDT\n"
     ]
    }
   ],
   "source": [
    "x = exchange.get_tp_order()\n",
    "if x:\n",
    "    for o in x:\n",
    "        print('{}\\t{} XLM\\t{} USDT'.format(o['clientOrderId'], o['origQty'], o['price']))"
   ]
  },
  {
   "cell_type": "code",
   "execution_count": 28,
   "metadata": {},
   "outputs": [
    {
     "output_type": "execute_result",
     "data": {
      "text/plain": [
       "1"
      ]
     },
     "metadata": {},
     "execution_count": 28
    }
   ],
   "source": [
    "len(exchange.get_sl_order())"
   ]
  },
  {
   "cell_type": "code",
   "execution_count": 12,
   "metadata": {},
   "outputs": [
    {
     "output_type": "stream",
     "name": "stdout",
     "text": [
      "orderId\nsymbol\nstatus\nclientOrderId\nprice\navgPrice\norigQty\nexecutedQty\ncumQuote\ntimeInForce\ntype\nreduceOnly\nclosePosition\nside\npositionSide\nstopPrice\nworkingType\npriceProtect\norigType\ntime\nupdateTime\n"
     ]
    }
   ],
   "source": [
    "for q in x:\n",
    "    print(q)"
   ]
  },
  {
   "cell_type": "code",
   "execution_count": null,
   "metadata": {},
   "outputs": [],
   "source": []
  }
 ]
}