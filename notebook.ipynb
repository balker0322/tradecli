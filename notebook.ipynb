{
 "cells": [
  {
   "cell_type": "code",
   "execution_count": null,
   "source": [],
   "outputs": [],
   "metadata": {}
  },
  {
   "cell_type": "code",
   "execution_count": null,
   "source": [],
   "outputs": [],
   "metadata": {}
  },
  {
   "cell_type": "code",
   "execution_count": null,
   "source": [
    "import src.strategy as strategy"
   ],
   "outputs": [],
   "metadata": {}
  },
  {
   "cell_type": "code",
   "execution_count": null,
   "source": [
    "cls = getattr(strategy, 'test_bot')\n",
    "bot = cls()\n",
    "bot.test_net  = False\n",
    "bot.back_test = False\n",
    "bot.stub_test = False\n",
    "bot.hyperopt  = False\n",
    "bot.account = 'binanceaccount1'\n",
    "bot.exchange_arg = 'binance'\n",
    "bot.pair = 'BTCUSDT'"
   ],
   "outputs": [],
   "metadata": {}
  },
  {
   "cell_type": "code",
   "execution_count": null,
   "source": [
    "bot.run()"
   ],
   "outputs": [],
   "metadata": {}
  },
  {
   "cell_type": "code",
   "execution_count": null,
   "source": [
    "from src.binance_futures import BinanceFutures"
   ],
   "outputs": [],
   "metadata": {}
  },
  {
   "cell_type": "code",
   "execution_count": null,
   "source": [
    "exchange = BinanceFutures(account='binanceaccount1', pair='BTCUSDT', demo=False)"
   ],
   "outputs": [],
   "metadata": {}
  },
  {
   "cell_type": "code",
   "execution_count": null,
   "source": [
    "x = exchange.get_position()"
   ],
   "outputs": [],
   "metadata": {}
  },
  {
   "cell_type": "code",
   "execution_count": null,
   "source": [
    "import pandas as pd"
   ],
   "outputs": [],
   "metadata": {}
  },
  {
   "cell_type": "code",
   "execution_count": null,
   "source": [
    "col = ['a','b']"
   ],
   "outputs": [],
   "metadata": {}
  },
  {
   "cell_type": "code",
   "execution_count": null,
   "source": [
    "pd.DataFrame(columns=col)"
   ],
   "outputs": [],
   "metadata": {}
  },
  {
   "cell_type": "code",
   "execution_count": null,
   "source": [
    "from screener.func import *"
   ],
   "outputs": [],
   "metadata": {}
  },
  {
   "cell_type": "code",
   "execution_count": null,
   "source": [
    "get_crypto_df(indicator=['rsi_5m']).sort_values(by='rsi_5m', ascending=True)"
   ],
   "outputs": [],
   "metadata": {}
  },
  {
   "cell_type": "code",
   "execution_count": null,
   "source": [
    "# pairs = get_all_pairs()\n",
    "# x = get_crypto_df(pairs=pairs)\n",
    "x = get_crypto_df()\n",
    "x.sort_values(by='rsi_1h', ascending=True)"
   ],
   "outputs": [],
   "metadata": {}
  },
  {
   "cell_type": "code",
   "execution_count": null,
   "source": [
    "x.sort_values(by='rsi_1d', ascending=True)"
   ],
   "outputs": [],
   "metadata": {}
  },
  {
   "cell_type": "code",
   "execution_count": null,
   "source": [
    "x[4].iloc[-1]"
   ],
   "outputs": [],
   "metadata": {}
  },
  {
   "cell_type": "code",
   "execution_count": null,
   "source": [
    "[q for q in x]"
   ],
   "outputs": [],
   "metadata": {}
  },
  {
   "cell_type": "code",
   "execution_count": null,
   "source": [
    "exchange_info = x"
   ],
   "outputs": [],
   "metadata": {}
  },
  {
   "cell_type": "code",
   "execution_count": null,
   "source": [
    "pairs = [symbol_info['symbol'] for symbol_info in exchange_info['symbols'] if symbol_info['symbol'][-4:]=='USDT']"
   ],
   "outputs": [],
   "metadata": {}
  },
  {
   "cell_type": "code",
   "execution_count": null,
   "source": [
    "pairs"
   ],
   "outputs": [],
   "metadata": {}
  },
  {
   "cell_type": "code",
   "execution_count": null,
   "source": [
    "x = client.get_exchange_info()"
   ],
   "outputs": [],
   "metadata": {}
  },
  {
   "cell_type": "code",
   "execution_count": null,
   "source": [
    "[q['symbol'] for q in x['symbols'] if q['isMarginTradingAllowed']==True and q['symbol'][-4:]=='USDT']"
   ],
   "outputs": [],
   "metadata": {}
  },
  {
   "cell_type": "code",
   "execution_count": null,
   "source": [
    "x['symbols'][0]"
   ],
   "outputs": [],
   "metadata": {}
  },
  {
   "cell_type": "code",
   "execution_count": null,
   "source": [
    "[q['symbol'] for q in x['symbols'] if q['contractType']=='PERPETUAL' and q['symbol'][-4:]=='USDT']"
   ],
   "outputs": [],
   "metadata": {}
  },
  {
   "cell_type": "code",
   "execution_count": null,
   "source": [
    "import numpy as np\n",
    "import matplotlib.pyplot as plt"
   ],
   "outputs": [],
   "metadata": {}
  },
  {
   "cell_type": "code",
   "execution_count": null,
   "source": [
    "np.array([1, 3, 4, 5])"
   ],
   "outputs": [],
   "metadata": {}
  },
  {
   "cell_type": "code",
   "execution_count": null,
   "source": [
    "x = np.asarray([0, 1, 2, 3, 4, 5, 6, 7, 8, 9])\n",
    "y1 = np.asarray([0, 1, 2, 3, 4, 5, 6, 7, 8, 9])\n",
    "y2 = np.asarray([0, 1, 2, 3, 4, 5, 6, 7, 8, 9])"
   ],
   "outputs": [],
   "metadata": {}
  },
  {
   "cell_type": "code",
   "execution_count": null,
   "source": [
    "np.shape(x)"
   ],
   "outputs": [],
   "metadata": {}
  },
  {
   "cell_type": "code",
   "execution_count": null,
   "source": [
    "np.random.rand(10,)"
   ],
   "outputs": [],
   "metadata": {}
  },
  {
   "cell_type": "code",
   "execution_count": null,
   "source": [
    "x = np.asarray([0, 1, 2, 3, 4, 5, 6, 7, 8, 9])\n",
    "# y1 = np.asarray([0, 1, 2, 3, 4, 5, 6, 7, 8, 9])\n",
    "y1 = np.asarray([0, 1, 2, 3, None, None, None, None, None, None])\n",
    "plt.plot(x, y1, label='Channel 1')\n",
    "plt.xlim(0, 10)"
   ],
   "outputs": [],
   "metadata": {}
  },
  {
   "cell_type": "code",
   "execution_count": null,
   "source": [
    "from collections import deque as dq\n",
    "from random import random"
   ],
   "outputs": [],
   "metadata": {}
  },
  {
   "cell_type": "code",
   "execution_count": null,
   "source": [
    "random()"
   ],
   "outputs": [],
   "metadata": {}
  },
  {
   "cell_type": "code",
   "execution_count": null,
   "source": [
    "y_vals = dq(maxlen=10)"
   ],
   "outputs": [],
   "metadata": {}
  },
  {
   "cell_type": "code",
   "execution_count": null,
   "source": [
    "y_vals.append(1)"
   ],
   "outputs": [],
   "metadata": {}
  },
  {
   "cell_type": "code",
   "execution_count": null,
   "source": [
    "y_vals"
   ],
   "outputs": [],
   "metadata": {}
  },
  {
   "cell_type": "code",
   "execution_count": null,
   "source": [
    "np.array(y_vals)"
   ],
   "outputs": [],
   "metadata": {}
  },
  {
   "cell_type": "code",
   "execution_count": null,
   "source": [
    "from model import *"
   ],
   "outputs": [],
   "metadata": {}
  },
  {
   "cell_type": "code",
   "execution_count": null,
   "source": [
    "x = get_min_price_step('BTCUSDT')"
   ],
   "outputs": [],
   "metadata": {}
  },
  {
   "cell_type": "code",
   "execution_count": null,
   "source": [
    "type(x)"
   ],
   "outputs": [],
   "metadata": {}
  },
  {
   "cell_type": "code",
   "execution_count": null,
   "source": [
    "x = '1000'"
   ],
   "outputs": [],
   "metadata": {}
  },
  {
   "cell_type": "code",
   "execution_count": null,
   "source": [
    "x.split('.')"
   ],
   "outputs": [],
   "metadata": {}
  },
  {
   "cell_type": "code",
   "execution_count": null,
   "source": [
    "x"
   ],
   "outputs": [],
   "metadata": {}
  },
  {
   "cell_type": "code",
   "execution_count": null,
   "source": [
    "x='{0:.'+str(6)+'f}'\n",
    "x.format(2)"
   ],
   "outputs": [],
   "metadata": {}
  },
  {
   "cell_type": "code",
   "execution_count": null,
   "source": [
    "x = {'e': 'kline', 'E': 1625560567028, 's': 'BTCUSDT', 'k': {'t': 1625529600000, 'T': 1625615999999, 's': 'BTCUSDT', 'i': '1d', 'f': 1146958150, 'L': 1148441773, 'o': '33672.72', 'c': '34810.62', 'h': '34948.00', 'l': '33603.70', 'v': '200284.702', 'n': 1483583, 'x': False, 'q': '6881249977.54822', 'V': '104051.141', 'Q': '3574917371.79092', 'B': '0'}}"
   ],
   "outputs": [],
   "metadata": {}
  },
  {
   "cell_type": "code",
   "execution_count": null,
   "source": [
    "x"
   ],
   "outputs": [],
   "metadata": {}
  },
  {
   "cell_type": "code",
   "execution_count": null,
   "source": [
    "from screener.func import *"
   ],
   "outputs": [],
   "metadata": {}
  },
  {
   "cell_type": "code",
   "execution_count": null,
   "source": [
    "x=get_market_cap()"
   ],
   "outputs": [],
   "metadata": {}
  },
  {
   "cell_type": "code",
   "execution_count": null,
   "source": [
    "x"
   ],
   "outputs": [],
   "metadata": {}
  },
  {
   "cell_type": "code",
   "execution_count": null,
   "source": [
    "from tradecalc import *\n",
    "x = split_position('-33.3214', 1, '0.0001')\n",
    "s = sum(x)\n",
    "print(s)\n",
    "print(x)"
   ],
   "outputs": [],
   "metadata": {}
  },
  {
   "cell_type": "code",
   "execution_count": null,
   "source": [
    "x = split_position('3123', 3, '0.001')\n",
    "sum(x)"
   ],
   "outputs": [],
   "metadata": {}
  },
  {
   "cell_type": "code",
   "execution_count": 473,
   "source": [
    "from screener.func import *"
   ],
   "outputs": [],
   "metadata": {}
  },
  {
   "cell_type": "code",
   "execution_count": null,
   "metadata": {},
   "outputs": [],
   "source": [
    "exchange_info = client.get_exchange_info()"
   ]
  },
  {
   "cell_type": "code",
   "execution_count": null,
   "metadata": {},
   "outputs": [],
   "source": [
    "# 'LTCETH'\n",
    "# 'ETHBTC'\n",
    "# 'BTCUSDT'\n",
    "# 'LTCUSDT'\n",
    "[symbol_info for symbol_info in exchange_info['symbols'] if symbol_info['symbol']=='LTCETH']"
   ]
  },
  {
   "cell_type": "code",
   "execution_count": null,
   "metadata": {},
   "outputs": [],
   "source": [
    "prices = client.get_all_tickers()"
   ]
  },
  {
   "cell_type": "code",
   "execution_count": 51,
   "metadata": {},
   "outputs": [
    {
     "output_type": "stream",
     "name": "stdout",
     "text": [
      "1948.28000000 0.06521000 127.13000000\n"
     ]
    }
   ],
   "source": [
    "symbol_list = [ 'LTCETH',\n",
    "                'ETHUSDT',\n",
    "                # 'BTCUSDT',\n",
    "                'LTCUSDT',]\n",
    "# prices = client.get_all_tickers()\n",
    "eu, le, lu = [price['price'] for price in client.get_all_tickers() if price['symbol'] in symbol_list]\n",
    "\n",
    "print(eu, le, lu)\n"
   ]
  },
  {
   "cell_type": "code",
   "execution_count": 595,
   "metadata": {},
   "outputs": [
    {
     "output_type": "stream",
     "name": "stdout",
     "text": [
      "0.7881656804733728\n",
      "0.051305518863905324\n",
      "99.67099343930136\n"
     ]
    }
   ],
   "source": [
    "eu, le, lu = [price['price'] for price in client.get_all_tickers() if price['symbol'] in symbol_list]\n",
    "base_usdt_amt = 100.0\n",
    "\n",
    "# USDT to LTC\n",
    "ltc_amt = base_usdt_amt / float(lu)\n",
    "ltc_amt *= 0.999\n",
    "print(ltc_amt)\n",
    "\n",
    "eu, le, lu = [price['price'] for price in client.get_all_tickers() if price['symbol'] in symbol_list]\n",
    "\n",
    "# LTC to ETH\n",
    "eth_amt = ltc_amt * float(le)\n",
    "eth_amt *= 0.999\n",
    "print(eth_amt)\n",
    "\n",
    "eu, le, lu = [price['price'] for price in client.get_all_tickers() if price['symbol'] in symbol_list]\n",
    "\n",
    "# ETH to USDT\n",
    "usdt_amt = eth_amt * float(eu)\n",
    "usdt_amt *= 0.999\n",
    "\n",
    "print(usdt_amt)"
   ]
  },
  {
   "cell_type": "code",
   "execution_count": 564,
   "metadata": {},
   "outputs": [
    {
     "output_type": "stream",
     "name": "stdout",
     "text": [
      "0.7890168849613381\n"
     ]
    }
   ],
   "source": [
    "eu, le, lu = [price['price'] for price in client.get_all_tickers() if price['symbol'] in symbol_list]\n",
    "base_usdt_amt = 100.0\n",
    "\n",
    "# USDT to LTC\n",
    "ltc_amt = base_usdt_amt / float(lu)\n",
    "# ltc_amt *= 0.999\n",
    "print(ltc_amt)"
   ]
  },
  {
   "cell_type": "code",
   "execution_count": 565,
   "metadata": {},
   "outputs": [
    {
     "output_type": "stream",
     "name": "stdout",
     "text": [
      "0.051499132081426535\n"
     ]
    }
   ],
   "source": [
    "\n",
    "eu, le, lu = [price['price'] for price in client.get_all_tickers() if price['symbol'] in symbol_list]\n",
    "\n",
    "# LTC to ETH\n",
    "eth_amt = ltc_amt * float(le)\n",
    "# eth_amt *= 0.999\n",
    "print(eth_amt)"
   ]
  },
  {
   "cell_type": "code",
   "execution_count": 567,
   "metadata": {},
   "outputs": [
    {
     "output_type": "stream",
     "name": "stdout",
     "text": [
      "100.03294413760453\n"
     ]
    }
   ],
   "source": [
    "\n",
    "eu, le, lu = [price['price'] for price in client.get_all_tickers() if price['symbol'] in symbol_list]\n",
    "\n",
    "# ETH to USDT\n",
    "usdt_amt = eth_amt * float(eu)\n",
    "# usdt_amt *= 0.999\n",
    "\n",
    "print(usdt_amt)"
   ]
  },
  {
   "cell_type": "code",
   "execution_count": null,
   "metadata": {},
   "outputs": [],
   "source": []
  }
 ],
 "metadata": {
  "interpreter": {
   "hash": "7177d64566fc45fea1f90137e880bab6d2acea3a018929f123d8937510dd0912"
  },
  "kernelspec": {
   "name": "python3",
   "display_name": "Python 3.9.2 64-bit ('venv': venv)"
  },
  "language_info": {
   "codemirror_mode": {
    "name": "ipython",
    "version": 3
   },
   "file_extension": ".py",
   "mimetype": "text/x-python",
   "name": "python",
   "nbconvert_exporter": "python",
   "pygments_lexer": "ipython3",
   "version": "3.9.2"
  },
  "metadata": {
   "interpreter": {
    "hash": "7177d64566fc45fea1f90137e880bab6d2acea3a018929f123d8937510dd0912"
   }
  },
  "orig_nbformat": 2
 },
 "nbformat": 4,
 "nbformat_minor": 2
}