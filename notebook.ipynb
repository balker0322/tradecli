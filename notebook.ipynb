{
 "metadata": {
  "language_info": {
   "codemirror_mode": {
    "name": "ipython",
    "version": 3
   },
   "file_extension": ".py",
   "mimetype": "text/x-python",
   "name": "python",
   "nbconvert_exporter": "python",
   "pygments_lexer": "ipython3",
   "version": "3.6.5"
  },
  "orig_nbformat": 2,
  "kernelspec": {
   "name": "python3",
   "display_name": "Python 3.6.5 64-bit"
  },
  "metadata": {
   "interpreter": {
    "hash": "7177d64566fc45fea1f90137e880bab6d2acea3a018929f123d8937510dd0912"
   }
  },
  "interpreter": {
   "hash": "2554e3954a55011ec49b9ed6ab087f3d10e15c744110fb59f3cc88c1f24fb9b6"
  }
 },
 "nbformat": 4,
 "nbformat_minor": 2,
 "cells": [
  {
   "cell_type": "code",
   "execution_count": null,
   "metadata": {},
   "outputs": [],
   "source": [
    "import src.strategy as strategy"
   ]
  },
  {
   "cell_type": "code",
   "execution_count": null,
   "metadata": {},
   "outputs": [],
   "source": [
    "cls = getattr(strategy, 'test_bot')\n",
    "bot = cls()\n",
    "bot.test_net  = False\n",
    "bot.back_test = False\n",
    "bot.stub_test = False\n",
    "bot.hyperopt  = False\n",
    "bot.account = 'binanceaccount1'\n",
    "bot.exchange_arg = 'binance'\n",
    "bot.pair = 'BTCUSDT'"
   ]
  },
  {
   "cell_type": "code",
   "execution_count": null,
   "metadata": {},
   "outputs": [],
   "source": [
    "bot.run()"
   ]
  },
  {
   "cell_type": "code",
   "execution_count": null,
   "metadata": {},
   "outputs": [],
   "source": [
    "from src.binance_futures import BinanceFutures"
   ]
  },
  {
   "cell_type": "code",
   "execution_count": null,
   "metadata": {},
   "outputs": [],
   "source": [
    "exchange = BinanceFutures(account='binanceaccount1', pair='BTCUSDT', demo=False)"
   ]
  },
  {
   "source": [
    "x = exchange.get_futures_exchange_info()"
   ],
   "cell_type": "code",
   "metadata": {},
   "execution_count": null,
   "outputs": []
  },
  {
   "cell_type": "code",
   "execution_count": null,
   "metadata": {},
   "outputs": [],
   "source": [
    "x['symbols']"
   ]
  },
  {
   "cell_type": "code",
   "execution_count": null,
   "metadata": {},
   "outputs": [],
   "source": [
    "y = dict()\n",
    "for q in x['symbols']:\n",
    "    if q['symbol'][-len('USDT'):] == 'USDT':\n",
    "        y[q['symbol']] = {\n",
    "            'min_lot_size':q['filters'][1]['minQty'],\n",
    "            'min_price_step':q['filters'][0]['tickSize']\n",
    "        }\n"
   ]
  },
  {
   "cell_type": "code",
   "execution_count": null,
   "metadata": {},
   "outputs": [],
   "source": [
    "q = x['symbols'][2]"
   ]
  },
  {
   "cell_type": "code",
   "execution_count": null,
   "metadata": {},
   "outputs": [],
   "source": []
  },
  {
   "cell_type": "code",
   "execution_count": null,
   "metadata": {},
   "outputs": [],
   "source": [
    "q['filters'][0]['tickSize']"
   ]
  },
  {
   "cell_type": "code",
   "execution_count": null,
   "metadata": {},
   "outputs": [],
   "source": [
    "q['filters'][1]['minQty']"
   ]
  },
  {
   "cell_type": "code",
   "execution_count": null,
   "metadata": {},
   "outputs": [],
   "source": [
    "q"
   ]
  },
  {
   "cell_type": "code",
   "execution_count": null,
   "metadata": {},
   "outputs": [],
   "source": [
    "w = exchange.get_account_information()"
   ]
  },
  {
   "cell_type": "code",
   "execution_count": null,
   "metadata": {},
   "outputs": [],
   "source": [
    "[e for e in w]"
   ]
  },
  {
   "cell_type": "code",
   "execution_count": null,
   "metadata": {},
   "outputs": [],
   "source": [
    "w['assets']"
   ]
  },
  {
   "cell_type": "code",
   "execution_count": null,
   "metadata": {},
   "outputs": [],
   "source": [
    "exchange.get_market_price()"
   ]
  },
  {
   "cell_type": "code",
   "execution_count": null,
   "metadata": {},
   "outputs": [],
   "source": [
    "exchange.get_futures_symbol_ticker('BTCUSDT')"
   ]
  },
  {
   "cell_type": "code",
   "execution_count": null,
   "metadata": {},
   "outputs": [],
   "source": [
    "from src.binance_futures import BinanceFutures"
   ]
  },
  {
   "cell_type": "code",
   "execution_count": null,
   "metadata": {},
   "outputs": [],
   "source": [
    "exchange = BinanceFutures(account='binanceaccount1', pair='', demo=False)"
   ]
  },
  {
   "cell_type": "code",
   "execution_count": null,
   "metadata": {},
   "outputs": [],
   "source": [
    "raw_pair_info = exchange.get_futures_exchange_info()['symbols']"
   ]
  },
  {
   "cell_type": "code",
   "execution_count": null,
   "metadata": {},
   "outputs": [],
   "source": [
    "raw_pair_info"
   ]
  },
  {
   "cell_type": "code",
   "execution_count": null,
   "metadata": {},
   "outputs": [],
   "source": [
    "from decimal import Decimal as d"
   ]
  },
  {
   "cell_type": "code",
   "execution_count": null,
   "metadata": {},
   "outputs": [],
   "source": [
    "x = d(1.0)"
   ]
  },
  {
   "cell_type": "code",
   "execution_count": null,
   "metadata": {},
   "outputs": [],
   "source": [
    "d(x)"
   ]
  },
  {
   "cell_type": "code",
   "execution_count": 1,
   "metadata": {},
   "outputs": [],
   "source": [
    "from tradeinterface import *"
   ]
  },
  {
   "cell_type": "code",
   "execution_count": 2,
   "metadata": {},
   "outputs": [],
   "source": [
    "position_size = 50.0\n",
    "pair='XLMUSDT'\n",
    "entry_price = 0.35"
   ]
  },
  {
   "cell_type": "code",
   "execution_count": 3,
   "metadata": {},
   "outputs": [
    {
     "output_type": "execute_result",
     "data": {
      "text/plain": [
       "[{'orderId': 5010489495,\n",
       "  'symbol': 'XLMUSDT',\n",
       "  'status': 'NEW',\n",
       "  'clientOrderId': 'SL_zv6pcfPyTgyV1/0fMCeHKw',\n",
       "  'price': '0',\n",
       "  'avgPrice': '0',\n",
       "  'origQty': '50',\n",
       "  'executedQty': '0',\n",
       "  'cumQuote': '0',\n",
       "  'timeInForce': 'GTC',\n",
       "  'type': 'STOP_MARKET',\n",
       "  'reduceOnly': True,\n",
       "  'closePosition': False,\n",
       "  'side': 'SELL',\n",
       "  'positionSide': 'BOTH',\n",
       "  'stopPrice': '0.28000',\n",
       "  'workingType': 'CONTRACT_PRICE',\n",
       "  'priceProtect': False,\n",
       "  'origType': 'STOP_MARKET',\n",
       "  'time': 1623715129627,\n",
       "  'updateTime': 1623715129627},\n",
       " {'orderId': 5010490443,\n",
       "  'symbol': 'XLMUSDT',\n",
       "  'status': 'NEW',\n",
       "  'clientOrderId': 'TP_SZ9S7OA6RtejpO8VEy3CUQ',\n",
       "  'price': '0.50000',\n",
       "  'avgPrice': '0',\n",
       "  'origQty': '50',\n",
       "  'executedQty': '0',\n",
       "  'cumQuote': '0',\n",
       "  'timeInForce': 'GTC',\n",
       "  'type': 'LIMIT',\n",
       "  'reduceOnly': True,\n",
       "  'closePosition': False,\n",
       "  'side': 'SELL',\n",
       "  'positionSide': 'BOTH',\n",
       "  'stopPrice': '0',\n",
       "  'workingType': 'CONTRACT_PRICE',\n",
       "  'priceProtect': False,\n",
       "  'origType': 'LIMIT',\n",
       "  'time': 1623715142217,\n",
       "  'updateTime': 1623715142218}]"
      ]
     },
     "metadata": {},
     "execution_count": 3
    }
   ],
   "source": [
    "get_all_orders(pair)"
   ]
  },
  {
   "cell_type": "code",
   "execution_count": null,
   "metadata": {},
   "outputs": [],
   "source": [
    "stop_limit_long_entry(pair, position_size, entry_price)"
   ]
  },
  {
   "cell_type": "code",
   "execution_count": null,
   "metadata": {},
   "outputs": [],
   "source": [
    "cancel_all_order(pair)"
   ]
  },
  {
   "cell_type": "code",
   "execution_count": 3,
   "metadata": {},
   "outputs": [
    {
     "output_type": "stream",
     "name": "stderr",
     "text": [
      "2021-06-15 15:01:10,154 - INFO - pos_size: 0.0\n",
      "2021-06-15 15:01:10,325 - INFO - ========= New Order ==============\n",
      "2021-06-15 15:01:10,326 - INFO - ID     : Long_L3oTob20T6uBYcpb2NYbFg\n",
      "2021-06-15 15:01:10,327 - INFO - Type   : MARKET\n",
      "2021-06-15 15:01:10,328 - INFO - Side   : BUY\n",
      "2021-06-15 15:01:10,329 - INFO - Qty    : 50.0\n",
      "2021-06-15 15:01:10,329 - INFO - Limit  : 0\n",
      "2021-06-15 15:01:10,330 - INFO - Stop   : 0\n",
      "2021-06-15 15:01:10,331 - INFO - ======================================\n"
     ]
    }
   ],
   "source": [
    "market_long_entry(pair, position_size)"
   ]
  },
  {
   "cell_type": "code",
   "execution_count": null,
   "metadata": {},
   "outputs": [],
   "source": [
    "get_open_position(pair)"
   ]
  },
  {
   "cell_type": "code",
   "execution_count": null,
   "metadata": {},
   "outputs": [],
   "source": [
    "close_open_position(pair)"
   ]
  },
  {
   "cell_type": "code",
   "execution_count": 3,
   "metadata": {},
   "outputs": [],
   "source": [
    "BINANCE_ACCOUNT = 'binanceaccount2'\n",
    "exchange=BinanceFutures(account=BINANCE_ACCOUNT, pair=pair, demo=False)\n",
    "# x=exchange.get_open_order('TP')"
   ]
  },
  {
   "cell_type": "code",
   "execution_count": 9,
   "metadata": {},
   "outputs": [
    {
     "output_type": "stream",
     "name": "stderr",
     "text": [
      "2021-06-15 07:58:49,688 - INFO - ========= New Order ==============\n",
      "2021-06-15 07:58:49,688 - INFO - ID     : SL_zv6pcfPyTgyV1/0fMCeHKw\n",
      "2021-06-15 07:58:49,689 - INFO - Type   : STOP_MARKET\n",
      "2021-06-15 07:58:49,689 - INFO - Side   : SELL\n",
      "2021-06-15 07:58:49,690 - INFO - Qty    : 50.0\n",
      "2021-06-15 07:58:49,690 - INFO - Limit  : 0\n",
      "2021-06-15 07:58:49,690 - INFO - Stop   : 0.28\n",
      "2021-06-15 07:58:49,691 - INFO - ======================================\n"
     ]
    },
    {
     "output_type": "execute_result",
     "data": {
      "text/plain": [
       "[{'orderId': 5010489495,\n",
       "  'symbol': 'XLMUSDT',\n",
       "  'status': 'NEW',\n",
       "  'clientOrderId': 'SL_zv6pcfPyTgyV1/0fMCeHKw',\n",
       "  'price': '0',\n",
       "  'avgPrice': '0',\n",
       "  'origQty': '50',\n",
       "  'executedQty': '0',\n",
       "  'cumQuote': '0',\n",
       "  'timeInForce': 'GTC',\n",
       "  'type': 'STOP_MARKET',\n",
       "  'reduceOnly': True,\n",
       "  'closePosition': False,\n",
       "  'side': 'SELL',\n",
       "  'positionSide': 'BOTH',\n",
       "  'stopPrice': '0.28000',\n",
       "  'workingType': 'CONTRACT_PRICE',\n",
       "  'priceProtect': False,\n",
       "  'origType': 'STOP_MARKET',\n",
       "  'time': 1623715129627,\n",
       "  'updateTime': 1623715129627}]"
      ]
     },
     "metadata": {},
     "execution_count": 9
    }
   ],
   "source": [
    "exchange.set_sl(0.28)\n",
    "exchange.get_sl_order()"
   ]
  },
  {
   "cell_type": "code",
   "execution_count": 33,
   "metadata": {},
   "outputs": [
    {
     "output_type": "stream",
     "name": "stderr",
     "text": [
      "2021-06-15 08:06:22,034 - INFO - Cancel Order : (clientOrderId, type, side, quantity, price, stop) = (TP_dzOZF4QSQO6nA/qXiGZazA, LIMIT, SELL, 20, 0.52000, 0)\n",
      "2021-06-15 08:06:23,166 - INFO - Cancel Order : (clientOrderId, type, side, quantity, price, stop) = (TP_B/Y99X/9QXq/QhDd3/DxpA, LIMIT, SELL, 20, 0.54000, 0)\n",
      "2021-06-15 08:06:24,593 - INFO - Cancel Order : (clientOrderId, type, side, quantity, price, stop) = (TP_Qov2vVorQkqB9npEAoSKIA, LIMIT, SELL, 10, 0.55000, 0)\n"
     ]
    }
   ],
   "source": [
    "cancel_tp(pair)"
   ]
  },
  {
   "cell_type": "code",
   "execution_count": 38,
   "metadata": {},
   "outputs": [
    {
     "output_type": "stream",
     "name": "stderr",
     "text": [
      "2021-06-15 08:07:02,273 - INFO - ========= New Order ==============\n",
      "2021-06-15 08:07:02,274 - INFO - ID     : TP_c05zG/cnQVaMTeMQQ5q1xQ\n",
      "2021-06-15 08:07:02,275 - INFO - Type   : LIMIT\n",
      "2021-06-15 08:07:02,276 - INFO - Side   : SELL\n",
      "2021-06-15 08:07:02,276 - INFO - Qty    : 40.0\n",
      "2021-06-15 08:07:02,277 - INFO - Limit  : 0.55\n",
      "2021-06-15 08:07:02,278 - INFO - Stop   : 0\n",
      "2021-06-15 08:07:02,278 - INFO - ======================================\n"
     ]
    }
   ],
   "source": [
    "exchange.set_tp(0.55, 40.0)"
   ]
  },
  {
   "cell_type": "code",
   "execution_count": 50,
   "metadata": {},
   "outputs": [
    {
     "output_type": "stream",
     "name": "stdout",
     "text": [
      "TP_c05zG/cnQVaMTeMQQ5q1xQ\t40 XLM\t0.55000 USDT\nTP_PmNNdE5GQHqvURWJuK4ujg\t10 XLM\t0.53000 USDT\n"
     ]
    }
   ],
   "source": [
    "x = exchange.get_tp_order()\n",
    "if x:\n",
    "    for o in x:\n",
    "        print('{}\\t{} XLM\\t{} USDT'.format(o['clientOrderId'], o['origQty'], o['price']))"
   ]
  },
  {
   "cell_type": "code",
   "execution_count": 28,
   "metadata": {},
   "outputs": [
    {
     "output_type": "execute_result",
     "data": {
      "text/plain": [
       "1"
      ]
     },
     "metadata": {},
     "execution_count": 28
    }
   ],
   "source": [
    "len(exchange.get_sl_order())"
   ]
  },
  {
   "cell_type": "code",
   "execution_count": 12,
   "metadata": {},
   "outputs": [
    {
     "output_type": "stream",
     "name": "stdout",
     "text": [
      "orderId\nsymbol\nstatus\nclientOrderId\nprice\navgPrice\norigQty\nexecutedQty\ncumQuote\ntimeInForce\ntype\nreduceOnly\nclosePosition\nside\npositionSide\nstopPrice\nworkingType\npriceProtect\norigType\ntime\nupdateTime\n"
     ]
    }
   ],
   "source": [
    "for q in x:\n",
    "    print(q)"
   ]
  },
  {
   "cell_type": "code",
   "execution_count": 10,
   "metadata": {},
   "outputs": [],
   "source": [
    "tp_targets=[]\n",
    "tp_targets.append({'price':0.4, 'position_size':10.0})\n",
    "tp_targets.append({'price':0.42, 'position_size':15.0})\n",
    "tp_targets.append({'price':0.46, 'position_size':25.0})"
   ]
  },
  {
   "cell_type": "code",
   "execution_count": 48,
   "metadata": {},
   "outputs": [
    {
     "output_type": "stream",
     "name": "stdout",
     "text": [
      "No open position for XLMUSDT pair\n"
     ]
    }
   ],
   "source": [
    "exchange.set_mul_tp(tp_targets)"
   ]
  },
  {
   "cell_type": "code",
   "execution_count": 41,
   "metadata": {},
   "outputs": [],
   "source": [
    "exchange.get_tp_order()"
   ]
  },
  {
   "cell_type": "code",
   "execution_count": 1,
   "metadata": {},
   "outputs": [],
   "source": [
    "from tradeinterface import *"
   ]
  },
  {
   "cell_type": "code",
   "execution_count": null,
   "metadata": {},
   "outputs": [],
   "source": [
    "get"
   ]
  },
  {
   "cell_type": "code",
   "execution_count": 1,
   "metadata": {},
   "outputs": [],
   "source": [
    "x  = []"
   ]
  },
  {
   "cell_type": "code",
   "execution_count": 2,
   "metadata": {},
   "outputs": [
    {
     "output_type": "execute_result",
     "data": {
      "text/plain": [
       "True"
      ]
     },
     "metadata": {},
     "execution_count": 2
    }
   ],
   "source": [
    "not x"
   ]
  },
  {
   "cell_type": "code",
   "execution_count": 2,
   "metadata": {},
   "outputs": [],
   "source": [
    "from decimal import Decimal as d"
   ]
  },
  {
   "cell_type": "code",
   "execution_count": 3,
   "metadata": {},
   "outputs": [],
   "source": [
    "x = d(-1.0)"
   ]
  },
  {
   "cell_type": "code",
   "execution_count": 4,
   "metadata": {},
   "outputs": [
    {
     "output_type": "execute_result",
     "data": {
      "text/plain": [
       "Decimal('1')"
      ]
     },
     "metadata": {},
     "execution_count": 4
    }
   ],
   "source": [
    "abs(x)"
   ]
  },
  {
   "cell_type": "code",
   "execution_count": 18,
   "metadata": {},
   "outputs": [],
   "source": [
    "pnl = -0.2514"
   ]
  },
  {
   "cell_type": "code",
   "execution_count": 24,
   "metadata": {},
   "outputs": [
    {
     "output_type": "execute_result",
     "data": {
      "text/plain": [
       "'-1.45%'"
      ]
     },
     "metadata": {},
     "execution_count": 24
    }
   ],
   "source": [
    "pnl = -0.0145\n",
    "'{0}{1:.2f}%'.format('+' if pnl > 0.0 else ' ' if pnl == 0.0 else '',pnl*100.0)"
   ]
  },
  {
   "cell_type": "code",
   "execution_count": 1,
   "metadata": {},
   "outputs": [],
   "source": [
    "from tradecalc import *"
   ]
  },
  {
   "cell_type": "code",
   "execution_count": 25,
   "metadata": {},
   "outputs": [],
   "source": [
    "entry_price=35000\n",
    "position_size=0.5\n",
    "exit_price=35000\n",
    "capital=1000"
   ]
  },
  {
   "cell_type": "code",
   "execution_count": 24,
   "metadata": {},
   "outputs": [
    {
     "output_type": "execute_result",
     "data": {
      "text/plain": [
       "-1.224143099830119"
      ]
     },
     "metadata": {},
     "execution_count": 24
    }
   ],
   "source": [
    "calc_percent_pnl(entry_price, position_size, exit_price, capital)*100"
   ]
  },
  {
   "cell_type": "code",
   "execution_count": 37,
   "metadata": {},
   "outputs": [
    {
     "output_type": "execute_result",
     "data": {
      "text/plain": [
       "35975.51"
      ]
     },
     "metadata": {},
     "execution_count": 37
    }
   ],
   "source": [
    "entry_price = 35000\n",
    "position = -0.1\n",
    "min_price_step = 0.01\n",
    "pnl = -100\n",
    "calc_pnl_exit_price(entry_price, position, min_price_step, pnl)"
   ]
  },
  {
   "cell_type": "code",
   "execution_count": 1,
   "metadata": {},
   "outputs": [
    {
     "output_type": "execute_result",
     "data": {
      "text/plain": [
       "'FDSAFEWF'"
      ]
     },
     "metadata": {},
     "execution_count": 1
    }
   ],
   "source": [
    "x = 'fdsafewf'\n",
    "x.upper()"
   ]
  },
  {
   "cell_type": "code",
   "execution_count": 9,
   "metadata": {},
   "outputs": [
    {
     "output_type": "stream",
     "name": "stdout",
     "text": [
      "-0.1\n"
     ]
    }
   ],
   "source": [
    "x = '-0.1'\n",
    "if float(x):\n",
    "    print(x)\n",
    "else:\n",
    "    print('FALSE')"
   ]
  },
  {
   "cell_type": "code",
   "execution_count": 1,
   "metadata": {},
   "outputs": [],
   "source": [
    "from src.binance_futures import BinanceFutures\n",
    "from src.binance_futures_websocket import BinanceFuturesWs"
   ]
  },
  {
   "cell_type": "code",
   "execution_count": 2,
   "metadata": {},
   "outputs": [],
   "source": [
    "BINANCE_ACCOUNT = 'binanceaccount2'\n",
    "pair='BTCUSDT'\n",
    "exchange=BinanceFutures(account=BINANCE_ACCOUNT, pair=pair, demo=False)"
   ]
  },
  {
   "cell_type": "code",
   "execution_count": 4,
   "metadata": {},
   "outputs": [],
   "source": [
    "exchange.ws = BinanceFuturesWs(account=exchange.account, pair=exchange.pair, test=exchange.demo)"
   ]
  },
  {
   "cell_type": "code",
   "execution_count": 1,
   "metadata": {},
   "outputs": [],
   "source": [
    "from src.binance_futures import BinanceFutures\n",
    "BINANCE_ACCOUNT = 'binanceaccount2'\n",
    "pair='BTCUSDT'\n",
    "exchange=BinanceFutures(account=BINANCE_ACCOUNT, pair=pair, demo=False)"
   ]
  },
  {
   "cell_type": "code",
   "execution_count": 58,
   "metadata": {},
   "outputs": [
    {
     "output_type": "error",
     "ename": "KeyError",
     "evalue": "'binanceaccount1'",
     "traceback": [
      "\u001b[1;31m---------------------------------------------------------------------------\u001b[0m",
      "\u001b[1;31mKeyError\u001b[0m                                  Traceback (most recent call last)",
      "\u001b[1;32m<ipython-input-58-99edfd72fa56>\u001b[0m in \u001b[0;36m<module>\u001b[1;34m\u001b[0m\n\u001b[1;32m----> 1\u001b[1;33m \u001b[1;32mfrom\u001b[0m \u001b[0mscreener\u001b[0m\u001b[1;33m.\u001b[0m\u001b[0mfunc\u001b[0m \u001b[1;32mimport\u001b[0m \u001b[1;33m*\u001b[0m\u001b[1;33m\u001b[0m\u001b[0m\n\u001b[0m",
      "\u001b[1;32mc:\\Users\\kerween.balangue\\Desktop\\hello\\tradecli\\screener\\__init__.py\u001b[0m in \u001b[0;36m<module>\u001b[1;34m\u001b[0m\n\u001b[1;32m----> 1\u001b[1;33m \u001b[1;32mfrom\u001b[0m \u001b[0mscreener\u001b[0m\u001b[1;33m.\u001b[0m\u001b[0mfunc\u001b[0m \u001b[1;32mimport\u001b[0m \u001b[1;33m*\u001b[0m\u001b[1;33m\u001b[0m\u001b[0m\n\u001b[0m",
      "\u001b[1;32mc:\\Users\\kerween.balangue\\Desktop\\hello\\tradecli\\screener\\func.py\u001b[0m in \u001b[0;36m<module>\u001b[1;34m\u001b[0m\n\u001b[0;32m      4\u001b[0m \u001b[1;32mfrom\u001b[0m \u001b[0msrc\u001b[0m \u001b[1;32mimport\u001b[0m \u001b[0mconf\u001b[0m\u001b[1;33m\u001b[0m\u001b[0m\n\u001b[0;32m      5\u001b[0m \u001b[1;33m\u001b[0m\u001b[0m\n\u001b[1;32m----> 6\u001b[1;33m \u001b[0mapi_key\u001b[0m \u001b[1;33m=\u001b[0m \u001b[0mconf\u001b[0m\u001b[1;33m[\u001b[0m\u001b[1;34m'binanceaccount1'\u001b[0m\u001b[1;33m]\u001b[0m\u001b[1;33m[\u001b[0m\u001b[1;34m'API_KEY'\u001b[0m\u001b[1;33m]\u001b[0m\u001b[1;33m\u001b[0m\u001b[0m\n\u001b[0m\u001b[0;32m      7\u001b[0m \u001b[0mapi_secret\u001b[0m \u001b[1;33m=\u001b[0m \u001b[0mconf\u001b[0m\u001b[1;33m[\u001b[0m\u001b[1;34m'binanceaccount1'\u001b[0m\u001b[1;33m]\u001b[0m\u001b[1;33m[\u001b[0m\u001b[1;34m'SECRET_KEY'\u001b[0m\u001b[1;33m]\u001b[0m\u001b[1;33m\u001b[0m\u001b[0m\n\u001b[0;32m      8\u001b[0m \u001b[0mclient\u001b[0m \u001b[1;33m=\u001b[0m \u001b[0mClient\u001b[0m\u001b[1;33m(\u001b[0m\u001b[0mapi_key\u001b[0m\u001b[1;33m,\u001b[0m \u001b[0mapi_secret\u001b[0m\u001b[1;33m)\u001b[0m\u001b[1;33m\u001b[0m\u001b[0m\n",
      "\u001b[1;31mKeyError\u001b[0m: 'binanceaccount1'"
     ]
    }
   ],
   "source": [
    "from screener.func import *"
   ]
  },
  {
   "cell_type": "code",
   "execution_count": null,
   "metadata": {},
   "outputs": [],
   "source": []
  }
 ]
}