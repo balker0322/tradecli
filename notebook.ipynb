{
 "cells": [
  {
   "cell_type": "code",
   "execution_count": null,
   "source": [],
   "outputs": [],
   "metadata": {}
  },
  {
   "cell_type": "code",
   "execution_count": null,
   "source": [],
   "outputs": [],
   "metadata": {}
  },
  {
   "cell_type": "code",
   "execution_count": null,
   "source": [
    "import src.strategy as strategy"
   ],
   "outputs": [],
   "metadata": {}
  },
  {
   "cell_type": "code",
   "execution_count": null,
   "source": [
    "cls = getattr(strategy, 'test_bot')\n",
    "bot = cls()\n",
    "bot.test_net  = False\n",
    "bot.back_test = False\n",
    "bot.stub_test = False\n",
    "bot.hyperopt  = False\n",
    "bot.account = 'binanceaccount1'\n",
    "bot.exchange_arg = 'binance'\n",
    "bot.pair = 'BTCUSDT'"
   ],
   "outputs": [],
   "metadata": {}
  },
  {
   "cell_type": "code",
   "execution_count": null,
   "source": [
    "bot.run()"
   ],
   "outputs": [],
   "metadata": {}
  },
  {
   "cell_type": "code",
   "execution_count": 1,
   "source": [
    "from src.binance_futures import BinanceFutures"
   ],
   "outputs": [],
   "metadata": {}
  },
  {
   "cell_type": "code",
   "execution_count": 2,
   "source": [
    "exchange = BinanceFutures(account='binanceaccount1', pair='BTCUSDT', demo=False)"
   ],
   "outputs": [],
   "metadata": {}
  },
  {
   "cell_type": "code",
   "execution_count": 4,
   "source": [
    "x = exchange.get_position()"
   ],
   "outputs": [],
   "metadata": {}
  },
  {
   "cell_type": "code",
   "execution_count": null,
   "source": [
    "import pandas as pd"
   ],
   "outputs": [],
   "metadata": {}
  },
  {
   "cell_type": "code",
   "execution_count": null,
   "source": [
    "col = ['a','b']"
   ],
   "outputs": [],
   "metadata": {}
  },
  {
   "cell_type": "code",
   "execution_count": null,
   "source": [
    "pd.DataFrame(columns=col)"
   ],
   "outputs": [],
   "metadata": {}
  },
  {
   "cell_type": "code",
   "execution_count": 1,
   "source": [
    "from screener.func import *"
   ],
   "outputs": [],
   "metadata": {}
  },
  {
   "cell_type": "code",
   "execution_count": 23,
   "source": [
    "get_crypto_df(indicator=['rsi_5m']).sort_values(by='rsi_5m', ascending=True)"
   ],
   "outputs": [
    {
     "output_type": "stream",
     "name": "stderr",
     "text": [
      "100%|██████████| 116/116 [00:20<00:00,  5.71it/s]\n"
     ]
    },
    {
     "output_type": "execute_result",
     "data": {
      "text/plain": [
       "        pair     rsi_5m\n",
       "49  EGLDUSDT  21.447404\n",
       "22  QTUMUSDT  25.222449\n",
       "39   DOTUSDT  25.852838\n",
       "3    XRPUSDT  27.298973\n",
       "82  ANKRUSDT  27.620908\n",
       "..       ...        ...\n",
       "21   NEOUSDT  55.782351\n",
       "83  LUNAUSDT  57.564680\n",
       "16  ATOMUSDT  58.413688\n",
       "71   BELUSDT  62.970824\n",
       "73   AXSUSDT  67.451202\n",
       "\n",
       "[113 rows x 2 columns]"
      ],
      "text/html": [
       "<div>\n",
       "<style scoped>\n",
       "    .dataframe tbody tr th:only-of-type {\n",
       "        vertical-align: middle;\n",
       "    }\n",
       "\n",
       "    .dataframe tbody tr th {\n",
       "        vertical-align: top;\n",
       "    }\n",
       "\n",
       "    .dataframe thead th {\n",
       "        text-align: right;\n",
       "    }\n",
       "</style>\n",
       "<table border=\"1\" class=\"dataframe\">\n",
       "  <thead>\n",
       "    <tr style=\"text-align: right;\">\n",
       "      <th></th>\n",
       "      <th>pair</th>\n",
       "      <th>rsi_5m</th>\n",
       "    </tr>\n",
       "  </thead>\n",
       "  <tbody>\n",
       "    <tr>\n",
       "      <th>49</th>\n",
       "      <td>EGLDUSDT</td>\n",
       "      <td>21.447404</td>\n",
       "    </tr>\n",
       "    <tr>\n",
       "      <th>22</th>\n",
       "      <td>QTUMUSDT</td>\n",
       "      <td>25.222449</td>\n",
       "    </tr>\n",
       "    <tr>\n",
       "      <th>39</th>\n",
       "      <td>DOTUSDT</td>\n",
       "      <td>25.852838</td>\n",
       "    </tr>\n",
       "    <tr>\n",
       "      <th>3</th>\n",
       "      <td>XRPUSDT</td>\n",
       "      <td>27.298973</td>\n",
       "    </tr>\n",
       "    <tr>\n",
       "      <th>82</th>\n",
       "      <td>ANKRUSDT</td>\n",
       "      <td>27.620908</td>\n",
       "    </tr>\n",
       "    <tr>\n",
       "      <th>...</th>\n",
       "      <td>...</td>\n",
       "      <td>...</td>\n",
       "    </tr>\n",
       "    <tr>\n",
       "      <th>21</th>\n",
       "      <td>NEOUSDT</td>\n",
       "      <td>55.782351</td>\n",
       "    </tr>\n",
       "    <tr>\n",
       "      <th>83</th>\n",
       "      <td>LUNAUSDT</td>\n",
       "      <td>57.564680</td>\n",
       "    </tr>\n",
       "    <tr>\n",
       "      <th>16</th>\n",
       "      <td>ATOMUSDT</td>\n",
       "      <td>58.413688</td>\n",
       "    </tr>\n",
       "    <tr>\n",
       "      <th>71</th>\n",
       "      <td>BELUSDT</td>\n",
       "      <td>62.970824</td>\n",
       "    </tr>\n",
       "    <tr>\n",
       "      <th>73</th>\n",
       "      <td>AXSUSDT</td>\n",
       "      <td>67.451202</td>\n",
       "    </tr>\n",
       "  </tbody>\n",
       "</table>\n",
       "<p>113 rows × 2 columns</p>\n",
       "</div>"
      ]
     },
     "metadata": {},
     "execution_count": 23
    }
   ],
   "metadata": {}
  },
  {
   "cell_type": "code",
   "execution_count": 3,
   "source": [
    "# pairs = get_all_pairs()\n",
    "# x = get_crypto_df(pairs=pairs)\n",
    "x = get_crypto_df()\n",
    "x.sort_values(by='rsi_1h', ascending=True)"
   ],
   "outputs": [
    {
     "output_type": "stream",
     "name": "stderr",
     "text": [
      "100%|██████████| 116/116 [02:06<00:00,  1.09s/it]\n"
     ]
    },
    {
     "output_type": "execute_result",
     "data": {
      "text/plain": [
       "         pair     rsi_1m     rsi_5m    rsi_15m    rsi_30m     rsi_1h  \\\n",
       "20    NEOUSDT  69.786426  45.608280  39.463987  18.661342  10.322285   \n",
       "85   UNFIUSDT  57.944720  33.842910  38.256112  18.303889  10.839636   \n",
       "74    ZENUSDT  65.885188  46.479638  44.107472  29.123403  11.268925   \n",
       "37    SNXUSDT  36.436889  18.345896  28.330693  18.754960  11.750287   \n",
       "54   AVAXUSDT  62.417520  42.584687  37.064686  16.255272  14.225735   \n",
       "..        ...        ...        ...        ...        ...        ...   \n",
       "93   MANAUSDT  62.417235  39.126245  43.437656  60.286729  64.365606   \n",
       "92    CHRUSDT  64.603389  47.170235  67.737954  68.592366  66.086693   \n",
       "50    ICXUSDT  54.771972  45.022892  39.741110  63.433487  69.461670   \n",
       "94  ALICEUSDT  54.552722  76.066902  77.852028  75.134400  75.722540   \n",
       "80   SANDUSDT  54.867593  52.415474  73.721331  81.850097  82.626603   \n",
       "\n",
       "       rsi_1d  \n",
       "20  57.215901  \n",
       "85  54.536515  \n",
       "74  52.380817  \n",
       "37  75.401148  \n",
       "54  62.707809  \n",
       "..        ...  \n",
       "93  85.478472  \n",
       "92  78.792964  \n",
       "50  91.850058  \n",
       "94  87.495142  \n",
       "80  95.826267  \n",
       "\n",
       "[112 rows x 7 columns]"
      ],
      "text/html": [
       "<div>\n",
       "<style scoped>\n",
       "    .dataframe tbody tr th:only-of-type {\n",
       "        vertical-align: middle;\n",
       "    }\n",
       "\n",
       "    .dataframe tbody tr th {\n",
       "        vertical-align: top;\n",
       "    }\n",
       "\n",
       "    .dataframe thead th {\n",
       "        text-align: right;\n",
       "    }\n",
       "</style>\n",
       "<table border=\"1\" class=\"dataframe\">\n",
       "  <thead>\n",
       "    <tr style=\"text-align: right;\">\n",
       "      <th></th>\n",
       "      <th>pair</th>\n",
       "      <th>rsi_1m</th>\n",
       "      <th>rsi_5m</th>\n",
       "      <th>rsi_15m</th>\n",
       "      <th>rsi_30m</th>\n",
       "      <th>rsi_1h</th>\n",
       "      <th>rsi_1d</th>\n",
       "    </tr>\n",
       "  </thead>\n",
       "  <tbody>\n",
       "    <tr>\n",
       "      <th>20</th>\n",
       "      <td>NEOUSDT</td>\n",
       "      <td>69.786426</td>\n",
       "      <td>45.608280</td>\n",
       "      <td>39.463987</td>\n",
       "      <td>18.661342</td>\n",
       "      <td>10.322285</td>\n",
       "      <td>57.215901</td>\n",
       "    </tr>\n",
       "    <tr>\n",
       "      <th>85</th>\n",
       "      <td>UNFIUSDT</td>\n",
       "      <td>57.944720</td>\n",
       "      <td>33.842910</td>\n",
       "      <td>38.256112</td>\n",
       "      <td>18.303889</td>\n",
       "      <td>10.839636</td>\n",
       "      <td>54.536515</td>\n",
       "    </tr>\n",
       "    <tr>\n",
       "      <th>74</th>\n",
       "      <td>ZENUSDT</td>\n",
       "      <td>65.885188</td>\n",
       "      <td>46.479638</td>\n",
       "      <td>44.107472</td>\n",
       "      <td>29.123403</td>\n",
       "      <td>11.268925</td>\n",
       "      <td>52.380817</td>\n",
       "    </tr>\n",
       "    <tr>\n",
       "      <th>37</th>\n",
       "      <td>SNXUSDT</td>\n",
       "      <td>36.436889</td>\n",
       "      <td>18.345896</td>\n",
       "      <td>28.330693</td>\n",
       "      <td>18.754960</td>\n",
       "      <td>11.750287</td>\n",
       "      <td>75.401148</td>\n",
       "    </tr>\n",
       "    <tr>\n",
       "      <th>54</th>\n",
       "      <td>AVAXUSDT</td>\n",
       "      <td>62.417520</td>\n",
       "      <td>42.584687</td>\n",
       "      <td>37.064686</td>\n",
       "      <td>16.255272</td>\n",
       "      <td>14.225735</td>\n",
       "      <td>62.707809</td>\n",
       "    </tr>\n",
       "    <tr>\n",
       "      <th>...</th>\n",
       "      <td>...</td>\n",
       "      <td>...</td>\n",
       "      <td>...</td>\n",
       "      <td>...</td>\n",
       "      <td>...</td>\n",
       "      <td>...</td>\n",
       "      <td>...</td>\n",
       "    </tr>\n",
       "    <tr>\n",
       "      <th>93</th>\n",
       "      <td>MANAUSDT</td>\n",
       "      <td>62.417235</td>\n",
       "      <td>39.126245</td>\n",
       "      <td>43.437656</td>\n",
       "      <td>60.286729</td>\n",
       "      <td>64.365606</td>\n",
       "      <td>85.478472</td>\n",
       "    </tr>\n",
       "    <tr>\n",
       "      <th>92</th>\n",
       "      <td>CHRUSDT</td>\n",
       "      <td>64.603389</td>\n",
       "      <td>47.170235</td>\n",
       "      <td>67.737954</td>\n",
       "      <td>68.592366</td>\n",
       "      <td>66.086693</td>\n",
       "      <td>78.792964</td>\n",
       "    </tr>\n",
       "    <tr>\n",
       "      <th>50</th>\n",
       "      <td>ICXUSDT</td>\n",
       "      <td>54.771972</td>\n",
       "      <td>45.022892</td>\n",
       "      <td>39.741110</td>\n",
       "      <td>63.433487</td>\n",
       "      <td>69.461670</td>\n",
       "      <td>91.850058</td>\n",
       "    </tr>\n",
       "    <tr>\n",
       "      <th>94</th>\n",
       "      <td>ALICEUSDT</td>\n",
       "      <td>54.552722</td>\n",
       "      <td>76.066902</td>\n",
       "      <td>77.852028</td>\n",
       "      <td>75.134400</td>\n",
       "      <td>75.722540</td>\n",
       "      <td>87.495142</td>\n",
       "    </tr>\n",
       "    <tr>\n",
       "      <th>80</th>\n",
       "      <td>SANDUSDT</td>\n",
       "      <td>54.867593</td>\n",
       "      <td>52.415474</td>\n",
       "      <td>73.721331</td>\n",
       "      <td>81.850097</td>\n",
       "      <td>82.626603</td>\n",
       "      <td>95.826267</td>\n",
       "    </tr>\n",
       "  </tbody>\n",
       "</table>\n",
       "<p>112 rows × 7 columns</p>\n",
       "</div>"
      ]
     },
     "metadata": {},
     "execution_count": 3
    }
   ],
   "metadata": {}
  },
  {
   "cell_type": "code",
   "execution_count": 5,
   "source": [
    "x.sort_values(by='rsi_1d', ascending=True)"
   ],
   "outputs": [
    {
     "output_type": "execute_result",
     "data": {
      "text/plain": [
       "         pair     rsi_1m     rsi_5m    rsi_15m    rsi_30m     rsi_1h  \\\n",
       "30   DOGEUSDT  56.249260  44.398838  51.166110  33.536082  29.476704   \n",
       "5     TRXUSDT  58.337354  45.946383  44.992106  25.832736  16.422921   \n",
       "88    RVNUSDT  60.677116  44.224269  39.199940  25.865420  24.854985   \n",
       "8     XLMUSDT  66.979273  58.862984  55.818985  35.034609  22.343302   \n",
       "3     XRPUSDT  63.523167  53.168697  53.315361  29.957746  20.999284   \n",
       "..        ...        ...        ...        ...        ...        ...   \n",
       "93   MANAUSDT  62.417235  39.126245  43.437656  60.286729  64.365606   \n",
       "94  ALICEUSDT  54.552722  76.066902  77.852028  75.134400  75.722540   \n",
       "50    ICXUSDT  54.771972  45.022892  39.741110  63.433487  69.461670   \n",
       "72    AXSUSDT  61.239327  35.030738  42.417545  53.168917  44.823862   \n",
       "80   SANDUSDT  54.867593  52.415474  73.721331  81.850097  82.626603   \n",
       "\n",
       "       rsi_1d  \n",
       "30  31.418722  \n",
       "5   45.094025  \n",
       "88  45.630467  \n",
       "8   47.378432  \n",
       "3   48.465164  \n",
       "..        ...  \n",
       "93  85.478472  \n",
       "94  87.495142  \n",
       "50  91.850058  \n",
       "72  93.906987  \n",
       "80  95.826267  \n",
       "\n",
       "[112 rows x 7 columns]"
      ],
      "text/html": [
       "<div>\n",
       "<style scoped>\n",
       "    .dataframe tbody tr th:only-of-type {\n",
       "        vertical-align: middle;\n",
       "    }\n",
       "\n",
       "    .dataframe tbody tr th {\n",
       "        vertical-align: top;\n",
       "    }\n",
       "\n",
       "    .dataframe thead th {\n",
       "        text-align: right;\n",
       "    }\n",
       "</style>\n",
       "<table border=\"1\" class=\"dataframe\">\n",
       "  <thead>\n",
       "    <tr style=\"text-align: right;\">\n",
       "      <th></th>\n",
       "      <th>pair</th>\n",
       "      <th>rsi_1m</th>\n",
       "      <th>rsi_5m</th>\n",
       "      <th>rsi_15m</th>\n",
       "      <th>rsi_30m</th>\n",
       "      <th>rsi_1h</th>\n",
       "      <th>rsi_1d</th>\n",
       "    </tr>\n",
       "  </thead>\n",
       "  <tbody>\n",
       "    <tr>\n",
       "      <th>30</th>\n",
       "      <td>DOGEUSDT</td>\n",
       "      <td>56.249260</td>\n",
       "      <td>44.398838</td>\n",
       "      <td>51.166110</td>\n",
       "      <td>33.536082</td>\n",
       "      <td>29.476704</td>\n",
       "      <td>31.418722</td>\n",
       "    </tr>\n",
       "    <tr>\n",
       "      <th>5</th>\n",
       "      <td>TRXUSDT</td>\n",
       "      <td>58.337354</td>\n",
       "      <td>45.946383</td>\n",
       "      <td>44.992106</td>\n",
       "      <td>25.832736</td>\n",
       "      <td>16.422921</td>\n",
       "      <td>45.094025</td>\n",
       "    </tr>\n",
       "    <tr>\n",
       "      <th>88</th>\n",
       "      <td>RVNUSDT</td>\n",
       "      <td>60.677116</td>\n",
       "      <td>44.224269</td>\n",
       "      <td>39.199940</td>\n",
       "      <td>25.865420</td>\n",
       "      <td>24.854985</td>\n",
       "      <td>45.630467</td>\n",
       "    </tr>\n",
       "    <tr>\n",
       "      <th>8</th>\n",
       "      <td>XLMUSDT</td>\n",
       "      <td>66.979273</td>\n",
       "      <td>58.862984</td>\n",
       "      <td>55.818985</td>\n",
       "      <td>35.034609</td>\n",
       "      <td>22.343302</td>\n",
       "      <td>47.378432</td>\n",
       "    </tr>\n",
       "    <tr>\n",
       "      <th>3</th>\n",
       "      <td>XRPUSDT</td>\n",
       "      <td>63.523167</td>\n",
       "      <td>53.168697</td>\n",
       "      <td>53.315361</td>\n",
       "      <td>29.957746</td>\n",
       "      <td>20.999284</td>\n",
       "      <td>48.465164</td>\n",
       "    </tr>\n",
       "    <tr>\n",
       "      <th>...</th>\n",
       "      <td>...</td>\n",
       "      <td>...</td>\n",
       "      <td>...</td>\n",
       "      <td>...</td>\n",
       "      <td>...</td>\n",
       "      <td>...</td>\n",
       "      <td>...</td>\n",
       "    </tr>\n",
       "    <tr>\n",
       "      <th>93</th>\n",
       "      <td>MANAUSDT</td>\n",
       "      <td>62.417235</td>\n",
       "      <td>39.126245</td>\n",
       "      <td>43.437656</td>\n",
       "      <td>60.286729</td>\n",
       "      <td>64.365606</td>\n",
       "      <td>85.478472</td>\n",
       "    </tr>\n",
       "    <tr>\n",
       "      <th>94</th>\n",
       "      <td>ALICEUSDT</td>\n",
       "      <td>54.552722</td>\n",
       "      <td>76.066902</td>\n",
       "      <td>77.852028</td>\n",
       "      <td>75.134400</td>\n",
       "      <td>75.722540</td>\n",
       "      <td>87.495142</td>\n",
       "    </tr>\n",
       "    <tr>\n",
       "      <th>50</th>\n",
       "      <td>ICXUSDT</td>\n",
       "      <td>54.771972</td>\n",
       "      <td>45.022892</td>\n",
       "      <td>39.741110</td>\n",
       "      <td>63.433487</td>\n",
       "      <td>69.461670</td>\n",
       "      <td>91.850058</td>\n",
       "    </tr>\n",
       "    <tr>\n",
       "      <th>72</th>\n",
       "      <td>AXSUSDT</td>\n",
       "      <td>61.239327</td>\n",
       "      <td>35.030738</td>\n",
       "      <td>42.417545</td>\n",
       "      <td>53.168917</td>\n",
       "      <td>44.823862</td>\n",
       "      <td>93.906987</td>\n",
       "    </tr>\n",
       "    <tr>\n",
       "      <th>80</th>\n",
       "      <td>SANDUSDT</td>\n",
       "      <td>54.867593</td>\n",
       "      <td>52.415474</td>\n",
       "      <td>73.721331</td>\n",
       "      <td>81.850097</td>\n",
       "      <td>82.626603</td>\n",
       "      <td>95.826267</td>\n",
       "    </tr>\n",
       "  </tbody>\n",
       "</table>\n",
       "<p>112 rows × 7 columns</p>\n",
       "</div>"
      ]
     },
     "metadata": {},
     "execution_count": 5
    }
   ],
   "metadata": {}
  },
  {
   "cell_type": "code",
   "execution_count": null,
   "source": [
    "x[4].iloc[-1]"
   ],
   "outputs": [],
   "metadata": {}
  },
  {
   "cell_type": "code",
   "execution_count": null,
   "source": [
    "[q for q in x]"
   ],
   "outputs": [],
   "metadata": {}
  },
  {
   "cell_type": "code",
   "execution_count": null,
   "source": [
    "exchange_info = x"
   ],
   "outputs": [],
   "metadata": {}
  },
  {
   "cell_type": "code",
   "execution_count": null,
   "source": [
    "pairs = [symbol_info['symbol'] for symbol_info in exchange_info['symbols'] if symbol_info['symbol'][-4:]=='USDT']"
   ],
   "outputs": [],
   "metadata": {}
  },
  {
   "cell_type": "code",
   "execution_count": null,
   "source": [
    "pairs"
   ],
   "outputs": [],
   "metadata": {}
  },
  {
   "cell_type": "code",
   "execution_count": null,
   "source": [
    "x = client.get_exchange_info()"
   ],
   "outputs": [],
   "metadata": {}
  },
  {
   "cell_type": "code",
   "execution_count": null,
   "source": [
    "[q['symbol'] for q in x['symbols'] if q['isMarginTradingAllowed']==True and q['symbol'][-4:]=='USDT']"
   ],
   "outputs": [],
   "metadata": {}
  },
  {
   "cell_type": "code",
   "execution_count": null,
   "source": [
    "x['symbols'][0]"
   ],
   "outputs": [],
   "metadata": {}
  },
  {
   "cell_type": "code",
   "execution_count": null,
   "source": [
    "[q['symbol'] for q in x['symbols'] if q['contractType']=='PERPETUAL' and q['symbol'][-4:]=='USDT']"
   ],
   "outputs": [],
   "metadata": {}
  },
  {
   "cell_type": "code",
   "execution_count": 4,
   "source": [
    "import numpy as np\n",
    "import matplotlib.pyplot as plt"
   ],
   "outputs": [],
   "metadata": {}
  },
  {
   "cell_type": "code",
   "execution_count": 2,
   "source": [
    "np.array([1, 3, 4, 5])"
   ],
   "outputs": [
    {
     "output_type": "execute_result",
     "data": {
      "text/plain": [
       "array([1, 3, 4, 5])"
      ]
     },
     "metadata": {},
     "execution_count": 2
    }
   ],
   "metadata": {}
  },
  {
   "cell_type": "code",
   "execution_count": 5,
   "source": [
    "x = np.asarray([0, 1, 2, 3, 4, 5, 6, 7, 8, 9])\n",
    "y1 = np.asarray([0, 1, 2, 3, 4, 5, 6, 7, 8, 9])\n",
    "y2 = np.asarray([0, 1, 2, 3, 4, 5, 6, 7, 8, 9])"
   ],
   "outputs": [],
   "metadata": {}
  },
  {
   "cell_type": "code",
   "execution_count": 7,
   "source": [
    "np.shape(x)"
   ],
   "outputs": [
    {
     "output_type": "execute_result",
     "data": {
      "text/plain": [
       "(10,)"
      ]
     },
     "metadata": {},
     "execution_count": 7
    }
   ],
   "metadata": {}
  },
  {
   "cell_type": "code",
   "execution_count": 8,
   "source": [
    "np.random.rand(10,)"
   ],
   "outputs": [
    {
     "output_type": "execute_result",
     "data": {
      "text/plain": [
       "array([0.46899978, 0.59535923, 0.7550861 , 0.40825251, 0.49815204,\n",
       "       0.5556484 , 0.15672591, 0.85652635, 0.67454406, 0.47002245])"
      ]
     },
     "metadata": {},
     "execution_count": 8
    }
   ],
   "metadata": {}
  },
  {
   "cell_type": "code",
   "execution_count": 41,
   "source": [
    "x = np.asarray([0, 1, 2, 3, 4, 5, 6, 7, 8, 9])\n",
    "# y1 = np.asarray([0, 1, 2, 3, 4, 5, 6, 7, 8, 9])\n",
    "y1 = np.asarray([0, 1, 2, 3, None, None, None, None, None, None])\n",
    "plt.plot(x, y1, label='Channel 1')\n",
    "plt.xlim(0, 10)"
   ],
   "outputs": [
    {
     "output_type": "execute_result",
     "data": {
      "text/plain": [
       "(0.0, 10.0)"
      ]
     },
     "metadata": {},
     "execution_count": 41
    },
    {
     "output_type": "display_data",
     "data": {
      "text/plain": [
       "<Figure size 432x288 with 1 Axes>"
      ],
      "image/png": "[encoded data removed]",
      "image/svg+xml": "<?xml version=\"1.0\" encoding=\"utf-8\" standalone=\"no\"?>\n<!DOCTYPE svg PUBLIC \"-//W3C//DTD SVG 1.1//EN\"\n  \"http://www.w3.org/Graphics/SVG/1.1/DTD/svg11.dtd\">\n<svg height=\"248.518125pt\" version=\"1.1\" viewBox=\"0 0 378.465625 248.518125\" width=\"378.465625pt\" xmlns=\"http://www.w3.org/2000/svg\" xmlns:xlink=\"http://www.w3.org/1999/xlink\">\n <metadata>\n  <rdf:RDF xmlns:cc=\"http://creativecommons.org/ns#\" xmlns:dc=\"http://purl.org/dc/elements/1.1/\" xmlns:rdf=\"http://www.w3.org/1999/02/22-rdf-syntax-ns#\">\n   <cc:Work>\n    <dc:type rdf:resource=\"http://purl.org/dc/dcmitype/StillImage\"/>\n    <dc:date>2021-07-04T10:59:00.739553</dc:date>\n    <dc:format>image/svg+xml</dc:format>\n    <dc:creator>\n     <cc:Agent>\n      <dc:title>Matplotlib v3.4.2, https://matplotlib.org/</dc:title>\n     </cc:Agent>\n    </dc:creator>\n   </cc:Work>\n  </rdf:RDF>\n </metadata>\n <defs>\n  <style type=\"text/css\">*{stroke-linecap:butt;stroke-linejoin:round;}</style>\n </defs>\n <g id=\"figure_1\">\n  <g id=\"patch_1\">\n   <path d=\"M 0 248.518125 \nL 378.465625 248.518125 \nL 378.465625 0 \nL 0 0 \nz\n\" style=\"fill:none;\"/>\n  </g>\n  <g id=\"axes_1\">\n   <g id=\"patch_2\">\n    <path d=\"M 30.103125 224.64 \nL 364.903125 224.64 \nL 364.903125 7.2 \nL 30.103125 7.2 \nz\n\" style=\"fill:#ffffff;\"/>\n   </g>\n   <g id=\"matplotlib.axis_1\">\n    <g id=\"xtick_1\">\n     <g id=\"line2d_1\">\n      <defs>\n       <path d=\"M 0 0 \nL 0 3.5 \n\" id=\"m771171460b\" style=\"stroke:#000000;stroke-width:0.8;\"/>\n      </defs>\n      <g>\n       <use style=\"stroke:#000000;stroke-width:0.8;\" x=\"30.103125\" xlink:href=\"#m771171460b\" y=\"224.64\"/>\n      </g>\n     </g>\n     <g id=\"text_1\">\n      <!-- 0 -->\n      <g transform=\"translate(26.921875 239.238437)scale(0.1 -0.1)\">\n       <defs>\n        <path d=\"M 2034 4250 \nQ 1547 4250 1301 3770 \nQ 1056 3291 1056 2328 \nQ 1056 1369 1301 889 \nQ 1547 409 2034 409 \nQ 2525 409 2770 889 \nQ 3016 1369 3016 2328 \nQ 3016 3291 2770 3770 \nQ 2525 4250 2034 4250 \nz\nM 2034 4750 \nQ 2819 4750 3233 4129 \nQ 3647 3509 3647 2328 \nQ 3647 1150 3233 529 \nQ 2819 -91 2034 -91 \nQ 1250 -91 836 529 \nQ 422 1150 422 2328 \nQ 422 3509 836 4129 \nQ 1250 4750 2034 4750 \nz\n\" id=\"DejaVuSans-30\" transform=\"scale(0.015625)\"/>\n       </defs>\n       <use xlink:href=\"#DejaVuSans-30\"/>\n      </g>\n     </g>\n    </g>\n    <g id=\"xtick_2\">\n     <g id=\"line2d_2\">\n      <g>\n       <use style=\"stroke:#000000;stroke-width:0.8;\" x=\"97.063125\" xlink:href=\"#m771171460b\" y=\"224.64\"/>\n      </g>\n     </g>\n     <g id=\"text_2\">\n      <!-- 2 -->\n      <g transform=\"translate(93.881875 239.238437)scale(0.1 -0.1)\">\n       <defs>\n        <path d=\"M 1228 531 \nL 3431 531 \nL 3431 0 \nL 469 0 \nL 469 531 \nQ 828 903 1448 1529 \nQ 2069 2156 2228 2338 \nQ 2531 2678 2651 2914 \nQ 2772 3150 2772 3378 \nQ 2772 3750 2511 3984 \nQ 2250 4219 1831 4219 \nQ 1534 4219 1204 4116 \nQ 875 4013 500 3803 \nL 500 4441 \nQ 881 4594 1212 4672 \nQ 1544 4750 1819 4750 \nQ 2544 4750 2975 4387 \nQ 3406 4025 3406 3419 \nQ 3406 3131 3298 2873 \nQ 3191 2616 2906 2266 \nQ 2828 2175 2409 1742 \nQ 1991 1309 1228 531 \nz\n\" id=\"DejaVuSans-32\" transform=\"scale(0.015625)\"/>\n       </defs>\n       <use xlink:href=\"#DejaVuSans-32\"/>\n      </g>\n     </g>\n    </g>\n    <g id=\"xtick_3\">\n     <g id=\"line2d_3\">\n      <g>\n       <use style=\"stroke:#000000;stroke-width:0.8;\" x=\"164.023125\" xlink:href=\"#m771171460b\" y=\"224.64\"/>\n      </g>\n     </g>\n     <g id=\"text_3\">\n      <!-- 4 -->\n      <g transform=\"translate(160.841875 239.238437)scale(0.1 -0.1)\">\n       <defs>\n        <path d=\"M 2419 4116 \nL 825 1625 \nL 2419 1625 \nL 2419 4116 \nz\nM 2253 4666 \nL 3047 4666 \nL 3047 1625 \nL 3713 1625 \nL 3713 1100 \nL 3047 1100 \nL 3047 0 \nL 2419 0 \nL 2419 1100 \nL 313 1100 \nL 313 1709 \nL 2253 4666 \nz\n\" id=\"DejaVuSans-34\" transform=\"scale(0.015625)\"/>\n       </defs>\n       <use xlink:href=\"#DejaVuSans-34\"/>\n      </g>\n     </g>\n    </g>\n    <g id=\"xtick_4\">\n     <g id=\"line2d_4\">\n      <g>\n       <use style=\"stroke:#000000;stroke-width:0.8;\" x=\"230.983125\" xlink:href=\"#m771171460b\" y=\"224.64\"/>\n      </g>\n     </g>\n     <g id=\"text_4\">\n      <!-- 6 -->\n      <g transform=\"translate(227.801875 239.238437)scale(0.1 -0.1)\">\n       <defs>\n        <path d=\"M 2113 2584 \nQ 1688 2584 1439 2293 \nQ 1191 2003 1191 1497 \nQ 1191 994 1439 701 \nQ 1688 409 2113 409 \nQ 2538 409 2786 701 \nQ 3034 994 3034 1497 \nQ 3034 2003 2786 2293 \nQ 2538 2584 2113 2584 \nz\nM 3366 4563 \nL 3366 3988 \nQ 3128 4100 2886 4159 \nQ 2644 4219 2406 4219 \nQ 1781 4219 1451 3797 \nQ 1122 3375 1075 2522 \nQ 1259 2794 1537 2939 \nQ 1816 3084 2150 3084 \nQ 2853 3084 3261 2657 \nQ 3669 2231 3669 1497 \nQ 3669 778 3244 343 \nQ 2819 -91 2113 -91 \nQ 1303 -91 875 529 \nQ 447 1150 447 2328 \nQ 447 3434 972 4092 \nQ 1497 4750 2381 4750 \nQ 2619 4750 2861 4703 \nQ 3103 4656 3366 4563 \nz\n\" id=\"DejaVuSans-36\" transform=\"scale(0.015625)\"/>\n       </defs>\n       <use xlink:href=\"#DejaVuSans-36\"/>\n      </g>\n     </g>\n    </g>\n    <g id=\"xtick_5\">\n     <g id=\"line2d_5\">\n      <g>\n       <use style=\"stroke:#000000;stroke-width:0.8;\" x=\"297.943125\" xlink:href=\"#m771171460b\" y=\"224.64\"/>\n      </g>\n     </g>\n     <g id=\"text_5\">\n      <!-- 8 -->\n      <g transform=\"translate(294.761875 239.238437)scale(0.1 -0.1)\">\n       <defs>\n        <path d=\"M 2034 2216 \nQ 1584 2216 1326 1975 \nQ 1069 1734 1069 1313 \nQ 1069 891 1326 650 \nQ 1584 409 2034 409 \nQ 2484 409 2743 651 \nQ 3003 894 3003 1313 \nQ 3003 1734 2745 1975 \nQ 2488 2216 2034 2216 \nz\nM 1403 2484 \nQ 997 2584 770 2862 \nQ 544 3141 544 3541 \nQ 544 4100 942 4425 \nQ 1341 4750 2034 4750 \nQ 2731 4750 3128 4425 \nQ 3525 4100 3525 3541 \nQ 3525 3141 3298 2862 \nQ 3072 2584 2669 2484 \nQ 3125 2378 3379 2068 \nQ 3634 1759 3634 1313 \nQ 3634 634 3220 271 \nQ 2806 -91 2034 -91 \nQ 1263 -91 848 271 \nQ 434 634 434 1313 \nQ 434 1759 690 2068 \nQ 947 2378 1403 2484 \nz\nM 1172 3481 \nQ 1172 3119 1398 2916 \nQ 1625 2713 2034 2713 \nQ 2441 2713 2670 2916 \nQ 2900 3119 2900 3481 \nQ 2900 3844 2670 4047 \nQ 2441 4250 2034 4250 \nQ 1625 4250 1398 4047 \nQ 1172 3844 1172 3481 \nz\n\" id=\"DejaVuSans-38\" transform=\"scale(0.015625)\"/>\n       </defs>\n       <use xlink:href=\"#DejaVuSans-38\"/>\n      </g>\n     </g>\n    </g>\n    <g id=\"xtick_6\">\n     <g id=\"line2d_6\">\n      <g>\n       <use style=\"stroke:#000000;stroke-width:0.8;\" x=\"364.903125\" xlink:href=\"#m771171460b\" y=\"224.64\"/>\n      </g>\n     </g>\n     <g id=\"text_6\">\n      <!-- 10 -->\n      <g transform=\"translate(358.540625 239.238437)scale(0.1 -0.1)\">\n       <defs>\n        <path d=\"M 794 531 \nL 1825 531 \nL 1825 4091 \nL 703 3866 \nL 703 4441 \nL 1819 4666 \nL 2450 4666 \nL 2450 531 \nL 3481 531 \nL 3481 0 \nL 794 0 \nL 794 531 \nz\n\" id=\"DejaVuSans-31\" transform=\"scale(0.015625)\"/>\n       </defs>\n       <use xlink:href=\"#DejaVuSans-31\"/>\n       <use x=\"63.623047\" xlink:href=\"#DejaVuSans-30\"/>\n      </g>\n     </g>\n    </g>\n   </g>\n   <g id=\"matplotlib.axis_2\">\n    <g id=\"ytick_1\">\n     <g id=\"line2d_7\">\n      <defs>\n       <path d=\"M 0 0 \nL -3.5 0 \n\" id=\"m43b2d55e96\" style=\"stroke:#000000;stroke-width:0.8;\"/>\n      </defs>\n      <g>\n       <use style=\"stroke:#000000;stroke-width:0.8;\" x=\"30.103125\" xlink:href=\"#m43b2d55e96\" y=\"214.756364\"/>\n      </g>\n     </g>\n     <g id=\"text_7\">\n      <!-- 0.0 -->\n      <g transform=\"translate(7.2 218.555582)scale(0.1 -0.1)\">\n       <defs>\n        <path d=\"M 684 794 \nL 1344 794 \nL 1344 0 \nL 684 0 \nL 684 794 \nz\n\" id=\"DejaVuSans-2e\" transform=\"scale(0.015625)\"/>\n       </defs>\n       <use xlink:href=\"#DejaVuSans-30\"/>\n       <use x=\"63.623047\" xlink:href=\"#DejaVuSans-2e\"/>\n       <use x=\"95.410156\" xlink:href=\"#DejaVuSans-30\"/>\n      </g>\n     </g>\n    </g>\n    <g id=\"ytick_2\">\n     <g id=\"line2d_8\">\n      <g>\n       <use style=\"stroke:#000000;stroke-width:0.8;\" x=\"30.103125\" xlink:href=\"#m43b2d55e96\" y=\"181.810909\"/>\n      </g>\n     </g>\n     <g id=\"text_8\">\n      <!-- 0.5 -->\n      <g transform=\"translate(7.2 185.610128)scale(0.1 -0.1)\">\n       <defs>\n        <path d=\"M 691 4666 \nL 3169 4666 \nL 3169 4134 \nL 1269 4134 \nL 1269 2991 \nQ 1406 3038 1543 3061 \nQ 1681 3084 1819 3084 \nQ 2600 3084 3056 2656 \nQ 3513 2228 3513 1497 \nQ 3513 744 3044 326 \nQ 2575 -91 1722 -91 \nQ 1428 -91 1123 -41 \nQ 819 9 494 109 \nL 494 744 \nQ 775 591 1075 516 \nQ 1375 441 1709 441 \nQ 2250 441 2565 725 \nQ 2881 1009 2881 1497 \nQ 2881 1984 2565 2268 \nQ 2250 2553 1709 2553 \nQ 1456 2553 1204 2497 \nQ 953 2441 691 2322 \nL 691 4666 \nz\n\" id=\"DejaVuSans-35\" transform=\"scale(0.015625)\"/>\n       </defs>\n       <use xlink:href=\"#DejaVuSans-30\"/>\n       <use x=\"63.623047\" xlink:href=\"#DejaVuSans-2e\"/>\n       <use x=\"95.410156\" xlink:href=\"#DejaVuSans-35\"/>\n      </g>\n     </g>\n    </g>\n    <g id=\"ytick_3\">\n     <g id=\"line2d_9\">\n      <g>\n       <use style=\"stroke:#000000;stroke-width:0.8;\" x=\"30.103125\" xlink:href=\"#m43b2d55e96\" y=\"148.865455\"/>\n      </g>\n     </g>\n     <g id=\"text_9\">\n      <!-- 1.0 -->\n      <g transform=\"translate(7.2 152.664673)scale(0.1 -0.1)\">\n       <use xlink:href=\"#DejaVuSans-31\"/>\n       <use x=\"63.623047\" xlink:href=\"#DejaVuSans-2e\"/>\n       <use x=\"95.410156\" xlink:href=\"#DejaVuSans-30\"/>\n      </g>\n     </g>\n    </g>\n    <g id=\"ytick_4\">\n     <g id=\"line2d_10\">\n      <g>\n       <use style=\"stroke:#000000;stroke-width:0.8;\" x=\"30.103125\" xlink:href=\"#m43b2d55e96\" y=\"115.92\"/>\n      </g>\n     </g>\n     <g id=\"text_10\">\n      <!-- 1.5 -->\n      <g transform=\"translate(7.2 119.719219)scale(0.1 -0.1)\">\n       <use xlink:href=\"#DejaVuSans-31\"/>\n       <use x=\"63.623047\" xlink:href=\"#DejaVuSans-2e\"/>\n       <use x=\"95.410156\" xlink:href=\"#DejaVuSans-35\"/>\n      </g>\n     </g>\n    </g>\n    <g id=\"ytick_5\">\n     <g id=\"line2d_11\">\n      <g>\n       <use style=\"stroke:#000000;stroke-width:0.8;\" x=\"30.103125\" xlink:href=\"#m43b2d55e96\" y=\"82.974545\"/>\n      </g>\n     </g>\n     <g id=\"text_11\">\n      <!-- 2.0 -->\n      <g transform=\"translate(7.2 86.773764)scale(0.1 -0.1)\">\n       <use xlink:href=\"#DejaVuSans-32\"/>\n       <use x=\"63.623047\" xlink:href=\"#DejaVuSans-2e\"/>\n       <use x=\"95.410156\" xlink:href=\"#DejaVuSans-30\"/>\n      </g>\n     </g>\n    </g>\n    <g id=\"ytick_6\">\n     <g id=\"line2d_12\">\n      <g>\n       <use style=\"stroke:#000000;stroke-width:0.8;\" x=\"30.103125\" xlink:href=\"#m43b2d55e96\" y=\"50.029091\"/>\n      </g>\n     </g>\n     <g id=\"text_12\">\n      <!-- 2.5 -->\n      <g transform=\"translate(7.2 53.82831)scale(0.1 -0.1)\">\n       <use xlink:href=\"#DejaVuSans-32\"/>\n       <use x=\"63.623047\" xlink:href=\"#DejaVuSans-2e\"/>\n       <use x=\"95.410156\" xlink:href=\"#DejaVuSans-35\"/>\n      </g>\n     </g>\n    </g>\n    <g id=\"ytick_7\">\n     <g id=\"line2d_13\">\n      <g>\n       <use style=\"stroke:#000000;stroke-width:0.8;\" x=\"30.103125\" xlink:href=\"#m43b2d55e96\" y=\"17.083636\"/>\n      </g>\n     </g>\n     <g id=\"text_13\">\n      <!-- 3.0 -->\n      <g transform=\"translate(7.2 20.882855)scale(0.1 -0.1)\">\n       <defs>\n        <path d=\"M 2597 2516 \nQ 3050 2419 3304 2112 \nQ 3559 1806 3559 1356 \nQ 3559 666 3084 287 \nQ 2609 -91 1734 -91 \nQ 1441 -91 1130 -33 \nQ 819 25 488 141 \nL 488 750 \nQ 750 597 1062 519 \nQ 1375 441 1716 441 \nQ 2309 441 2620 675 \nQ 2931 909 2931 1356 \nQ 2931 1769 2642 2001 \nQ 2353 2234 1838 2234 \nL 1294 2234 \nL 1294 2753 \nL 1863 2753 \nQ 2328 2753 2575 2939 \nQ 2822 3125 2822 3475 \nQ 2822 3834 2567 4026 \nQ 2313 4219 1838 4219 \nQ 1578 4219 1281 4162 \nQ 984 4106 628 3988 \nL 628 4550 \nQ 988 4650 1302 4700 \nQ 1616 4750 1894 4750 \nQ 2613 4750 3031 4423 \nQ 3450 4097 3450 3541 \nQ 3450 3153 3228 2886 \nQ 3006 2619 2597 2516 \nz\n\" id=\"DejaVuSans-33\" transform=\"scale(0.015625)\"/>\n       </defs>\n       <use xlink:href=\"#DejaVuSans-33\"/>\n       <use x=\"63.623047\" xlink:href=\"#DejaVuSans-2e\"/>\n       <use x=\"95.410156\" xlink:href=\"#DejaVuSans-30\"/>\n      </g>\n     </g>\n    </g>\n   </g>\n   <g id=\"line2d_14\">\n    <path clip-path=\"url(#p68b140965d)\" d=\"M 30.103125 214.756364 \nL 63.583125 148.865455 \nL 97.063125 82.974545 \nL 130.543125 17.083636 \n\" style=\"fill:none;stroke:#1f77b4;stroke-linecap:square;stroke-width:1.5;\"/>\n   </g>\n   <g id=\"patch_3\">\n    <path d=\"M 30.103125 224.64 \nL 30.103125 7.2 \n\" style=\"fill:none;stroke:#000000;stroke-linecap:square;stroke-linejoin:miter;stroke-width:0.8;\"/>\n   </g>\n   <g id=\"patch_4\">\n    <path d=\"M 364.903125 224.64 \nL 364.903125 7.2 \n\" style=\"fill:none;stroke:#000000;stroke-linecap:square;stroke-linejoin:miter;stroke-width:0.8;\"/>\n   </g>\n   <g id=\"patch_5\">\n    <path d=\"M 30.103125 224.64 \nL 364.903125 224.64 \n\" style=\"fill:none;stroke:#000000;stroke-linecap:square;stroke-linejoin:miter;stroke-width:0.8;\"/>\n   </g>\n   <g id=\"patch_6\">\n    <path d=\"M 30.103125 7.2 \nL 364.903125 7.2 \n\" style=\"fill:none;stroke:#000000;stroke-linecap:square;stroke-linejoin:miter;stroke-width:0.8;\"/>\n   </g>\n  </g>\n </g>\n <defs>\n  <clipPath id=\"p68b140965d\">\n   <rect height=\"217.44\" width=\"334.8\" x=\"30.103125\" y=\"7.2\"/>\n  </clipPath>\n </defs>\n</svg>\n"
     },
     "metadata": {
      "needs_background": "light"
     }
    }
   ],
   "metadata": {}
  },
  {
   "cell_type": "code",
   "execution_count": 9,
   "source": [
    "from collections import deque as dq\n",
    "from random import random"
   ],
   "outputs": [],
   "metadata": {}
  },
  {
   "cell_type": "code",
   "execution_count": 18,
   "source": [
    "random()"
   ],
   "outputs": [
    {
     "output_type": "execute_result",
     "data": {
      "text/plain": [
       "0.9073787138088597"
      ]
     },
     "metadata": {},
     "execution_count": 18
    }
   ],
   "metadata": {}
  },
  {
   "cell_type": "code",
   "execution_count": 19,
   "source": [
    "y_vals = dq(maxlen=10)"
   ],
   "outputs": [],
   "metadata": {}
  },
  {
   "cell_type": "code",
   "execution_count": 26,
   "source": [
    "y_vals.append(1)"
   ],
   "outputs": [],
   "metadata": {}
  },
  {
   "cell_type": "code",
   "execution_count": 27,
   "source": [
    "y_vals"
   ],
   "outputs": [
    {
     "output_type": "execute_result",
     "data": {
      "text/plain": [
       "deque([1, 1, 1, 1, 1, 1])"
      ]
     },
     "metadata": {},
     "execution_count": 27
    }
   ],
   "metadata": {}
  },
  {
   "cell_type": "code",
   "execution_count": 33,
   "source": [
    "np.array(y_vals)"
   ],
   "outputs": [
    {
     "output_type": "execute_result",
     "data": {
      "text/plain": [
       "array([1, 1, 1, 1, 1, 1])"
      ]
     },
     "metadata": {},
     "execution_count": 33
    }
   ],
   "metadata": {}
  },
  {
   "cell_type": "code",
   "execution_count": 1,
   "source": [
    "from model import *"
   ],
   "outputs": [],
   "metadata": {}
  },
  {
   "cell_type": "code",
   "execution_count": 12,
   "source": [
    "x = get_min_price_step('BTCUSDT')"
   ],
   "outputs": [],
   "metadata": {}
  },
  {
   "cell_type": "code",
   "execution_count": 4,
   "source": [
    "type(x)"
   ],
   "outputs": [
    {
     "output_type": "execute_result",
     "data": {
      "text/plain": [
       "str"
      ]
     },
     "metadata": {},
     "execution_count": 4
    }
   ],
   "metadata": {}
  },
  {
   "cell_type": "code",
   "execution_count": 10,
   "source": [
    "x = '1000'"
   ],
   "outputs": [],
   "metadata": {}
  },
  {
   "cell_type": "code",
   "execution_count": 13,
   "source": [
    "x.split('.')"
   ],
   "outputs": [
    {
     "output_type": "execute_result",
     "data": {
      "text/plain": [
       "['0', '01']"
      ]
     },
     "metadata": {},
     "execution_count": 13
    }
   ],
   "metadata": {}
  },
  {
   "cell_type": "code",
   "execution_count": 14,
   "source": [
    "x"
   ],
   "outputs": [
    {
     "output_type": "execute_result",
     "data": {
      "text/plain": [
       "'0.01'"
      ]
     },
     "metadata": {},
     "execution_count": 14
    }
   ],
   "metadata": {}
  },
  {
   "cell_type": "code",
   "execution_count": 23,
   "source": [
    "x='{0:.'+str(6)+'f}'\n",
    "x.format(2)"
   ],
   "outputs": [
    {
     "output_type": "execute_result",
     "data": {
      "text/plain": [
       "'2.000000'"
      ]
     },
     "metadata": {},
     "execution_count": 23
    }
   ],
   "metadata": {}
  },
  {
   "cell_type": "code",
   "execution_count": 1,
   "source": [
    "x = {'e': 'kline', 'E': 1625560567028, 's': 'BTCUSDT', 'k': {'t': 1625529600000, 'T': 1625615999999, 's': 'BTCUSDT', 'i': '1d', 'f': 1146958150, 'L': 1148441773, 'o': '33672.72', 'c': '34810.62', 'h': '34948.00', 'l': '33603.70', 'v': '200284.702', 'n': 1483583, 'x': False, 'q': '6881249977.54822', 'V': '104051.141', 'Q': '3574917371.79092', 'B': '0'}}"
   ],
   "outputs": [],
   "metadata": {}
  },
  {
   "cell_type": "code",
   "execution_count": 2,
   "source": [
    "x"
   ],
   "outputs": [
    {
     "output_type": "execute_result",
     "data": {
      "text/plain": [
       "{'e': 'kline',\n",
       " 'E': 1625560567028,\n",
       " 's': 'BTCUSDT',\n",
       " 'k': {'t': 1625529600000,\n",
       "  'T': 1625615999999,\n",
       "  's': 'BTCUSDT',\n",
       "  'i': '1d',\n",
       "  'f': 1146958150,\n",
       "  'L': 1148441773,\n",
       "  'o': '33672.72',\n",
       "  'c': '34810.62',\n",
       "  'h': '34948.00',\n",
       "  'l': '33603.70',\n",
       "  'v': '200284.702',\n",
       "  'n': 1483583,\n",
       "  'x': False,\n",
       "  'q': '6881249977.54822',\n",
       "  'V': '104051.141',\n",
       "  'Q': '3574917371.79092',\n",
       "  'B': '0'}}"
      ]
     },
     "metadata": {},
     "execution_count": 2
    }
   ],
   "metadata": {}
  },
  {
   "cell_type": "code",
   "execution_count": 1,
   "source": [
    "from screener.func import *"
   ],
   "outputs": [],
   "metadata": {}
  },
  {
   "cell_type": "code",
   "execution_count": 2,
   "source": [
    "x=get_market_cap()"
   ],
   "outputs": [],
   "metadata": {}
  },
  {
   "cell_type": "code",
   "execution_count": 3,
   "source": [
    "x"
   ],
   "outputs": [
    {
     "output_type": "execute_result",
     "data": {
      "text/plain": [
       "{'BTCUSDT': 607523865014.5,\n",
       " '1INCHUSDT': 439387281.2572,\n",
       " 'AAVEUSDT': 3599986490.6600003,\n",
       " 'ADAUSDT': 43207408983.8225,\n",
       " 'AKROUSDT': 53309763.78543,\n",
       " 'ALGOUSDT': 2678265680.9282,\n",
       " 'ALICEUSDT': 106942140.0,\n",
       " 'ALPHAUSDT': 213470328.66250002,\n",
       " 'ANKRUSDT': 495123388.95747,\n",
       " 'ATOMUSDT': 2572773741.929,\n",
       " 'AVAXUSDT': 2065397186.5559998,\n",
       " 'AXSUSDT': 781199595.0,\n",
       " 'BAKEUSDT': 592201882.6373,\n",
       " 'BALUSDT': 156875029.952,\n",
       " 'BANDUSDT': 214951642.66799998,\n",
       " 'BATUSDT': 0.0,\n",
       " 'BCHUSDT': 9102944578.5,\n",
       " 'BELUSDT': 37050300.0,\n",
       " 'BLZUSDT': 43919485.7616,\n",
       " 'BTTUSDT': 1641962131.0000002,\n",
       " 'BZRXUSDT': 50666277.5356,\n",
       " 'CELRUSDT': 158794180.60275,\n",
       " 'CHRUSDT': 68719981.33,\n",
       " 'CHZUSDT': 1481916785.5796099,\n",
       " 'COMPUSDT': 22160035067448.6,\n",
       " 'COTIUSDT': 88452593.23266,\n",
       " 'CRVUSDT': 678809601.264,\n",
       " 'CTKUSDT': 48804396.392400004,\n",
       " 'CVCUSDT': 165302400.0,\n",
       " 'DASHUSDT': 1299856416.72,\n",
       " 'DENTUSDT': 224457698.7256788,\n",
       " 'DGBUSDT': 599616476.0835199,\n",
       " 'DODOUSDT': 111546932.68499999,\n",
       " 'DOGEUSDT': 27609687442.491,\n",
       " 'DOTUSDT': 14813781199.034,\n",
       " 'EGLDUSDT': 1628898821.0,\n",
       " 'ENJUSDT': 1075035649.4085,\n",
       " 'EOSUSDT': 3437503095.0955,\n",
       " 'ETCUSDT': 5714937633.066,\n",
       " 'FILUSDT': 4753383353.2,\n",
       " 'FLMUSDT': 57075000.0,\n",
       " 'FTMUSDT': 0.0,\n",
       " 'GRTUSDT': 0.0,\n",
       " 'GTCUSDT': 0.0,\n",
       " 'HBARUSDT': 1558779001.77832,\n",
       " 'HNTUSDT': 1095979577.404,\n",
       " 'HOTUSDT': 4033692.0,\n",
       " 'ICPUSDT': 5696376294.54,\n",
       " 'ICXUSDT': 599290516.2384,\n",
       " 'IOSTUSDT': 347826935.607725,\n",
       " 'IOTAUSDT': 2291444765.3052,\n",
       " 'KAVAUSDT': 307732911.5268,\n",
       " 'KEEPUSDT': 160758685.6875,\n",
       " 'KNCUSDT': 313513945.668,\n",
       " 'KSMUSDT': 1825644922.9199998,\n",
       " 'LINAUSDT': 0.0,\n",
       " 'LINKUSDT': 8128814713.9539995,\n",
       " 'LITUSDT': 88936819.1667,\n",
       " 'LRCUSDT': 291956309.746,\n",
       " 'LTCUSDT': 8669803660.199999,\n",
       " 'LUNAUSDT': 11185642.094999999,\n",
       " 'MANAUSDT': 1244768801.9935,\n",
       " 'MATICUSDT': 6722032601.6032505,\n",
       " 'MKRUSDT': 2612656743.2,\n",
       " 'MTLUSDT': 104942152.0,\n",
       " 'NEARUSDT': 870621898.1912999,\n",
       " 'NEOUSDT': 2371656575.882,\n",
       " 'OCEANUSDT': 273810076.3706,\n",
       " 'OGNUSDT': 221359248.53460002,\n",
       " 'OMGUSDT': 578343972.2724,\n",
       " 'ONEUSDT': 0.0,\n",
       " 'ONTUSDT': 604673591.91,\n",
       " 'QTUMUSDT': 639937063.584,\n",
       " 'REEFUSDT': 189328676.701086,\n",
       " 'RLCUSDT': 253816406.73070002,\n",
       " 'RSRUSDT': 318735175.78,\n",
       " 'RUNEUSDT': 0.0,\n",
       " 'RVNUSDT': 456137871.0,\n",
       " 'SANDUSDT': 331812377.872,\n",
       " 'SCUSDT': 640388051.5569121,\n",
       " 'SFPUSDT': 78950850.2433,\n",
       " 'SKLUSDT': 222712792.11675,\n",
       " 'SNXUSDT': 1117063591.491,\n",
       " 'SOLUSDT': 9371911587.5,\n",
       " 'SRMUSDT': 166135000.0,\n",
       " 'STMXUSDT': 183730000.0,\n",
       " 'STORJUSDT': 265487765.0596,\n",
       " 'SUSHIUSDT': 1041114032.626,\n",
       " 'SXPUSDT': 187507164.94,\n",
       " 'THETAUSDT': 6535000000.0,\n",
       " 'TOMOUSDT': 161758819.53,\n",
       " 'TRBUSDT': 67276733.73,\n",
       " 'TRXUSDT': 4359773554.32996,\n",
       " 'UNFIUSDT': 0.0,\n",
       " 'UNIUSDT': 2169468632.6280003,\n",
       " 'VETUSDT': 4929145820.43696,\n",
       " 'WAVESUSDT': 1639038399.3,\n",
       " 'XEMUSDT': 1110599999.8766,\n",
       " 'XLMUSDT': 5605645961.8236,\n",
       " 'XMRUSDT': 3704662367.16,\n",
       " 'XRPUSDT': 28589588143.3584,\n",
       " 'XTZUSDT': 2268687535.877,\n",
       " 'YFIIUSDT': 80278522.11999999,\n",
       " 'YFIUSDT': 1194694826.25,\n",
       " 'ZECUSDT': 1361102303.22,\n",
       " 'ZENUSDT': 683045921.48,\n",
       " 'ZILUSDT': 858169866.18973,\n",
       " 'ZRXUSDT': 608717618.6931,\n",
       " 'BNBUSDT': 48007619142.329994,\n",
       " 'ETHUSDT': 253407960484.12,\n",
       " 'RENUSDT': 363874207.06919,\n",
       " 'NKNUSDT': 147112000.0,\n",
       " 'BTSUSDT': 0.0}"
      ]
     },
     "metadata": {},
     "execution_count": 3
    }
   ],
   "metadata": {}
  },
  {
   "cell_type": "code",
   "execution_count": 7,
   "source": [
    "from tradecalc import *\n",
    "x = split_position('-33.3214', 1, '0.0001')\n",
    "s = sum(x)\n",
    "print(s)\n",
    "print(x)"
   ],
   "outputs": [
    {
     "output_type": "stream",
     "name": "stdout",
     "text": [
      "0.0000\n",
      "33.3214\n",
      "[33.3214]\n"
     ]
    }
   ],
   "metadata": {}
  },
  {
   "cell_type": "code",
   "execution_count": 5,
   "source": [
    "x = split_position('3123', 3, '0.001')\n",
    "sum(x)"
   ],
   "outputs": [
    {
     "output_type": "stream",
     "name": "stdout",
     "text": [
      "3\n"
     ]
    },
    {
     "output_type": "execute_result",
     "data": {
      "text/plain": [
       "3123.0029999999997"
      ]
     },
     "metadata": {},
     "execution_count": 5
    }
   ],
   "metadata": {}
  },
  {
   "cell_type": "code",
   "execution_count": null,
   "source": [],
   "outputs": [],
   "metadata": {}
  }
 ],
 "metadata": {
  "interpreter": {
   "hash": "2554e3954a55011ec49b9ed6ab087f3d10e15c744110fb59f3cc88c1f24fb9b6"
  },
  "kernelspec": {
   "display_name": "Python 3.6.5 64-bit",
   "name": "python3"
  },
  "language_info": {
   "codemirror_mode": {
    "name": "ipython",
    "version": 3
   },
   "file_extension": ".py",
   "mimetype": "text/x-python",
   "name": "python",
   "nbconvert_exporter": "python",
   "pygments_lexer": "ipython3",
   "version": "3.6.5"
  },
  "metadata": {
   "interpreter": {
    "hash": "7177d64566fc45fea1f90137e880bab6d2acea3a018929f123d8937510dd0912"
   }
  },
  "orig_nbformat": 2
 },
 "nbformat": 4,
 "nbformat_minor": 2
}